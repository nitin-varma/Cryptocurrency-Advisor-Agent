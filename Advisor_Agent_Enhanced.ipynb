{
  "cells": [
    {
      "cell_type": "code",
      "execution_count": 1,
      "metadata": {
        "id": "4ef5KWCITZPd",
        "colab": {
          "base_uri": "https://localhost:8080/"
        },
        "outputId": "772df463-707e-46d2-c249-50763726d772"
      },
      "outputs": [
        {
          "output_type": "stream",
          "name": "stdout",
          "text": [
            "Requirement already satisfied: langchain in /usr/local/lib/python3.11/dist-packages (0.3.24)\n",
            "Requirement already satisfied: langchain-core in /usr/local/lib/python3.11/dist-packages (0.3.55)\n",
            "Collecting langchain-community\n",
            "  Downloading langchain_community-0.3.22-py3-none-any.whl.metadata (2.4 kB)\n",
            "Collecting langgraph\n",
            "  Downloading langgraph-0.3.34-py3-none-any.whl.metadata (7.9 kB)\n",
            "Requirement already satisfied: pydantic in /usr/local/lib/python3.11/dist-packages (2.11.3)\n",
            "Requirement already satisfied: PyYAML in /usr/local/lib/python3.11/dist-packages (6.0.2)\n",
            "Collecting pdfplumber\n",
            "  Downloading pdfplumber-0.11.6-py3-none-any.whl.metadata (42 kB)\n",
            "\u001b[2K     \u001b[90m━━━━━━━━━━━━━━━━━━━━━━━━━━━━━━━━━━━━━━━━\u001b[0m \u001b[32m42.8/42.8 kB\u001b[0m \u001b[31m1.5 MB/s\u001b[0m eta \u001b[36m0:00:00\u001b[0m\n",
            "\u001b[?25hCollecting faiss-cpu\n",
            "  Downloading faiss_cpu-1.10.0-cp311-cp311-manylinux_2_28_x86_64.whl.metadata (4.4 kB)\n",
            "Requirement already satisfied: sentence-transformers in /usr/local/lib/python3.11/dist-packages (3.4.1)\n",
            "Collecting streamlit\n",
            "  Downloading streamlit-1.44.1-py3-none-any.whl.metadata (8.9 kB)\n",
            "Requirement already satisfied: pandas in /usr/local/lib/python3.11/dist-packages (2.2.2)\n",
            "Requirement already satisfied: langchain-text-splitters<1.0.0,>=0.3.8 in /usr/local/lib/python3.11/dist-packages (from langchain) (0.3.8)\n",
            "Requirement already satisfied: langsmith<0.4,>=0.1.17 in /usr/local/lib/python3.11/dist-packages (from langchain) (0.3.33)\n",
            "Requirement already satisfied: SQLAlchemy<3,>=1.4 in /usr/local/lib/python3.11/dist-packages (from langchain) (2.0.40)\n",
            "Requirement already satisfied: requests<3,>=2 in /usr/local/lib/python3.11/dist-packages (from langchain) (2.32.3)\n",
            "Requirement already satisfied: tenacity!=8.4.0,<10.0.0,>=8.1.0 in /usr/local/lib/python3.11/dist-packages (from langchain-core) (9.1.2)\n",
            "Requirement already satisfied: jsonpatch<2.0,>=1.33 in /usr/local/lib/python3.11/dist-packages (from langchain-core) (1.33)\n",
            "Requirement already satisfied: packaging<25,>=23.2 in /usr/local/lib/python3.11/dist-packages (from langchain-core) (24.2)\n",
            "Requirement already satisfied: typing-extensions>=4.7 in /usr/local/lib/python3.11/dist-packages (from langchain-core) (4.13.2)\n",
            "Requirement already satisfied: aiohttp<4.0.0,>=3.8.3 in /usr/local/lib/python3.11/dist-packages (from langchain-community) (3.11.15)\n",
            "Collecting dataclasses-json<0.7,>=0.5.7 (from langchain-community)\n",
            "  Downloading dataclasses_json-0.6.7-py3-none-any.whl.metadata (25 kB)\n",
            "Collecting pydantic-settings<3.0.0,>=2.4.0 (from langchain-community)\n",
            "  Downloading pydantic_settings-2.9.1-py3-none-any.whl.metadata (3.8 kB)\n",
            "Collecting httpx-sse<1.0.0,>=0.4.0 (from langchain-community)\n",
            "  Downloading httpx_sse-0.4.0-py3-none-any.whl.metadata (9.0 kB)\n",
            "Requirement already satisfied: numpy>=1.26.2 in /usr/local/lib/python3.11/dist-packages (from langchain-community) (2.0.2)\n",
            "Collecting langgraph-checkpoint<3.0.0,>=2.0.10 (from langgraph)\n",
            "  Downloading langgraph_checkpoint-2.0.25-py3-none-any.whl.metadata (4.6 kB)\n",
            "Collecting langgraph-prebuilt<0.2,>=0.1.8 (from langgraph)\n",
            "  Downloading langgraph_prebuilt-0.1.8-py3-none-any.whl.metadata (5.0 kB)\n",
            "Collecting langgraph-sdk<0.2.0,>=0.1.42 (from langgraph)\n",
            "  Downloading langgraph_sdk-0.1.63-py3-none-any.whl.metadata (1.8 kB)\n",
            "Collecting xxhash<4.0.0,>=3.5.0 (from langgraph)\n",
            "  Downloading xxhash-3.5.0-cp311-cp311-manylinux_2_17_x86_64.manylinux2014_x86_64.whl.metadata (12 kB)\n",
            "Requirement already satisfied: annotated-types>=0.6.0 in /usr/local/lib/python3.11/dist-packages (from pydantic) (0.7.0)\n",
            "Requirement already satisfied: pydantic-core==2.33.1 in /usr/local/lib/python3.11/dist-packages (from pydantic) (2.33.1)\n",
            "Requirement already satisfied: typing-inspection>=0.4.0 in /usr/local/lib/python3.11/dist-packages (from pydantic) (0.4.0)\n",
            "Collecting pdfminer.six==20250327 (from pdfplumber)\n",
            "  Downloading pdfminer_six-20250327-py3-none-any.whl.metadata (4.1 kB)\n",
            "Requirement already satisfied: Pillow>=9.1 in /usr/local/lib/python3.11/dist-packages (from pdfplumber) (11.1.0)\n",
            "Collecting pypdfium2>=4.18.0 (from pdfplumber)\n",
            "  Downloading pypdfium2-4.30.1-py3-none-manylinux_2_17_x86_64.manylinux2014_x86_64.whl.metadata (48 kB)\n",
            "\u001b[2K     \u001b[90m━━━━━━━━━━━━━━━━━━━━━━━━━━━━━━━━━━━━━━━━\u001b[0m \u001b[32m48.2/48.2 kB\u001b[0m \u001b[31m4.3 MB/s\u001b[0m eta \u001b[36m0:00:00\u001b[0m\n",
            "\u001b[?25hRequirement already satisfied: charset-normalizer>=2.0.0 in /usr/local/lib/python3.11/dist-packages (from pdfminer.six==20250327->pdfplumber) (3.4.1)\n",
            "Requirement already satisfied: cryptography>=36.0.0 in /usr/local/lib/python3.11/dist-packages (from pdfminer.six==20250327->pdfplumber) (43.0.3)\n",
            "Requirement already satisfied: transformers<5.0.0,>=4.41.0 in /usr/local/lib/python3.11/dist-packages (from sentence-transformers) (4.51.3)\n",
            "Requirement already satisfied: tqdm in /usr/local/lib/python3.11/dist-packages (from sentence-transformers) (4.67.1)\n",
            "Requirement already satisfied: torch>=1.11.0 in /usr/local/lib/python3.11/dist-packages (from sentence-transformers) (2.6.0+cu124)\n",
            "Requirement already satisfied: scikit-learn in /usr/local/lib/python3.11/dist-packages (from sentence-transformers) (1.6.1)\n",
            "Requirement already satisfied: scipy in /usr/local/lib/python3.11/dist-packages (from sentence-transformers) (1.14.1)\n",
            "Requirement already satisfied: huggingface-hub>=0.20.0 in /usr/local/lib/python3.11/dist-packages (from sentence-transformers) (0.30.2)\n",
            "Requirement already satisfied: altair<6,>=4.0 in /usr/local/lib/python3.11/dist-packages (from streamlit) (5.5.0)\n",
            "Requirement already satisfied: blinker<2,>=1.0.0 in /usr/local/lib/python3.11/dist-packages (from streamlit) (1.9.0)\n",
            "Requirement already satisfied: cachetools<6,>=4.0 in /usr/local/lib/python3.11/dist-packages (from streamlit) (5.5.2)\n",
            "Requirement already satisfied: click<9,>=7.0 in /usr/local/lib/python3.11/dist-packages (from streamlit) (8.1.8)\n",
            "Requirement already satisfied: protobuf<6,>=3.20 in /usr/local/lib/python3.11/dist-packages (from streamlit) (5.29.4)\n",
            "Requirement already satisfied: pyarrow>=7.0 in /usr/local/lib/python3.11/dist-packages (from streamlit) (18.1.0)\n",
            "Requirement already satisfied: toml<2,>=0.10.1 in /usr/local/lib/python3.11/dist-packages (from streamlit) (0.10.2)\n",
            "Collecting watchdog<7,>=2.1.5 (from streamlit)\n",
            "  Downloading watchdog-6.0.0-py3-none-manylinux2014_x86_64.whl.metadata (44 kB)\n",
            "\u001b[2K     \u001b[90m━━━━━━━━━━━━━━━━━━━━━━━━━━━━━━━━━━━━━━━━\u001b[0m \u001b[32m44.3/44.3 kB\u001b[0m \u001b[31m3.9 MB/s\u001b[0m eta \u001b[36m0:00:00\u001b[0m\n",
            "\u001b[?25hRequirement already satisfied: gitpython!=3.1.19,<4,>=3.0.7 in /usr/local/lib/python3.11/dist-packages (from streamlit) (3.1.44)\n",
            "Collecting pydeck<1,>=0.8.0b4 (from streamlit)\n",
            "  Downloading pydeck-0.9.1-py2.py3-none-any.whl.metadata (4.1 kB)\n",
            "Requirement already satisfied: tornado<7,>=6.0.3 in /usr/local/lib/python3.11/dist-packages (from streamlit) (6.4.2)\n",
            "Requirement already satisfied: python-dateutil>=2.8.2 in /usr/local/lib/python3.11/dist-packages (from pandas) (2.8.2)\n",
            "Requirement already satisfied: pytz>=2020.1 in /usr/local/lib/python3.11/dist-packages (from pandas) (2025.2)\n",
            "Requirement already satisfied: tzdata>=2022.7 in /usr/local/lib/python3.11/dist-packages (from pandas) (2025.2)\n",
            "Requirement already satisfied: aiohappyeyeballs>=2.3.0 in /usr/local/lib/python3.11/dist-packages (from aiohttp<4.0.0,>=3.8.3->langchain-community) (2.6.1)\n",
            "Requirement already satisfied: aiosignal>=1.1.2 in /usr/local/lib/python3.11/dist-packages (from aiohttp<4.0.0,>=3.8.3->langchain-community) (1.3.2)\n",
            "Requirement already satisfied: attrs>=17.3.0 in /usr/local/lib/python3.11/dist-packages (from aiohttp<4.0.0,>=3.8.3->langchain-community) (25.3.0)\n",
            "Requirement already satisfied: frozenlist>=1.1.1 in /usr/local/lib/python3.11/dist-packages (from aiohttp<4.0.0,>=3.8.3->langchain-community) (1.6.0)\n",
            "Requirement already satisfied: multidict<7.0,>=4.5 in /usr/local/lib/python3.11/dist-packages (from aiohttp<4.0.0,>=3.8.3->langchain-community) (6.4.3)\n",
            "Requirement already satisfied: propcache>=0.2.0 in /usr/local/lib/python3.11/dist-packages (from aiohttp<4.0.0,>=3.8.3->langchain-community) (0.3.1)\n",
            "Requirement already satisfied: yarl<2.0,>=1.17.0 in /usr/local/lib/python3.11/dist-packages (from aiohttp<4.0.0,>=3.8.3->langchain-community) (1.20.0)\n",
            "Requirement already satisfied: jinja2 in /usr/local/lib/python3.11/dist-packages (from altair<6,>=4.0->streamlit) (3.1.6)\n",
            "Requirement already satisfied: jsonschema>=3.0 in /usr/local/lib/python3.11/dist-packages (from altair<6,>=4.0->streamlit) (4.23.0)\n",
            "Requirement already satisfied: narwhals>=1.14.2 in /usr/local/lib/python3.11/dist-packages (from altair<6,>=4.0->streamlit) (1.35.0)\n",
            "Collecting marshmallow<4.0.0,>=3.18.0 (from dataclasses-json<0.7,>=0.5.7->langchain-community)\n",
            "  Downloading marshmallow-3.26.1-py3-none-any.whl.metadata (7.3 kB)\n",
            "Collecting typing-inspect<1,>=0.4.0 (from dataclasses-json<0.7,>=0.5.7->langchain-community)\n",
            "  Downloading typing_inspect-0.9.0-py3-none-any.whl.metadata (1.5 kB)\n",
            "Requirement already satisfied: gitdb<5,>=4.0.1 in /usr/local/lib/python3.11/dist-packages (from gitpython!=3.1.19,<4,>=3.0.7->streamlit) (4.0.12)\n",
            "Requirement already satisfied: filelock in /usr/local/lib/python3.11/dist-packages (from huggingface-hub>=0.20.0->sentence-transformers) (3.18.0)\n",
            "Requirement already satisfied: fsspec>=2023.5.0 in /usr/local/lib/python3.11/dist-packages (from huggingface-hub>=0.20.0->sentence-transformers) (2025.3.2)\n",
            "Requirement already satisfied: jsonpointer>=1.9 in /usr/local/lib/python3.11/dist-packages (from jsonpatch<2.0,>=1.33->langchain-core) (3.0.0)\n",
            "Collecting ormsgpack<2.0.0,>=1.8.0 (from langgraph-checkpoint<3.0.0,>=2.0.10->langgraph)\n",
            "  Downloading ormsgpack-1.9.1-cp311-cp311-manylinux_2_17_x86_64.manylinux2014_x86_64.whl.metadata (43 kB)\n",
            "\u001b[2K     \u001b[90m━━━━━━━━━━━━━━━━━━━━━━━━━━━━━━━━━━━━━━━━\u001b[0m \u001b[32m43.5/43.5 kB\u001b[0m \u001b[31m4.3 MB/s\u001b[0m eta \u001b[36m0:00:00\u001b[0m\n",
            "\u001b[?25hRequirement already satisfied: httpx>=0.25.2 in /usr/local/lib/python3.11/dist-packages (from langgraph-sdk<0.2.0,>=0.1.42->langgraph) (0.28.1)\n",
            "Requirement already satisfied: orjson>=3.10.1 in /usr/local/lib/python3.11/dist-packages (from langgraph-sdk<0.2.0,>=0.1.42->langgraph) (3.10.16)\n",
            "Requirement already satisfied: requests-toolbelt<2.0.0,>=1.0.0 in /usr/local/lib/python3.11/dist-packages (from langsmith<0.4,>=0.1.17->langchain) (1.0.0)\n",
            "Requirement already satisfied: zstandard<0.24.0,>=0.23.0 in /usr/local/lib/python3.11/dist-packages (from langsmith<0.4,>=0.1.17->langchain) (0.23.0)\n",
            "Collecting python-dotenv>=0.21.0 (from pydantic-settings<3.0.0,>=2.4.0->langchain-community)\n",
            "  Downloading python_dotenv-1.1.0-py3-none-any.whl.metadata (24 kB)\n",
            "Requirement already satisfied: six>=1.5 in /usr/local/lib/python3.11/dist-packages (from python-dateutil>=2.8.2->pandas) (1.17.0)\n",
            "Requirement already satisfied: idna<4,>=2.5 in /usr/local/lib/python3.11/dist-packages (from requests<3,>=2->langchain) (3.10)\n",
            "Requirement already satisfied: urllib3<3,>=1.21.1 in /usr/local/lib/python3.11/dist-packages (from requests<3,>=2->langchain) (2.3.0)\n",
            "Requirement already satisfied: certifi>=2017.4.17 in /usr/local/lib/python3.11/dist-packages (from requests<3,>=2->langchain) (2025.1.31)\n",
            "Requirement already satisfied: greenlet>=1 in /usr/local/lib/python3.11/dist-packages (from SQLAlchemy<3,>=1.4->langchain) (3.2.1)\n",
            "Requirement already satisfied: networkx in /usr/local/lib/python3.11/dist-packages (from torch>=1.11.0->sentence-transformers) (3.4.2)\n",
            "Collecting nvidia-cuda-nvrtc-cu12==12.4.127 (from torch>=1.11.0->sentence-transformers)\n",
            "  Downloading nvidia_cuda_nvrtc_cu12-12.4.127-py3-none-manylinux2014_x86_64.whl.metadata (1.5 kB)\n",
            "Collecting nvidia-cuda-runtime-cu12==12.4.127 (from torch>=1.11.0->sentence-transformers)\n",
            "  Downloading nvidia_cuda_runtime_cu12-12.4.127-py3-none-manylinux2014_x86_64.whl.metadata (1.5 kB)\n",
            "Collecting nvidia-cuda-cupti-cu12==12.4.127 (from torch>=1.11.0->sentence-transformers)\n",
            "  Downloading nvidia_cuda_cupti_cu12-12.4.127-py3-none-manylinux2014_x86_64.whl.metadata (1.6 kB)\n",
            "Collecting nvidia-cudnn-cu12==9.1.0.70 (from torch>=1.11.0->sentence-transformers)\n",
            "  Downloading nvidia_cudnn_cu12-9.1.0.70-py3-none-manylinux2014_x86_64.whl.metadata (1.6 kB)\n",
            "Collecting nvidia-cublas-cu12==12.4.5.8 (from torch>=1.11.0->sentence-transformers)\n",
            "  Downloading nvidia_cublas_cu12-12.4.5.8-py3-none-manylinux2014_x86_64.whl.metadata (1.5 kB)\n",
            "Collecting nvidia-cufft-cu12==11.2.1.3 (from torch>=1.11.0->sentence-transformers)\n",
            "  Downloading nvidia_cufft_cu12-11.2.1.3-py3-none-manylinux2014_x86_64.whl.metadata (1.5 kB)\n",
            "Collecting nvidia-curand-cu12==10.3.5.147 (from torch>=1.11.0->sentence-transformers)\n",
            "  Downloading nvidia_curand_cu12-10.3.5.147-py3-none-manylinux2014_x86_64.whl.metadata (1.5 kB)\n",
            "Collecting nvidia-cusolver-cu12==11.6.1.9 (from torch>=1.11.0->sentence-transformers)\n",
            "  Downloading nvidia_cusolver_cu12-11.6.1.9-py3-none-manylinux2014_x86_64.whl.metadata (1.6 kB)\n",
            "Collecting nvidia-cusparse-cu12==12.3.1.170 (from torch>=1.11.0->sentence-transformers)\n",
            "  Downloading nvidia_cusparse_cu12-12.3.1.170-py3-none-manylinux2014_x86_64.whl.metadata (1.6 kB)\n",
            "Requirement already satisfied: nvidia-cusparselt-cu12==0.6.2 in /usr/local/lib/python3.11/dist-packages (from torch>=1.11.0->sentence-transformers) (0.6.2)\n",
            "Requirement already satisfied: nvidia-nccl-cu12==2.21.5 in /usr/local/lib/python3.11/dist-packages (from torch>=1.11.0->sentence-transformers) (2.21.5)\n",
            "Requirement already satisfied: nvidia-nvtx-cu12==12.4.127 in /usr/local/lib/python3.11/dist-packages (from torch>=1.11.0->sentence-transformers) (12.4.127)\n",
            "Collecting nvidia-nvjitlink-cu12==12.4.127 (from torch>=1.11.0->sentence-transformers)\n",
            "  Downloading nvidia_nvjitlink_cu12-12.4.127-py3-none-manylinux2014_x86_64.whl.metadata (1.5 kB)\n",
            "Requirement already satisfied: triton==3.2.0 in /usr/local/lib/python3.11/dist-packages (from torch>=1.11.0->sentence-transformers) (3.2.0)\n",
            "Requirement already satisfied: sympy==1.13.1 in /usr/local/lib/python3.11/dist-packages (from torch>=1.11.0->sentence-transformers) (1.13.1)\n",
            "Requirement already satisfied: mpmath<1.4,>=1.1.0 in /usr/local/lib/python3.11/dist-packages (from sympy==1.13.1->torch>=1.11.0->sentence-transformers) (1.3.0)\n",
            "Requirement already satisfied: regex!=2019.12.17 in /usr/local/lib/python3.11/dist-packages (from transformers<5.0.0,>=4.41.0->sentence-transformers) (2024.11.6)\n",
            "Requirement already satisfied: tokenizers<0.22,>=0.21 in /usr/local/lib/python3.11/dist-packages (from transformers<5.0.0,>=4.41.0->sentence-transformers) (0.21.1)\n",
            "Requirement already satisfied: safetensors>=0.4.3 in /usr/local/lib/python3.11/dist-packages (from transformers<5.0.0,>=4.41.0->sentence-transformers) (0.5.3)\n",
            "Requirement already satisfied: joblib>=1.2.0 in /usr/local/lib/python3.11/dist-packages (from scikit-learn->sentence-transformers) (1.4.2)\n",
            "Requirement already satisfied: threadpoolctl>=3.1.0 in /usr/local/lib/python3.11/dist-packages (from scikit-learn->sentence-transformers) (3.6.0)\n",
            "Requirement already satisfied: cffi>=1.12 in /usr/local/lib/python3.11/dist-packages (from cryptography>=36.0.0->pdfminer.six==20250327->pdfplumber) (1.17.1)\n",
            "Requirement already satisfied: smmap<6,>=3.0.1 in /usr/local/lib/python3.11/dist-packages (from gitdb<5,>=4.0.1->gitpython!=3.1.19,<4,>=3.0.7->streamlit) (5.0.2)\n",
            "Requirement already satisfied: anyio in /usr/local/lib/python3.11/dist-packages (from httpx>=0.25.2->langgraph-sdk<0.2.0,>=0.1.42->langgraph) (4.9.0)\n",
            "Requirement already satisfied: httpcore==1.* in /usr/local/lib/python3.11/dist-packages (from httpx>=0.25.2->langgraph-sdk<0.2.0,>=0.1.42->langgraph) (1.0.8)\n",
            "Requirement already satisfied: h11<0.15,>=0.13 in /usr/local/lib/python3.11/dist-packages (from httpcore==1.*->httpx>=0.25.2->langgraph-sdk<0.2.0,>=0.1.42->langgraph) (0.14.0)\n",
            "Requirement already satisfied: MarkupSafe>=2.0 in /usr/local/lib/python3.11/dist-packages (from jinja2->altair<6,>=4.0->streamlit) (3.0.2)\n",
            "Requirement already satisfied: jsonschema-specifications>=2023.03.6 in /usr/local/lib/python3.11/dist-packages (from jsonschema>=3.0->altair<6,>=4.0->streamlit) (2024.10.1)\n",
            "Requirement already satisfied: referencing>=0.28.4 in /usr/local/lib/python3.11/dist-packages (from jsonschema>=3.0->altair<6,>=4.0->streamlit) (0.36.2)\n",
            "Requirement already satisfied: rpds-py>=0.7.1 in /usr/local/lib/python3.11/dist-packages (from jsonschema>=3.0->altair<6,>=4.0->streamlit) (0.24.0)\n",
            "Collecting mypy-extensions>=0.3.0 (from typing-inspect<1,>=0.4.0->dataclasses-json<0.7,>=0.5.7->langchain-community)\n",
            "  Downloading mypy_extensions-1.1.0-py3-none-any.whl.metadata (1.1 kB)\n",
            "Requirement already satisfied: pycparser in /usr/local/lib/python3.11/dist-packages (from cffi>=1.12->cryptography>=36.0.0->pdfminer.six==20250327->pdfplumber) (2.22)\n",
            "Requirement already satisfied: sniffio>=1.1 in /usr/local/lib/python3.11/dist-packages (from anyio->httpx>=0.25.2->langgraph-sdk<0.2.0,>=0.1.42->langgraph) (1.3.1)\n",
            "Downloading langchain_community-0.3.22-py3-none-any.whl (2.5 MB)\n",
            "\u001b[2K   \u001b[90m━━━━━━━━━━━━━━━━━━━━━━━━━━━━━━━━━━━━━━━━\u001b[0m \u001b[32m2.5/2.5 MB\u001b[0m \u001b[31m30.3 MB/s\u001b[0m eta \u001b[36m0:00:00\u001b[0m\n",
            "\u001b[?25hDownloading langgraph-0.3.34-py3-none-any.whl (148 kB)\n",
            "\u001b[2K   \u001b[90m━━━━━━━━━━━━━━━━━━━━━━━━━━━━━━━━━━━━━━━━\u001b[0m \u001b[32m148.2/148.2 kB\u001b[0m \u001b[31m16.3 MB/s\u001b[0m eta \u001b[36m0:00:00\u001b[0m\n",
            "\u001b[?25hDownloading pdfplumber-0.11.6-py3-none-any.whl (60 kB)\n",
            "\u001b[2K   \u001b[90m━━━━━━━━━━━━━━━━━━━━━━━━━━━━━━━━━━━━━━━━\u001b[0m \u001b[32m60.2/60.2 kB\u001b[0m \u001b[31m5.8 MB/s\u001b[0m eta \u001b[36m0:00:00\u001b[0m\n",
            "\u001b[?25hDownloading pdfminer_six-20250327-py3-none-any.whl (5.6 MB)\n",
            "\u001b[2K   \u001b[90m━━━━━━━━━━━━━━━━━━━━━━━━━━━━━━━━━━━━━━━━\u001b[0m \u001b[32m5.6/5.6 MB\u001b[0m \u001b[31m69.8 MB/s\u001b[0m eta \u001b[36m0:00:00\u001b[0m\n",
            "\u001b[?25hDownloading faiss_cpu-1.10.0-cp311-cp311-manylinux_2_28_x86_64.whl (30.7 MB)\n",
            "\u001b[2K   \u001b[90m━━━━━━━━━━━━━━━━━━━━━━━━━━━━━━━━━━━━━━━━\u001b[0m \u001b[32m30.7/30.7 MB\u001b[0m \u001b[31m46.0 MB/s\u001b[0m eta \u001b[36m0:00:00\u001b[0m\n",
            "\u001b[?25hDownloading streamlit-1.44.1-py3-none-any.whl (9.8 MB)\n",
            "\u001b[2K   \u001b[90m━━━━━━━━━━━━━━━━━━━━━━━━━━━━━━━━━━━━━━━━\u001b[0m \u001b[32m9.8/9.8 MB\u001b[0m \u001b[31m85.5 MB/s\u001b[0m eta \u001b[36m0:00:00\u001b[0m\n",
            "\u001b[?25hDownloading dataclasses_json-0.6.7-py3-none-any.whl (28 kB)\n",
            "Downloading httpx_sse-0.4.0-py3-none-any.whl (7.8 kB)\n",
            "Downloading langgraph_checkpoint-2.0.25-py3-none-any.whl (42 kB)\n",
            "\u001b[2K   \u001b[90m━━━━━━━━━━━━━━━━━━━━━━━━━━━━━━━━━━━━━━━━\u001b[0m \u001b[32m42.3/42.3 kB\u001b[0m \u001b[31m4.0 MB/s\u001b[0m eta \u001b[36m0:00:00\u001b[0m\n",
            "\u001b[?25hDownloading langgraph_prebuilt-0.1.8-py3-none-any.whl (25 kB)\n",
            "Downloading langgraph_sdk-0.1.63-py3-none-any.whl (47 kB)\n",
            "\u001b[2K   \u001b[90m━━━━━━━━━━━━━━━━━━━━━━━━━━━━━━━━━━━━━━━━\u001b[0m \u001b[32m47.3/47.3 kB\u001b[0m \u001b[31m5.0 MB/s\u001b[0m eta \u001b[36m0:00:00\u001b[0m\n",
            "\u001b[?25hDownloading pydantic_settings-2.9.1-py3-none-any.whl (44 kB)\n",
            "\u001b[2K   \u001b[90m━━━━━━━━━━━━━━━━━━━━━━━━━━━━━━━━━━━━━━━━\u001b[0m \u001b[32m44.4/44.4 kB\u001b[0m \u001b[31m4.3 MB/s\u001b[0m eta \u001b[36m0:00:00\u001b[0m\n",
            "\u001b[?25hDownloading pydeck-0.9.1-py2.py3-none-any.whl (6.9 MB)\n",
            "\u001b[2K   \u001b[90m━━━━━━━━━━━━━━━━━━━━━━━━━━━━━━━━━━━━━━━━\u001b[0m \u001b[32m6.9/6.9 MB\u001b[0m \u001b[31m79.2 MB/s\u001b[0m eta \u001b[36m0:00:00\u001b[0m\n",
            "\u001b[?25hDownloading pypdfium2-4.30.1-py3-none-manylinux_2_17_x86_64.manylinux2014_x86_64.whl (2.9 MB)\n",
            "\u001b[2K   \u001b[90m━━━━━━━━━━━━━━━━━━━━━━━━━━━━━━━━━━━━━━━━\u001b[0m \u001b[32m2.9/2.9 MB\u001b[0m \u001b[31m76.4 MB/s\u001b[0m eta \u001b[36m0:00:00\u001b[0m\n",
            "\u001b[?25hDownloading nvidia_cublas_cu12-12.4.5.8-py3-none-manylinux2014_x86_64.whl (363.4 MB)\n",
            "\u001b[2K   \u001b[90m━━━━━━━━━━━━━━━━━━━━━━━━━━━━━━━━━━━━━━━━\u001b[0m \u001b[32m363.4/363.4 MB\u001b[0m \u001b[31m4.3 MB/s\u001b[0m eta \u001b[36m0:00:00\u001b[0m\n",
            "\u001b[?25hDownloading nvidia_cuda_cupti_cu12-12.4.127-py3-none-manylinux2014_x86_64.whl (13.8 MB)\n",
            "\u001b[2K   \u001b[90m━━━━━━━━━━━━━━━━━━━━━━━━━━━━━━━━━━━━━━━━\u001b[0m \u001b[32m13.8/13.8 MB\u001b[0m \u001b[31m31.5 MB/s\u001b[0m eta \u001b[36m0:00:00\u001b[0m\n",
            "\u001b[?25hDownloading nvidia_cuda_nvrtc_cu12-12.4.127-py3-none-manylinux2014_x86_64.whl (24.6 MB)\n",
            "\u001b[2K   \u001b[90m━━━━━━━━━━━━━━━━━━━━━━━━━━━━━━━━━━━━━━━━\u001b[0m \u001b[32m24.6/24.6 MB\u001b[0m \u001b[31m78.7 MB/s\u001b[0m eta \u001b[36m0:00:00\u001b[0m\n",
            "\u001b[?25hDownloading nvidia_cuda_runtime_cu12-12.4.127-py3-none-manylinux2014_x86_64.whl (883 kB)\n",
            "\u001b[2K   \u001b[90m━━━━━━━━━━━━━━━━━━━━━━━━━━━━━━━━━━━━━━━━\u001b[0m \u001b[32m883.7/883.7 kB\u001b[0m \u001b[31m58.3 MB/s\u001b[0m eta \u001b[36m0:00:00\u001b[0m\n",
            "\u001b[?25hDownloading nvidia_cudnn_cu12-9.1.0.70-py3-none-manylinux2014_x86_64.whl (664.8 MB)\n",
            "\u001b[2K   \u001b[90m━━━━━━━━━━━━━━━━━━━━━━━━━━━━━━━━━━━━━━━━\u001b[0m \u001b[32m664.8/664.8 MB\u001b[0m \u001b[31m2.9 MB/s\u001b[0m eta \u001b[36m0:00:00\u001b[0m\n",
            "\u001b[?25hDownloading nvidia_cufft_cu12-11.2.1.3-py3-none-manylinux2014_x86_64.whl (211.5 MB)\n",
            "\u001b[2K   \u001b[90m━━━━━━━━━━━━━━━━━━━━━━━━━━━━━━━━━━━━━━━━\u001b[0m \u001b[32m211.5/211.5 MB\u001b[0m \u001b[31m5.5 MB/s\u001b[0m eta \u001b[36m0:00:00\u001b[0m\n",
            "\u001b[?25hDownloading nvidia_curand_cu12-10.3.5.147-py3-none-manylinux2014_x86_64.whl (56.3 MB)\n",
            "\u001b[2K   \u001b[90m━━━━━━━━━━━━━━━━━━━━━━━━━━━━━━━━━━━━━━━━\u001b[0m \u001b[32m56.3/56.3 MB\u001b[0m \u001b[31m12.2 MB/s\u001b[0m eta \u001b[36m0:00:00\u001b[0m\n",
            "\u001b[?25hDownloading nvidia_cusolver_cu12-11.6.1.9-py3-none-manylinux2014_x86_64.whl (127.9 MB)\n",
            "\u001b[2K   \u001b[90m━━━━━━━━━━━━━━━━━━━━━━━━━━━━━━━━━━━━━━━━\u001b[0m \u001b[32m127.9/127.9 MB\u001b[0m \u001b[31m7.5 MB/s\u001b[0m eta \u001b[36m0:00:00\u001b[0m\n",
            "\u001b[?25hDownloading nvidia_cusparse_cu12-12.3.1.170-py3-none-manylinux2014_x86_64.whl (207.5 MB)\n",
            "\u001b[2K   \u001b[90m━━━━━━━━━━━━━━━━━━━━━━━━━━━━━━━━━━━━━━━━\u001b[0m \u001b[32m207.5/207.5 MB\u001b[0m \u001b[31m6.0 MB/s\u001b[0m eta \u001b[36m0:00:00\u001b[0m\n",
            "\u001b[?25hDownloading nvidia_nvjitlink_cu12-12.4.127-py3-none-manylinux2014_x86_64.whl (21.1 MB)\n",
            "\u001b[2K   \u001b[90m━━━━━━━━━━━━━━━━━━━━━━━━━━━━━━━━━━━━━━━━\u001b[0m \u001b[32m21.1/21.1 MB\u001b[0m \u001b[31m40.4 MB/s\u001b[0m eta \u001b[36m0:00:00\u001b[0m\n",
            "\u001b[?25hDownloading watchdog-6.0.0-py3-none-manylinux2014_x86_64.whl (79 kB)\n",
            "\u001b[2K   \u001b[90m━━━━━━━━━━━━━━━━━━━━━━━━━━━━━━━━━━━━━━━━\u001b[0m \u001b[32m79.1/79.1 kB\u001b[0m \u001b[31m6.4 MB/s\u001b[0m eta \u001b[36m0:00:00\u001b[0m\n",
            "\u001b[?25hDownloading xxhash-3.5.0-cp311-cp311-manylinux_2_17_x86_64.manylinux2014_x86_64.whl (194 kB)\n",
            "\u001b[2K   \u001b[90m━━━━━━━━━━━━━━━━━━━━━━━━━━━━━━━━━━━━━━━━\u001b[0m \u001b[32m194.8/194.8 kB\u001b[0m \u001b[31m19.1 MB/s\u001b[0m eta \u001b[36m0:00:00\u001b[0m\n",
            "\u001b[?25hDownloading marshmallow-3.26.1-py3-none-any.whl (50 kB)\n",
            "\u001b[2K   \u001b[90m━━━━━━━━━━━━━━━━━━━━━━━━━━━━━━━━━━━━━━━━\u001b[0m \u001b[32m50.9/50.9 kB\u001b[0m \u001b[31m4.7 MB/s\u001b[0m eta \u001b[36m0:00:00\u001b[0m\n",
            "\u001b[?25hDownloading ormsgpack-1.9.1-cp311-cp311-manylinux_2_17_x86_64.manylinux2014_x86_64.whl (223 kB)\n",
            "\u001b[2K   \u001b[90m━━━━━━━━━━━━━━━━━━━━━━━━━━━━━━━━━━━━━━━━\u001b[0m \u001b[32m223.6/223.6 kB\u001b[0m \u001b[31m16.9 MB/s\u001b[0m eta \u001b[36m0:00:00\u001b[0m\n",
            "\u001b[?25hDownloading python_dotenv-1.1.0-py3-none-any.whl (20 kB)\n",
            "Downloading typing_inspect-0.9.0-py3-none-any.whl (8.8 kB)\n",
            "Downloading mypy_extensions-1.1.0-py3-none-any.whl (5.0 kB)\n",
            "Installing collected packages: xxhash, watchdog, python-dotenv, pypdfium2, ormsgpack, nvidia-nvjitlink-cu12, nvidia-curand-cu12, nvidia-cufft-cu12, nvidia-cuda-runtime-cu12, nvidia-cuda-nvrtc-cu12, nvidia-cuda-cupti-cu12, nvidia-cublas-cu12, mypy-extensions, marshmallow, httpx-sse, faiss-cpu, typing-inspect, pydeck, nvidia-cusparse-cu12, nvidia-cudnn-cu12, pydantic-settings, pdfminer.six, nvidia-cusolver-cu12, langgraph-sdk, dataclasses-json, pdfplumber, streamlit, langgraph-checkpoint, langgraph-prebuilt, langgraph, langchain-community\n",
            "  Attempting uninstall: nvidia-nvjitlink-cu12\n",
            "    Found existing installation: nvidia-nvjitlink-cu12 12.5.82\n",
            "    Uninstalling nvidia-nvjitlink-cu12-12.5.82:\n",
            "      Successfully uninstalled nvidia-nvjitlink-cu12-12.5.82\n",
            "  Attempting uninstall: nvidia-curand-cu12\n",
            "    Found existing installation: nvidia-curand-cu12 10.3.6.82\n",
            "    Uninstalling nvidia-curand-cu12-10.3.6.82:\n",
            "      Successfully uninstalled nvidia-curand-cu12-10.3.6.82\n",
            "  Attempting uninstall: nvidia-cufft-cu12\n",
            "    Found existing installation: nvidia-cufft-cu12 11.2.3.61\n",
            "    Uninstalling nvidia-cufft-cu12-11.2.3.61:\n",
            "      Successfully uninstalled nvidia-cufft-cu12-11.2.3.61\n",
            "  Attempting uninstall: nvidia-cuda-runtime-cu12\n",
            "    Found existing installation: nvidia-cuda-runtime-cu12 12.5.82\n",
            "    Uninstalling nvidia-cuda-runtime-cu12-12.5.82:\n",
            "      Successfully uninstalled nvidia-cuda-runtime-cu12-12.5.82\n",
            "  Attempting uninstall: nvidia-cuda-nvrtc-cu12\n",
            "    Found existing installation: nvidia-cuda-nvrtc-cu12 12.5.82\n",
            "    Uninstalling nvidia-cuda-nvrtc-cu12-12.5.82:\n",
            "      Successfully uninstalled nvidia-cuda-nvrtc-cu12-12.5.82\n",
            "  Attempting uninstall: nvidia-cuda-cupti-cu12\n",
            "    Found existing installation: nvidia-cuda-cupti-cu12 12.5.82\n",
            "    Uninstalling nvidia-cuda-cupti-cu12-12.5.82:\n",
            "      Successfully uninstalled nvidia-cuda-cupti-cu12-12.5.82\n",
            "  Attempting uninstall: nvidia-cublas-cu12\n",
            "    Found existing installation: nvidia-cublas-cu12 12.5.3.2\n",
            "    Uninstalling nvidia-cublas-cu12-12.5.3.2:\n",
            "      Successfully uninstalled nvidia-cublas-cu12-12.5.3.2\n",
            "  Attempting uninstall: nvidia-cusparse-cu12\n",
            "    Found existing installation: nvidia-cusparse-cu12 12.5.1.3\n",
            "    Uninstalling nvidia-cusparse-cu12-12.5.1.3:\n",
            "      Successfully uninstalled nvidia-cusparse-cu12-12.5.1.3\n",
            "  Attempting uninstall: nvidia-cudnn-cu12\n",
            "    Found existing installation: nvidia-cudnn-cu12 9.3.0.75\n",
            "    Uninstalling nvidia-cudnn-cu12-9.3.0.75:\n",
            "      Successfully uninstalled nvidia-cudnn-cu12-9.3.0.75\n",
            "  Attempting uninstall: nvidia-cusolver-cu12\n",
            "    Found existing installation: nvidia-cusolver-cu12 11.6.3.83\n",
            "    Uninstalling nvidia-cusolver-cu12-11.6.3.83:\n",
            "      Successfully uninstalled nvidia-cusolver-cu12-11.6.3.83\n",
            "Successfully installed dataclasses-json-0.6.7 faiss-cpu-1.10.0 httpx-sse-0.4.0 langchain-community-0.3.22 langgraph-0.3.34 langgraph-checkpoint-2.0.25 langgraph-prebuilt-0.1.8 langgraph-sdk-0.1.63 marshmallow-3.26.1 mypy-extensions-1.1.0 nvidia-cublas-cu12-12.4.5.8 nvidia-cuda-cupti-cu12-12.4.127 nvidia-cuda-nvrtc-cu12-12.4.127 nvidia-cuda-runtime-cu12-12.4.127 nvidia-cudnn-cu12-9.1.0.70 nvidia-cufft-cu12-11.2.1.3 nvidia-curand-cu12-10.3.5.147 nvidia-cusolver-cu12-11.6.1.9 nvidia-cusparse-cu12-12.3.1.170 nvidia-nvjitlink-cu12-12.4.127 ormsgpack-1.9.1 pdfminer.six-20250327 pdfplumber-0.11.6 pydantic-settings-2.9.1 pydeck-0.9.1 pypdfium2-4.30.1 python-dotenv-1.1.0 streamlit-1.44.1 typing-inspect-0.9.0 watchdog-6.0.0 xxhash-3.5.0\n"
          ]
        }
      ],
      "source": [
        "!pip install langchain langchain-core langchain-community langgraph pydantic PyYAML pdfplumber faiss-cpu sentence-transformers streamlit pandas"
      ]
    },
    {
      "cell_type": "code",
      "execution_count": 2,
      "metadata": {
        "id": "nGfTPz2pVtDg",
        "colab": {
          "base_uri": "https://localhost:8080/"
        },
        "outputId": "919f415d-9623-43b3-96ac-e3ce12717458"
      },
      "outputs": [
        {
          "output_type": "stream",
          "name": "stdout",
          "text": [
            "Collecting langchain-groq\n",
            "  Downloading langchain_groq-0.3.2-py3-none-any.whl.metadata (2.6 kB)\n",
            "Requirement already satisfied: langchain-core<1.0.0,>=0.3.49 in /usr/local/lib/python3.11/dist-packages (from langchain-groq) (0.3.55)\n",
            "Collecting groq<1,>=0.4.1 (from langchain-groq)\n",
            "  Downloading groq-0.23.1-py3-none-any.whl.metadata (15 kB)\n",
            "Requirement already satisfied: anyio<5,>=3.5.0 in /usr/local/lib/python3.11/dist-packages (from groq<1,>=0.4.1->langchain-groq) (4.9.0)\n",
            "Requirement already satisfied: distro<2,>=1.7.0 in /usr/local/lib/python3.11/dist-packages (from groq<1,>=0.4.1->langchain-groq) (1.9.0)\n",
            "Requirement already satisfied: httpx<1,>=0.23.0 in /usr/local/lib/python3.11/dist-packages (from groq<1,>=0.4.1->langchain-groq) (0.28.1)\n",
            "Requirement already satisfied: pydantic<3,>=1.9.0 in /usr/local/lib/python3.11/dist-packages (from groq<1,>=0.4.1->langchain-groq) (2.11.3)\n",
            "Requirement already satisfied: sniffio in /usr/local/lib/python3.11/dist-packages (from groq<1,>=0.4.1->langchain-groq) (1.3.1)\n",
            "Requirement already satisfied: typing-extensions<5,>=4.10 in /usr/local/lib/python3.11/dist-packages (from groq<1,>=0.4.1->langchain-groq) (4.13.2)\n",
            "Requirement already satisfied: langsmith<0.4,>=0.1.125 in /usr/local/lib/python3.11/dist-packages (from langchain-core<1.0.0,>=0.3.49->langchain-groq) (0.3.33)\n",
            "Requirement already satisfied: tenacity!=8.4.0,<10.0.0,>=8.1.0 in /usr/local/lib/python3.11/dist-packages (from langchain-core<1.0.0,>=0.3.49->langchain-groq) (9.1.2)\n",
            "Requirement already satisfied: jsonpatch<2.0,>=1.33 in /usr/local/lib/python3.11/dist-packages (from langchain-core<1.0.0,>=0.3.49->langchain-groq) (1.33)\n",
            "Requirement already satisfied: PyYAML>=5.3 in /usr/local/lib/python3.11/dist-packages (from langchain-core<1.0.0,>=0.3.49->langchain-groq) (6.0.2)\n",
            "Requirement already satisfied: packaging<25,>=23.2 in /usr/local/lib/python3.11/dist-packages (from langchain-core<1.0.0,>=0.3.49->langchain-groq) (24.2)\n",
            "Requirement already satisfied: idna>=2.8 in /usr/local/lib/python3.11/dist-packages (from anyio<5,>=3.5.0->groq<1,>=0.4.1->langchain-groq) (3.10)\n",
            "Requirement already satisfied: certifi in /usr/local/lib/python3.11/dist-packages (from httpx<1,>=0.23.0->groq<1,>=0.4.1->langchain-groq) (2025.1.31)\n",
            "Requirement already satisfied: httpcore==1.* in /usr/local/lib/python3.11/dist-packages (from httpx<1,>=0.23.0->groq<1,>=0.4.1->langchain-groq) (1.0.8)\n",
            "Requirement already satisfied: h11<0.15,>=0.13 in /usr/local/lib/python3.11/dist-packages (from httpcore==1.*->httpx<1,>=0.23.0->groq<1,>=0.4.1->langchain-groq) (0.14.0)\n",
            "Requirement already satisfied: jsonpointer>=1.9 in /usr/local/lib/python3.11/dist-packages (from jsonpatch<2.0,>=1.33->langchain-core<1.0.0,>=0.3.49->langchain-groq) (3.0.0)\n",
            "Requirement already satisfied: orjson<4.0.0,>=3.9.14 in /usr/local/lib/python3.11/dist-packages (from langsmith<0.4,>=0.1.125->langchain-core<1.0.0,>=0.3.49->langchain-groq) (3.10.16)\n",
            "Requirement already satisfied: requests<3,>=2 in /usr/local/lib/python3.11/dist-packages (from langsmith<0.4,>=0.1.125->langchain-core<1.0.0,>=0.3.49->langchain-groq) (2.32.3)\n",
            "Requirement already satisfied: requests-toolbelt<2.0.0,>=1.0.0 in /usr/local/lib/python3.11/dist-packages (from langsmith<0.4,>=0.1.125->langchain-core<1.0.0,>=0.3.49->langchain-groq) (1.0.0)\n",
            "Requirement already satisfied: zstandard<0.24.0,>=0.23.0 in /usr/local/lib/python3.11/dist-packages (from langsmith<0.4,>=0.1.125->langchain-core<1.0.0,>=0.3.49->langchain-groq) (0.23.0)\n",
            "Requirement already satisfied: annotated-types>=0.6.0 in /usr/local/lib/python3.11/dist-packages (from pydantic<3,>=1.9.0->groq<1,>=0.4.1->langchain-groq) (0.7.0)\n",
            "Requirement already satisfied: pydantic-core==2.33.1 in /usr/local/lib/python3.11/dist-packages (from pydantic<3,>=1.9.0->groq<1,>=0.4.1->langchain-groq) (2.33.1)\n",
            "Requirement already satisfied: typing-inspection>=0.4.0 in /usr/local/lib/python3.11/dist-packages (from pydantic<3,>=1.9.0->groq<1,>=0.4.1->langchain-groq) (0.4.0)\n",
            "Requirement already satisfied: charset-normalizer<4,>=2 in /usr/local/lib/python3.11/dist-packages (from requests<3,>=2->langsmith<0.4,>=0.1.125->langchain-core<1.0.0,>=0.3.49->langchain-groq) (3.4.1)\n",
            "Requirement already satisfied: urllib3<3,>=1.21.1 in /usr/local/lib/python3.11/dist-packages (from requests<3,>=2->langsmith<0.4,>=0.1.125->langchain-core<1.0.0,>=0.3.49->langchain-groq) (2.3.0)\n",
            "Downloading langchain_groq-0.3.2-py3-none-any.whl (15 kB)\n",
            "Downloading groq-0.23.1-py3-none-any.whl (127 kB)\n",
            "\u001b[2K   \u001b[90m━━━━━━━━━━━━━━━━━━━━━━━━━━━━━━━━━━━━━━━━\u001b[0m \u001b[32m127.4/127.4 kB\u001b[0m \u001b[31m3.1 MB/s\u001b[0m eta \u001b[36m0:00:00\u001b[0m\n",
            "\u001b[?25hInstalling collected packages: groq, langchain-groq\n",
            "Successfully installed groq-0.23.1 langchain-groq-0.3.2\n"
          ]
        }
      ],
      "source": [
        "!pip install langchain-groq"
      ]
    },
    {
      "cell_type": "code",
      "execution_count": 3,
      "metadata": {
        "id": "w2CmwCeyZKjG",
        "colab": {
          "base_uri": "https://localhost:8080/"
        },
        "outputId": "79053229-595a-4009-f73a-1abbdb125018"
      },
      "outputs": [
        {
          "output_type": "stream",
          "name": "stdout",
          "text": [
            "Requirement already satisfied: ipywidgets in /usr/local/lib/python3.11/dist-packages (7.7.1)\n",
            "Requirement already satisfied: ipykernel>=4.5.1 in /usr/local/lib/python3.11/dist-packages (from ipywidgets) (6.17.1)\n",
            "Requirement already satisfied: ipython-genutils~=0.2.0 in /usr/local/lib/python3.11/dist-packages (from ipywidgets) (0.2.0)\n",
            "Requirement already satisfied: traitlets>=4.3.1 in /usr/local/lib/python3.11/dist-packages (from ipywidgets) (5.7.1)\n",
            "Requirement already satisfied: widgetsnbextension~=3.6.0 in /usr/local/lib/python3.11/dist-packages (from ipywidgets) (3.6.10)\n",
            "Requirement already satisfied: ipython>=4.0.0 in /usr/local/lib/python3.11/dist-packages (from ipywidgets) (7.34.0)\n",
            "Requirement already satisfied: jupyterlab-widgets>=1.0.0 in /usr/local/lib/python3.11/dist-packages (from ipywidgets) (3.0.14)\n",
            "Requirement already satisfied: debugpy>=1.0 in /usr/local/lib/python3.11/dist-packages (from ipykernel>=4.5.1->ipywidgets) (1.8.0)\n",
            "Requirement already satisfied: jupyter-client>=6.1.12 in /usr/local/lib/python3.11/dist-packages (from ipykernel>=4.5.1->ipywidgets) (6.1.12)\n",
            "Requirement already satisfied: matplotlib-inline>=0.1 in /usr/local/lib/python3.11/dist-packages (from ipykernel>=4.5.1->ipywidgets) (0.1.7)\n",
            "Requirement already satisfied: nest-asyncio in /usr/local/lib/python3.11/dist-packages (from ipykernel>=4.5.1->ipywidgets) (1.6.0)\n",
            "Requirement already satisfied: packaging in /usr/local/lib/python3.11/dist-packages (from ipykernel>=4.5.1->ipywidgets) (24.2)\n",
            "Requirement already satisfied: psutil in /usr/local/lib/python3.11/dist-packages (from ipykernel>=4.5.1->ipywidgets) (5.9.5)\n",
            "Requirement already satisfied: pyzmq>=17 in /usr/local/lib/python3.11/dist-packages (from ipykernel>=4.5.1->ipywidgets) (24.0.1)\n",
            "Requirement already satisfied: tornado>=6.1 in /usr/local/lib/python3.11/dist-packages (from ipykernel>=4.5.1->ipywidgets) (6.4.2)\n",
            "Requirement already satisfied: setuptools>=18.5 in /usr/local/lib/python3.11/dist-packages (from ipython>=4.0.0->ipywidgets) (75.2.0)\n",
            "Collecting jedi>=0.16 (from ipython>=4.0.0->ipywidgets)\n",
            "  Downloading jedi-0.19.2-py2.py3-none-any.whl.metadata (22 kB)\n",
            "Requirement already satisfied: decorator in /usr/local/lib/python3.11/dist-packages (from ipython>=4.0.0->ipywidgets) (4.4.2)\n",
            "Requirement already satisfied: pickleshare in /usr/local/lib/python3.11/dist-packages (from ipython>=4.0.0->ipywidgets) (0.7.5)\n",
            "Requirement already satisfied: prompt-toolkit!=3.0.0,!=3.0.1,<3.1.0,>=2.0.0 in /usr/local/lib/python3.11/dist-packages (from ipython>=4.0.0->ipywidgets) (3.0.51)\n",
            "Requirement already satisfied: pygments in /usr/local/lib/python3.11/dist-packages (from ipython>=4.0.0->ipywidgets) (2.18.0)\n",
            "Requirement already satisfied: backcall in /usr/local/lib/python3.11/dist-packages (from ipython>=4.0.0->ipywidgets) (0.2.0)\n",
            "Requirement already satisfied: pexpect>4.3 in /usr/local/lib/python3.11/dist-packages (from ipython>=4.0.0->ipywidgets) (4.9.0)\n",
            "Requirement already satisfied: notebook>=4.4.1 in /usr/local/lib/python3.11/dist-packages (from widgetsnbextension~=3.6.0->ipywidgets) (6.5.7)\n",
            "Requirement already satisfied: parso<0.9.0,>=0.8.4 in /usr/local/lib/python3.11/dist-packages (from jedi>=0.16->ipython>=4.0.0->ipywidgets) (0.8.4)\n",
            "Requirement already satisfied: jupyter-core>=4.6.0 in /usr/local/lib/python3.11/dist-packages (from jupyter-client>=6.1.12->ipykernel>=4.5.1->ipywidgets) (5.7.2)\n",
            "Requirement already satisfied: python-dateutil>=2.1 in /usr/local/lib/python3.11/dist-packages (from jupyter-client>=6.1.12->ipykernel>=4.5.1->ipywidgets) (2.8.2)\n",
            "Requirement already satisfied: jinja2 in /usr/local/lib/python3.11/dist-packages (from notebook>=4.4.1->widgetsnbextension~=3.6.0->ipywidgets) (3.1.6)\n",
            "Requirement already satisfied: argon2-cffi in /usr/local/lib/python3.11/dist-packages (from notebook>=4.4.1->widgetsnbextension~=3.6.0->ipywidgets) (23.1.0)\n",
            "Requirement already satisfied: nbformat in /usr/local/lib/python3.11/dist-packages (from notebook>=4.4.1->widgetsnbextension~=3.6.0->ipywidgets) (5.10.4)\n",
            "Requirement already satisfied: nbconvert>=5 in /usr/local/lib/python3.11/dist-packages (from notebook>=4.4.1->widgetsnbextension~=3.6.0->ipywidgets) (7.16.6)\n",
            "Requirement already satisfied: Send2Trash>=1.8.0 in /usr/local/lib/python3.11/dist-packages (from notebook>=4.4.1->widgetsnbextension~=3.6.0->ipywidgets) (1.8.3)\n",
            "Requirement already satisfied: terminado>=0.8.3 in /usr/local/lib/python3.11/dist-packages (from notebook>=4.4.1->widgetsnbextension~=3.6.0->ipywidgets) (0.18.1)\n",
            "Requirement already satisfied: prometheus-client in /usr/local/lib/python3.11/dist-packages (from notebook>=4.4.1->widgetsnbextension~=3.6.0->ipywidgets) (0.21.1)\n",
            "Requirement already satisfied: nbclassic>=0.4.7 in /usr/local/lib/python3.11/dist-packages (from notebook>=4.4.1->widgetsnbextension~=3.6.0->ipywidgets) (1.2.0)\n",
            "Requirement already satisfied: ptyprocess>=0.5 in /usr/local/lib/python3.11/dist-packages (from pexpect>4.3->ipython>=4.0.0->ipywidgets) (0.7.0)\n",
            "Requirement already satisfied: wcwidth in /usr/local/lib/python3.11/dist-packages (from prompt-toolkit!=3.0.0,!=3.0.1,<3.1.0,>=2.0.0->ipython>=4.0.0->ipywidgets) (0.2.13)\n",
            "Requirement already satisfied: platformdirs>=2.5 in /usr/local/lib/python3.11/dist-packages (from jupyter-core>=4.6.0->jupyter-client>=6.1.12->ipykernel>=4.5.1->ipywidgets) (4.3.7)\n",
            "Requirement already satisfied: notebook-shim>=0.2.3 in /usr/local/lib/python3.11/dist-packages (from nbclassic>=0.4.7->notebook>=4.4.1->widgetsnbextension~=3.6.0->ipywidgets) (0.2.4)\n",
            "Requirement already satisfied: beautifulsoup4 in /usr/local/lib/python3.11/dist-packages (from nbconvert>=5->notebook>=4.4.1->widgetsnbextension~=3.6.0->ipywidgets) (4.13.4)\n",
            "Requirement already satisfied: bleach!=5.0.0 in /usr/local/lib/python3.11/dist-packages (from bleach[css]!=5.0.0->nbconvert>=5->notebook>=4.4.1->widgetsnbextension~=3.6.0->ipywidgets) (6.2.0)\n",
            "Requirement already satisfied: defusedxml in /usr/local/lib/python3.11/dist-packages (from nbconvert>=5->notebook>=4.4.1->widgetsnbextension~=3.6.0->ipywidgets) (0.7.1)\n",
            "Requirement already satisfied: jupyterlab-pygments in /usr/local/lib/python3.11/dist-packages (from nbconvert>=5->notebook>=4.4.1->widgetsnbextension~=3.6.0->ipywidgets) (0.3.0)\n",
            "Requirement already satisfied: markupsafe>=2.0 in /usr/local/lib/python3.11/dist-packages (from nbconvert>=5->notebook>=4.4.1->widgetsnbextension~=3.6.0->ipywidgets) (3.0.2)\n",
            "Requirement already satisfied: mistune<4,>=2.0.3 in /usr/local/lib/python3.11/dist-packages (from nbconvert>=5->notebook>=4.4.1->widgetsnbextension~=3.6.0->ipywidgets) (3.1.3)\n",
            "Requirement already satisfied: nbclient>=0.5.0 in /usr/local/lib/python3.11/dist-packages (from nbconvert>=5->notebook>=4.4.1->widgetsnbextension~=3.6.0->ipywidgets) (0.10.2)\n",
            "Requirement already satisfied: pandocfilters>=1.4.1 in /usr/local/lib/python3.11/dist-packages (from nbconvert>=5->notebook>=4.4.1->widgetsnbextension~=3.6.0->ipywidgets) (1.5.1)\n",
            "Requirement already satisfied: fastjsonschema>=2.15 in /usr/local/lib/python3.11/dist-packages (from nbformat->notebook>=4.4.1->widgetsnbextension~=3.6.0->ipywidgets) (2.21.1)\n",
            "Requirement already satisfied: jsonschema>=2.6 in /usr/local/lib/python3.11/dist-packages (from nbformat->notebook>=4.4.1->widgetsnbextension~=3.6.0->ipywidgets) (4.23.0)\n",
            "Requirement already satisfied: six>=1.5 in /usr/local/lib/python3.11/dist-packages (from python-dateutil>=2.1->jupyter-client>=6.1.12->ipykernel>=4.5.1->ipywidgets) (1.17.0)\n",
            "Requirement already satisfied: argon2-cffi-bindings in /usr/local/lib/python3.11/dist-packages (from argon2-cffi->notebook>=4.4.1->widgetsnbextension~=3.6.0->ipywidgets) (21.2.0)\n",
            "Requirement already satisfied: webencodings in /usr/local/lib/python3.11/dist-packages (from bleach!=5.0.0->bleach[css]!=5.0.0->nbconvert>=5->notebook>=4.4.1->widgetsnbextension~=3.6.0->ipywidgets) (0.5.1)\n",
            "Requirement already satisfied: tinycss2<1.5,>=1.1.0 in /usr/local/lib/python3.11/dist-packages (from bleach[css]!=5.0.0->nbconvert>=5->notebook>=4.4.1->widgetsnbextension~=3.6.0->ipywidgets) (1.4.0)\n",
            "Requirement already satisfied: attrs>=22.2.0 in /usr/local/lib/python3.11/dist-packages (from jsonschema>=2.6->nbformat->notebook>=4.4.1->widgetsnbextension~=3.6.0->ipywidgets) (25.3.0)\n",
            "Requirement already satisfied: jsonschema-specifications>=2023.03.6 in /usr/local/lib/python3.11/dist-packages (from jsonschema>=2.6->nbformat->notebook>=4.4.1->widgetsnbextension~=3.6.0->ipywidgets) (2024.10.1)\n",
            "Requirement already satisfied: referencing>=0.28.4 in /usr/local/lib/python3.11/dist-packages (from jsonschema>=2.6->nbformat->notebook>=4.4.1->widgetsnbextension~=3.6.0->ipywidgets) (0.36.2)\n",
            "Requirement already satisfied: rpds-py>=0.7.1 in /usr/local/lib/python3.11/dist-packages (from jsonschema>=2.6->nbformat->notebook>=4.4.1->widgetsnbextension~=3.6.0->ipywidgets) (0.24.0)\n",
            "Requirement already satisfied: jupyter-server<3,>=1.8 in /usr/local/lib/python3.11/dist-packages (from notebook-shim>=0.2.3->nbclassic>=0.4.7->notebook>=4.4.1->widgetsnbextension~=3.6.0->ipywidgets) (1.16.0)\n",
            "Requirement already satisfied: cffi>=1.0.1 in /usr/local/lib/python3.11/dist-packages (from argon2-cffi-bindings->argon2-cffi->notebook>=4.4.1->widgetsnbextension~=3.6.0->ipywidgets) (1.17.1)\n",
            "Requirement already satisfied: soupsieve>1.2 in /usr/local/lib/python3.11/dist-packages (from beautifulsoup4->nbconvert>=5->notebook>=4.4.1->widgetsnbextension~=3.6.0->ipywidgets) (2.7)\n",
            "Requirement already satisfied: typing-extensions>=4.0.0 in /usr/local/lib/python3.11/dist-packages (from beautifulsoup4->nbconvert>=5->notebook>=4.4.1->widgetsnbextension~=3.6.0->ipywidgets) (4.13.2)\n",
            "Requirement already satisfied: pycparser in /usr/local/lib/python3.11/dist-packages (from cffi>=1.0.1->argon2-cffi-bindings->argon2-cffi->notebook>=4.4.1->widgetsnbextension~=3.6.0->ipywidgets) (2.22)\n",
            "Requirement already satisfied: anyio>=3.1.0 in /usr/local/lib/python3.11/dist-packages (from jupyter-server<3,>=1.8->notebook-shim>=0.2.3->nbclassic>=0.4.7->notebook>=4.4.1->widgetsnbextension~=3.6.0->ipywidgets) (4.9.0)\n",
            "Requirement already satisfied: websocket-client in /usr/local/lib/python3.11/dist-packages (from jupyter-server<3,>=1.8->notebook-shim>=0.2.3->nbclassic>=0.4.7->notebook>=4.4.1->widgetsnbextension~=3.6.0->ipywidgets) (1.8.0)\n",
            "Requirement already satisfied: idna>=2.8 in /usr/local/lib/python3.11/dist-packages (from anyio>=3.1.0->jupyter-server<3,>=1.8->notebook-shim>=0.2.3->nbclassic>=0.4.7->notebook>=4.4.1->widgetsnbextension~=3.6.0->ipywidgets) (3.10)\n",
            "Requirement already satisfied: sniffio>=1.1 in /usr/local/lib/python3.11/dist-packages (from anyio>=3.1.0->jupyter-server<3,>=1.8->notebook-shim>=0.2.3->nbclassic>=0.4.7->notebook>=4.4.1->widgetsnbextension~=3.6.0->ipywidgets) (1.3.1)\n",
            "Downloading jedi-0.19.2-py2.py3-none-any.whl (1.6 MB)\n",
            "\u001b[2K   \u001b[90m━━━━━━━━━━━━━━━━━━━━━━━━━━━━━━━━━━━━━━━━\u001b[0m \u001b[32m1.6/1.6 MB\u001b[0m \u001b[31m15.5 MB/s\u001b[0m eta \u001b[36m0:00:00\u001b[0m\n",
            "\u001b[?25hInstalling collected packages: jedi\n",
            "Successfully installed jedi-0.19.2\n"
          ]
        }
      ],
      "source": [
        "!pip install ipywidgets"
      ]
    },
    {
      "cell_type": "code",
      "execution_count": 5,
      "metadata": {
        "id": "WSHjAuLvTeBB",
        "colab": {
          "base_uri": "https://localhost:8080/"
        },
        "outputId": "f3aa23bd-1dc2-47e8-e5ec-16f64bb40a8d"
      },
      "outputs": [
        {
          "output_type": "stream",
          "name": "stdout",
          "text": [
            "Advisor System Prompt Loaded Successfully!\n"
          ]
        }
      ],
      "source": [
        "import pdfplumber\n",
        "import faiss\n",
        "import numpy as np\n",
        "import ipywidgets as widgets\n",
        "from IPython.display import display, clear_output\n",
        "from sentence_transformers import SentenceTransformer\n",
        "from langchain.text_splitter import CharacterTextSplitter\n",
        "from langchain.prompts.chat import ChatPromptTemplate\n",
        "from langchain_groq import ChatGroq\n",
        "from google.colab import files\n",
        "import os\n",
        "import yaml\n",
        "\n",
        "# Initialize the FAISS vector store\n",
        "embedding_model = SentenceTransformer(\"all-MiniLM-L6-v2\")\n",
        "\n",
        "# File paths\n",
        "index_file = \"index.faiss\"\n",
        "chunks_file = \"chunks.txt\"\n",
        "\n",
        "# Cryptocurrency-related keywords\n",
        "CRYPTO_KEYWORDS = {\"crypto\", \"cryptocurrency\", \"bitcoin\", \"ethereum\", \"blockchain\", \"web3\",\n",
        "                   \"decentralized\", \"mining\", \"token\", \"NFT\", \"stablecoin\", \"defi\", \"ledger\"}\n",
        "\n",
        "# Load system prompt from YAML\n",
        "def load_system_prompt():\n",
        "    with open(\"advisor_prompts.yml\", \"r\") as file:\n",
        "        config = yaml.safe_load(file)\n",
        "    return config[\"system_prompts\"][\"advisor_llm\"][\"description\"]\n",
        "\n",
        "# Fetch system prompt\n",
        "ADVISOR_SYS_PROMPT = load_system_prompt()\n",
        "print(\"Advisor System Prompt Loaded Successfully!\")\n",
        "\n",
        "# Groq API Key\n",
        "os.environ[\"GROQ_API_KEY\"] = \"your_api_key\""
      ]
    },
    {
      "cell_type": "code",
      "execution_count": 6,
      "metadata": {
        "id": "bGltXejboaY4"
      },
      "outputs": [],
      "source": [
        "\n",
        "def validate_pdf_content(pdf_path):\n",
        "    \"\"\"Check if the PDF contains cryptocurrency-related keywords and return a decision.\"\"\"\n",
        "    text = \"\"\n",
        "    try:\n",
        "        with pdfplumber.open(pdf_path) as pdf:\n",
        "            for page in pdf.pages:\n",
        "                page_text = page.extract_text()\n",
        "                if page_text:\n",
        "                    text += page_text.lower() + \"\\n\"\n",
        "\n",
        "        # Checking if the PDF contains at least one keyword from the allowed topics\n",
        "        if not any(keyword in text for keyword in CRYPTO_KEYWORDS):\n",
        "            print(f\"Skipping {pdf_path}: Content is NOT related to cryptocurrency.\")\n",
        "            return False  # this rejects the file\n",
        "\n",
        "        return True  # this acccepts the file\n",
        "\n",
        "    except Exception as e:\n",
        "        print(f\"Error processing {pdf_path}: {e}\")\n",
        "        return False  # this rejects the file if it cannot be processed"
      ]
    },
    {
      "cell_type": "code",
      "execution_count": 7,
      "metadata": {
        "id": "2Jlujg62T406"
      },
      "outputs": [],
      "source": [
        "# Storing uploaded document names globally\n",
        "uploaded_document_names = []\n",
        "\n",
        "def extract_and_store_text(pdf_paths):\n",
        "    \"\"\"Extract and store text from valid cryptocurrency PDFs, while keeping track of filenames.\"\"\"\n",
        "    global uploaded_document_names\n",
        "    all_chunks = []\n",
        "    all_embeddings = []\n",
        "\n",
        "    for pdf_path in pdf_paths:\n",
        "        if not validate_pdf_content(pdf_path):\n",
        "            continue  # Skipping non-crypto files\n",
        "\n",
        "        uploaded_document_names.append(pdf_path)  #Storing document name\n",
        "\n",
        "        text = \"\"\n",
        "        try:\n",
        "            with pdfplumber.open(pdf_path) as pdf:\n",
        "                for page in pdf.pages:\n",
        "                    page_text = page.extract_text()\n",
        "                    if page_text:\n",
        "                        text += page_text + \"\\n\"\n",
        "\n",
        "            # Splitting text into chunks\n",
        "            text_splitter = CharacterTextSplitter(chunk_size=500, chunk_overlap=50)\n",
        "            chunks = text_splitter.split_text(text)\n",
        "\n",
        "            # Generating embeddings\n",
        "            embeddings = embedding_model.encode(chunks)\n",
        "            embeddings = np.array(embeddings, dtype=np.float32)\n",
        "\n",
        "            all_chunks.extend(chunks)\n",
        "            all_embeddings.append(embeddings)\n",
        "\n",
        "            print(f\"Processed {pdf_path}: Successfully added to FAISS.\")\n",
        "\n",
        "        except Exception as e:\n",
        "            print(f\"Error processing {pdf_path}: {e}\")\n",
        "\n",
        "    if not uploaded_document_names:\n",
        "        raise ValueError(\"No valid cryptocurrency-related content found. Please upload relevant PDFs.\")\n",
        "\n",
        "    # Merging embeddings into FAISS\n",
        "    dimension = all_embeddings[0].shape[1]\n",
        "    index = faiss.IndexFlatL2(dimension)\n",
        "    for embeddings in all_embeddings:\n",
        "        index.add(embeddings)\n",
        "\n",
        "    # Saving FAISS index\n",
        "    faiss.write_index(index, index_file)\n",
        "\n",
        "    # Saving text chunks\n",
        "    with open(chunks_file, \"w\") as f:\n",
        "        for chunk in all_chunks:\n",
        "            f.write(chunk + \"\\n\")\n",
        "\n",
        "    print(\"All cryptocurrency-related PDFs processed successfully.\")"
      ]
    },
    {
      "cell_type": "code",
      "source": [
        "\n",
        "\n",
        "import time\n",
        "import pandas as pd\n",
        "import matplotlib.pyplot as plt\n",
        "\n",
        "\n",
        "# Function to query Groq models\n",
        "def query_groq_model(query, model_name, system_prompt=\"/content/advisor_prompts 1.yml\"):\n",
        "    \"\"\"Generate a response using a Groq model with cryptocurrency-specific prompt.\"\"\"\n",
        "    try:\n",
        "        # Retrieve context\n",
        "        retrieved_chunks = retrieve_relevant_chunks(query)\n",
        "        context = \"\\n\".join(retrieved_chunks) if retrieved_chunks else \"No relevant context found.\"\n",
        "\n",
        "        # Construct the prompt with cryptocurrency focus\n",
        "        crypto_prompt = ChatPromptTemplate.from_messages([\n",
        "            (\"system\", system_prompt),\n",
        "            (\"human\", f\"Context: {context}\\n\\nCryptocurrency Question: {query}\")\n",
        "        ])\n",
        "\n",
        "        # Initialize the LLM\n",
        "        groq_api_key = os.getenv(\"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\")\n",
        "        llm = ChatGroq(model=model_name, api_key=groq_api_key)\n",
        "\n",
        "        # Generate response\n",
        "        start_time = time.time()\n",
        "        response = crypto_prompt | llm\n",
        "        result = response.invoke({})\n",
        "        end_time = time.time()\n",
        "\n",
        "        # Calculate response time\n",
        "        response_time = end_time - start_time\n",
        "\n",
        "        return {\n",
        "            \"response\": result.content.strip(),\n",
        "            \"response_time\": response_time,\n",
        "            \"status\": \"success\"\n",
        "        }\n",
        "    except Exception as e:\n",
        "        return {\n",
        "            \"response\": f\"Error with {model_name}: {str(e)}\",\n",
        "            \"response_time\": 0,\n",
        "            \"status\": \"error\"\n",
        "        }\n",
        "\n",
        "# Function to query Hugging Face models\n",
        "def query_hf_model(query, model_name=\"google/flan-t5-base\"):\n",
        "    \"\"\"Generate a response using a Hugging Face model for cryptocurrency questions.\"\"\"\n",
        "    try:\n",
        "        # Retrieve context\n",
        "        retrieved_chunks = retrieve_relevant_chunks(query)\n",
        "        context = \"\\n\".join(retrieved_chunks) if retrieved_chunks else \"No relevant context found.\"\n",
        "\n",
        "        # Create prompt with cryptocurrency focus\n",
        "        prompt = f\"Context: {context}\\n\\nYou are a cryptocurrency expert. Answer this question: {query}\"\n",
        "\n",
        "        # Use transformers pipeline\n",
        "        start_time = time.time()\n",
        "        pipe = pipeline(\"text2text-generation\", model=model_name)\n",
        "        result = pipe(prompt, max_length=300, do_sample=False)[0]['generated_text']\n",
        "        end_time = time.time()\n",
        "\n",
        "        # Calculate response time\n",
        "        response_time = end_time - start_time\n",
        "\n",
        "        return {\n",
        "            \"response\": result,\n",
        "            \"response_time\": response_time,\n",
        "            \"status\": \"success\"\n",
        "        }\n",
        "    except Exception as e:\n",
        "        return {\n",
        "            \"response\": f\"Error with {model_name}: {str(e)}\",\n",
        "            \"response_time\": 0,\n",
        "            \"status\": \"error\"\n",
        "        }\n",
        "\n",
        "# Cryptocurrency-specific evaluation function\n",
        "def evaluate_crypto_response(response, query):\n",
        "    \"\"\"\n",
        "    Simple heuristic to evaluate cryptocurrency responses.\n",
        "    In a real implementation, this could be more sophisticated.\n",
        "    \"\"\"\n",
        "    # List of important cryptocurrency terms\n",
        "    crypto_terms = [\n",
        "        \"bitcoin\", \"ethereum\", \"blockchain\", \"cryptocurrency\", \"token\", \"wallet\",\n",
        "        \"mining\", \"proof of stake\", \"proof of work\", \"defi\", \"smart contract\",\n",
        "        \"nft\", \"decentralized\", \"consensus\", \"ledger\", \"hash\", \"block\", \"transaction\"\n",
        "    ]\n",
        "\n",
        "    # Count cryptocurrency terms in response\n",
        "    term_count = sum(1 for term in crypto_terms if term.lower() in response.lower())\n",
        "\n",
        "    # Basic score based on term frequency (could be much more sophisticated)\n",
        "    score = min(10, term_count) / 10  # Normalize to 0-1 range\n",
        "\n",
        "    return score\n",
        "\n",
        "# Main comparison function with UPDATED MODELS\n",
        "def compare_crypto_models(query, models=None):\n",
        "    \"\"\"Compare different models on cryptocurrency-specific questions.\"\"\"\n",
        "    if models is None:\n",
        "        # Default cryptocurrency-focused model configuration with UPDATED MODELS\n",
        "        models = [\n",
        "            {\"name\": \"llama-3.3-70b-versatile\", \"description\": \"Llama 3.3 (70B)\", \"type\": \"groq\"},\n",
        "            {\"name\": \"llama-4-scout\", \"description\": \"Llama 4 Scout\", \"type\": \"groq\"},\n",
        "            {\"name\": \"qwen-qwq-32b\", \"description\": \"Qwen QwQ-32B\", \"type\": \"groq\"},\n",
        "            {\"name\": \"google/flan-t5-base\", \"description\": \"Flan-T5 (base)\", \"type\": \"hf\"}\n",
        "        ]\n",
        "\n",
        "    results = []\n",
        "\n",
        "    print(f\"Comparing models on cryptocurrency query: '{query}'\")\n",
        "\n",
        "    for model in models:\n",
        "        print(f\"Processing model: {model['description']}...\")\n",
        "\n",
        "        # Get response based on model type\n",
        "        if model[\"type\"] == \"groq\":\n",
        "            result = query_groq_model(query, model[\"name\"])\n",
        "        else:\n",
        "            result = query_hf_model(query, model[\"name\"])\n",
        "\n",
        "        # Add cryptocurrency-specific evaluation criteria\n",
        "        crypto_score = evaluate_crypto_response(result[\"response\"], query)\n",
        "\n",
        "        # Add to results\n",
        "        results.append({\n",
        "            \"model\": model[\"name\"],\n",
        "            \"description\": model[\"description\"],\n",
        "            \"response\": result[\"response\"],\n",
        "            \"response_time\": result[\"response_time\"],\n",
        "            \"crypto_score\": crypto_score,\n",
        "            \"status\": result[\"status\"]\n",
        "        })\n",
        "\n",
        "        print(f\"  - Completed ({result['status']})\")\n",
        "\n",
        "    # Convert to DataFrame\n",
        "    return pd.DataFrame(results)\n",
        "\n",
        "# Function to visualize results with cryptocurrency focus\n",
        "def visualize_crypto_results(results_df):\n",
        "    \"\"\"Create visualizations for cryptocurrency model comparison results.\"\"\"\n",
        "    # Response time comparison\n",
        "    plt.figure(figsize=(10, 6))\n",
        "    plt.barh(results_df[\"description\"], results_df[\"response_time\"], color=\"blue\")\n",
        "    plt.xlabel(\"Response Time (seconds)\")\n",
        "    plt.title(\"Model Response Time Comparison for Cryptocurrency Questions\")\n",
        "    plt.tight_layout()\n",
        "    plt.savefig(\"crypto_response_time_comparison.png\")\n",
        "    plt.show()\n",
        "\n",
        "    # Cryptocurrency score comparison\n",
        "    if \"crypto_score\" in results_df.columns:\n",
        "        plt.figure(figsize=(10, 6))\n",
        "        bars = plt.barh(results_df[\"description\"], results_df[\"crypto_score\"], color=\"green\")\n",
        "        plt.xlabel(\"Cryptocurrency Score (0-1)\")\n",
        "        plt.title(\"Model Cryptocurrency Knowledge Score\")\n",
        "        plt.xlim(0, 1)\n",
        "\n",
        "        # Add value labels to bars\n",
        "        for bar in bars:\n",
        "            width = bar.get_width()\n",
        "            plt.text(width + 0.01, bar.get_y() + bar.get_height()/2, f'{width:.2f}',\n",
        "                    ha='left', va='center')\n",
        "\n",
        "        plt.tight_layout()\n",
        "        plt.savefig(\"crypto_knowledge_score.png\")\n",
        "        plt.show()\n",
        "\n",
        "    # Response length comparison\n",
        "    results_df[\"response_length\"] = results_df[\"response\"].apply(lambda x: len(x.split()))\n",
        "\n",
        "    plt.figure(figsize=(10, 6))\n",
        "    plt.barh(results_df[\"description\"], results_df[\"response_length\"], color=\"purple\")\n",
        "    plt.xlabel(\"Response Length (words)\")\n",
        "    plt.title(\"Model Response Length for Cryptocurrency Questions\")\n",
        "    plt.tight_layout()\n",
        "    plt.savefig(\"crypto_response_length_comparison.png\")\n",
        "    plt.show()\n",
        "\n",
        "# Cryptocurrency benchmark questions\n",
        "CRYPTO_BENCHMARK_QUESTIONS = [\n",
        "    \"What is Bitcoin and how does it work?\",\n",
        "    \"How does blockchain technology secure transactions?\",\n",
        "    \"What is the difference between proof-of-work and proof-of-stake?\",\n",
        "    \"Explain what smart contracts are and their applications.\",\n",
        "    \"What are the environmental impacts of cryptocurrency mining?\",\n",
        "    \"How do cryptocurrency wallets work?\",\n",
        "    \"What is DeFi (Decentralized Finance) and how is it different from traditional finance?\",\n",
        "    \"What are NFTs and why are they valuable?\",\n",
        "    \"How do cryptocurrency exchanges operate?\",\n",
        "    \"What is the Lightning Network and how does it improve Bitcoin?\"\n",
        "]\n",
        "\n",
        "# Function to run cryptocurrency benchmark with UPDATED MODELS\n",
        "def run_crypto_benchmark(questions=CRYPTO_BENCHMARK_QUESTIONS, models=None):\n",
        "    \"\"\"Run a benchmark on cryptocurrency-specific questions.\"\"\"\n",
        "    if models is None:\n",
        "        # Default model configuration with UPDATED MODELS\n",
        "        models = [\n",
        "            {\"name\": \"llama-3.3-70b-versatile\", \"description\": \"Llama 3.3 (70B)\", \"type\": \"groq\"},\n",
        "            {\"name\": \"llama-4-scout\", \"description\": \"Llama 4 Scout\", \"type\": \"groq\"},\n",
        "            {\"name\": \"google/flan-t5-base\", \"description\": \"Flan-T5 (base)\", \"type\": \"hf\"}\n",
        "        ]\n",
        "\n",
        "    all_results = []\n",
        "\n",
        "    print(\"Starting cryptocurrency benchmark with\", len(questions), \"questions and\", len(models), \"models...\")\n",
        "\n",
        "    for i, question in enumerate(questions):\n",
        "        print(f\"\\nQuestion {i+1}/{len(questions)}: '{question}'\")\n",
        "\n",
        "        question_results = compare_crypto_models(question, models)\n",
        "        question_results[\"question\"] = question\n",
        "        all_results.append(question_results)\n",
        "\n",
        "    # Combine results\n",
        "    combined_results = pd.concat(all_results)\n",
        "\n",
        "    # Calculate aggregated metrics\n",
        "    model_metrics = combined_results.groupby(\"description\").agg({\n",
        "        \"response_time\": [\"mean\", \"min\", \"max\", \"std\"],\n",
        "        \"crypto_score\": [\"mean\", \"min\", \"max\", \"std\"] if \"crypto_score\" in combined_results.columns else [],\n",
        "        \"response\": lambda x: np.mean([len(r.split()) for r in x])  # Avg response length\n",
        "    }).reset_index()\n",
        "\n",
        "    # Clean up column names\n",
        "    columns = [\"model\", \"avg_time\", \"min_time\", \"max_time\", \"std_time\"]\n",
        "    if \"crypto_score\" in combined_results.columns:\n",
        "        columns.extend([\"avg_crypto_score\", \"min_crypto_score\", \"max_crypto_score\", \"std_crypto_score\"])\n",
        "    columns.append(\"avg_length\")\n",
        "    model_metrics.columns = columns\n",
        "\n",
        "    print(\"\\n===== CRYPTOCURRENCY BENCHMARK RESULTS =====\\n\")\n",
        "    print(model_metrics)\n",
        "\n",
        "    # Save detailed results\n",
        "    combined_results.to_csv(\"crypto_benchmark_detailed_results.csv\", index=False)\n",
        "    model_metrics.to_csv(\"crypto_benchmark_summary_results.csv\", index=False)\n",
        "\n",
        "    # Create visualizations\n",
        "    plt.figure(figsize=(12, 6))\n",
        "    plt.barh(model_metrics[\"model\"], model_metrics[\"avg_time\"], xerr=model_metrics[\"std_time\"], capsize=5, color=\"blue\")\n",
        "    plt.xlabel(\"Average Response Time (seconds)\")\n",
        "    plt.title(\"Model Performance on Cryptocurrency Questions: Response Time\")\n",
        "    plt.tight_layout()\n",
        "    plt.savefig(\"crypto_benchmark_response_time.png\")\n",
        "    plt.show()\n",
        "\n",
        "    if \"avg_crypto_score\" in model_metrics.columns:\n",
        "        plt.figure(figsize=(12, 6))\n",
        "        plt.barh(model_metrics[\"model\"], model_metrics[\"avg_crypto_score\"],\n",
        "                xerr=model_metrics[\"std_crypto_score\"], capsize=5, color=\"green\")\n",
        "        plt.xlabel(\"Average Cryptocurrency Score (0-1)\")\n",
        "        plt.title(\"Model Performance on Cryptocurrency Questions: Knowledge Score\")\n",
        "        plt.xlim(0, 1)\n",
        "        plt.tight_layout()\n",
        "        plt.savefig(\"crypto_benchmark_knowledge_score.png\")\n",
        "        plt.show()\n",
        "\n",
        "    plt.figure(figsize=(12, 6))\n",
        "    plt.barh(model_metrics[\"model\"], model_metrics[\"avg_length\"], color=\"purple\")\n",
        "    plt.xlabel(\"Average Response Length (words)\")\n",
        "    plt.title(\"Model Performance on Cryptocurrency Questions: Response Length\")\n",
        "    plt.tight_layout()\n",
        "    plt.savefig(\"crypto_benchmark_response_length.png\")\n",
        "    plt.show()\n",
        "\n",
        "    return combined_results, model_metrics\n",
        "\n",
        "# ===== INTERACTIVE UI FOR CRYPTO MODEL COMPARISON =====\n",
        "def run_interactive_crypto_comparison():\n",
        "    \"\"\"Interactive UI for cryptocurrency model comparison with widgets.\"\"\"\n",
        "    # Create output area\n",
        "    output = widgets.Output()\n",
        "\n",
        "    # Create text input for query\n",
        "    query_input = widgets.Text(\n",
        "        value='What is Bitcoin?',\n",
        "        placeholder='Enter your cryptocurrency question',\n",
        "        description='Query:',\n",
        "        disabled=False,\n",
        "        style={'description_width': 'initial'},\n",
        "        layout=widgets.Layout(width='80%')\n",
        "    )\n",
        "\n",
        "    # Model selection checkboxes with UPDATED MODELS\n",
        "    model_checkboxes = {\n",
        "        \"llama3\": widgets.Checkbox(\n",
        "            value=True,\n",
        "            description='Llama 3.3 (70B)',\n",
        "            disabled=False\n",
        "        ),\n",
        "        \"llama4\": widgets.Checkbox(\n",
        "            value=True,\n",
        "            description='Llama 4 Scout',\n",
        "            disabled=False\n",
        "        ),\n",
        "        \"qwq\": widgets.Checkbox(\n",
        "            value=True,\n",
        "            description='Qwen QwQ-32B',\n",
        "            disabled=False\n",
        "        ),\n",
        "        \"flan-t5\": widgets.Checkbox(\n",
        "            value=True,\n",
        "            description='Flan-T5 (base)',\n",
        "            disabled=False\n",
        "        )\n",
        "    }\n",
        "\n",
        "    # Button for comparison\n",
        "    compare_button = widgets.Button(\n",
        "        description='Compare Crypto Models',\n",
        "        disabled=False,\n",
        "        button_style='primary',\n",
        "        tooltip='Click to compare models',\n",
        "        icon='check'\n",
        "    )\n",
        "\n",
        "    # Button for benchmark\n",
        "    benchmark_button = widgets.Button(\n",
        "        description='Run Crypto Benchmark',\n",
        "        disabled=False,\n",
        "        button_style='success',\n",
        "        tooltip='Click to run the benchmark',\n",
        "        icon='play'\n",
        "    )\n",
        "\n",
        "    # Arrange widgets\n",
        "    model_selection = widgets.VBox([\n",
        "        widgets.HTML('<b>Select Models to Compare:</b>'),\n",
        "        model_checkboxes[\"llama3\"],\n",
        "        model_checkboxes[\"llama4\"],\n",
        "        model_checkboxes[\"qwq\"],\n",
        "        model_checkboxes[\"flan-t5\"]\n",
        "    ])\n",
        "\n",
        "    # Button click handler for comparison with UPDATED MODELS\n",
        "    def on_compare_button_clicked(b):\n",
        "        with output:\n",
        "            clear_output()\n",
        "\n",
        "            # Get selected models\n",
        "            selected_models = []\n",
        "            if model_checkboxes[\"llama3\"].value:\n",
        "                selected_models.append({\"name\": \"llama-3.3-70b-versatile\", \"description\": \"Llama 3.3 (70B)\", \"type\": \"groq\"})\n",
        "            if model_checkboxes[\"llama4\"].value:\n",
        "                selected_models.append({\"name\": \"llama-4-scout\", \"description\": \"Llama 4 Scout\", \"type\": \"groq\"})\n",
        "            if model_checkboxes[\"qwq\"].value:\n",
        "                selected_models.append({\"name\": \"qwen-qwq-32b\", \"description\": \"Qwen QwQ-32B\", \"type\": \"groq\"})\n",
        "            if model_checkboxes[\"flan-t5\"].value:\n",
        "                selected_models.append({\"name\": \"google/flan-t5-base\", \"description\": \"Flan-T5 (base)\", \"type\": \"hf\"})\n",
        "\n",
        "            if not selected_models:\n",
        "                print(\"Please select at least one model to compare.\")\n",
        "                return\n",
        "\n",
        "            # Get query\n",
        "            query = query_input.value\n",
        "            if not query:\n",
        "                print(\"Please enter a cryptocurrency question.\")\n",
        "                return\n",
        "\n",
        "            # Run comparison\n",
        "            print(\"Starting cryptocurrency model comparison...\")\n",
        "            results_df = compare_crypto_models(query, selected_models)\n",
        "\n",
        "            # Display results\n",
        "            print(\"\\n===== CRYPTOCURRENCY MODEL COMPARISON RESULTS =====\\n\")\n",
        "            for _, row in results_df.iterrows():\n",
        "                print(f\"MODEL: {row['description']}\")\n",
        "                print(f\"STATUS: {row['status']}\")\n",
        "                print(f\"TIME: {row['response_time']:.2f} seconds\")\n",
        "                if \"crypto_score\" in row:\n",
        "                    print(f\"CRYPTO SCORE: {row['crypto_score']:.2f}\")\n",
        "                print(f\"RESPONSE: {row['response']}\")\n",
        "                print(\"\\n\" + \"-\"*50 + \"\\n\")\n",
        "\n",
        "            # Visualize results\n",
        "            try:\n",
        "                visualize_crypto_results(results_df)\n",
        "            except Exception as e:\n",
        "                print(f\"Error creating visualizations: {e}\")\n",
        "\n",
        "            # Save results to CSV\n",
        "            try:\n",
        "                results_df.to_csv(\"crypto_model_comparison_results.csv\", index=False)\n",
        "                print(\"Results saved to 'crypto_model_comparison_results.csv'\")\n",
        "            except Exception as e:\n",
        "                print(f\"Error saving results: {e}\")\n",
        "\n",
        "    # Button click handler for benchmark with UPDATED MODELS\n",
        "    def on_benchmark_button_clicked(b):\n",
        "        with output:\n",
        "            clear_output()\n",
        "\n",
        "            # Get selected models\n",
        "            selected_models = []\n",
        "            if model_checkboxes[\"llama3\"].value:\n",
        "                selected_models.append({\"name\": \"llama-3.3-70b-versatile\", \"description\": \"Llama 3.3 (70B)\", \"type\": \"groq\"})\n",
        "            if model_checkboxes[\"llama4\"].value:\n",
        "                selected_models.append({\"name\": \"llama-4-scout\", \"description\": \"Llama 4 Scout\", \"type\": \"groq\"})\n",
        "            if model_checkboxes[\"qwq\"].value:\n",
        "                selected_models.append({\"name\": \"qwen-qwq-32b\", \"description\": \"Qwen QwQ-32B\", \"type\": \"groq\"})\n",
        "            if model_checkboxes[\"flan-t5\"].value:\n",
        "                selected_models.append({\"name\": \"google/flan-t5-base\", \"description\": \"Flan-T5 (base)\", \"type\": \"hf\"})\n",
        "\n",
        "            if not selected_models:\n",
        "                print(\"Please select at least one model to benchmark.\")\n",
        "                return\n",
        "\n",
        "            # Run benchmark\n",
        "            print(\"Starting cryptocurrency benchmark. This may take several minutes...\")\n",
        "            combined_results, model_metrics = run_crypto_benchmark(models=selected_models)\n",
        "            print(\"\\nCryptocurrency benchmark completed!\")\n",
        "\n",
        "    compare_button.on_click(on_compare_button_clicked)\n",
        "    benchmark_button.on_click(on_benchmark_button_clicked)\n",
        "\n",
        "    # Display widgets\n",
        "    display(widgets.HTML('<h2>Cryptocurrency Model Comparison</h2>'))\n",
        "    display(query_input)\n",
        "    display(widgets.HBox([model_selection, widgets.VBox([compare_button, benchmark_button])]))\n",
        "    display(output)\n",
        "\n",
        "# Simple example of how to use this code\n",
        "if __name__ == \"__main__\":\n",
        "    # Check if we're in a Jupyter/Colab environment\n",
        "    try:\n",
        "        get_ipython\n",
        "        in_notebook = True\n",
        "    except:\n",
        "        in_notebook = False\n",
        "\n",
        "    if in_notebook:\n",
        "        # Interactive UI for notebooks\n",
        "        run_interactive_crypto_comparison()\n",
        "    else:\n",
        "        # Simple example for non-notebooks\n",
        "        query = \"What are the main differences between Bitcoin and Ethereum?\"\n",
        "\n",
        "        print(\"Comparing models on cryptocurrency question...\")\n",
        "        results = compare_crypto_models(query)\n",
        "\n",
        "        print(\"\\nResults:\")\n",
        "        for _, row in results.iterrows():\n",
        "            print(f\"\\nModel: {row['description']}\")\n",
        "            print(f\"Response: {row['response']}\")"
      ],
      "metadata": {
        "colab": {
          "base_uri": "https://localhost:8080/",
          "height": 1000,
          "referenced_widgets": [
            "f55907f79cd640639b967d1db467aaf4",
            "6c9c948e7aed41febb632303b4b0986b",
            "20575b955cbe4e30804547970ecd87e3",
            "cf5903605ff44272810404768641396c",
            "c6877c6f60e843f58063e649a78058d0",
            "c8dc21b58bbb4032996564c74040fba2",
            "9868b7ced7ff4c68a36873be8b82b61b",
            "bdbc838efcfc433b9b79c9a2f5fcb7f9",
            "3f40f70977f4466382eae6c6b07fc25d",
            "3167cf6538d04c51a822bb9f7b367e9a",
            "7c9f455d30374999af86df0cfcc0a258",
            "95f21aef622e486f8cc76e72c24f3886",
            "6a2ecda3e39a4404a172140b88b8e583",
            "c1b33cf40bdb4b6b881fac5d3015361c",
            "8d17da15b70649c3af6701c46c612586",
            "9d2c150014dc4e7e908a65b9ec4a470b",
            "153b99a5c3c14c29a768df5cb6f381a9",
            "96edaee114d842f2bcb5d27ee7cc1003",
            "6735ceb51b2d454e932f3d60513f428a",
            "44a27ea46fbd4b8c8ef98124f28ae084",
            "2e3d6ed431834ca29d1e9400f4dda609",
            "e19bcb17352b490c93c701263b437aaa",
            "2418bd576bdd4bc080065568e14cedb6",
            "dc74dbe26191499f9e15b99478f0955f",
            "6f33a5b9253d46c8a568e8a249166e57",
            "af97976d7dd740ed887e11e17b61d79a",
            "3069d6b09cae47be9b959ca21dedbc57",
            "b8b0bada3b1749a09ad038afe749c44f",
            "8636f785cae04cf386781a680866c919",
            "98fe9b71b24e4e2d9a24ddd84a4cc6df",
            "b6b320af91d6478697aa64f528b075e1",
            "8c7bb28e82f7473399191fe766d82e9c",
            "0c38b6efaffb494da604a765a215ad4b",
            "e4ef02aaf4604705818c9114fe3652f9",
            "781512e960744a59abce8bb3a963d5ae"
          ]
        },
        "id": "hNJ1FoMFDEQ_",
        "outputId": "a523e2fb-68cc-4dfe-ea30-4004e6880153"
      },
      "execution_count": 8,
      "outputs": [
        {
          "output_type": "display_data",
          "data": {
            "text/plain": [
              "HTML(value='<h2>Cryptocurrency Model Comparison</h2>')"
            ],
            "application/vnd.jupyter.widget-view+json": {
              "version_major": 2,
              "version_minor": 0,
              "model_id": "f55907f79cd640639b967d1db467aaf4"
            }
          },
          "metadata": {}
        },
        {
          "output_type": "display_data",
          "data": {
            "text/plain": [
              "Text(value='What is Bitcoin?', description='Query:', layout=Layout(width='80%'), placeholder='Enter your crypt…"
            ],
            "application/vnd.jupyter.widget-view+json": {
              "version_major": 2,
              "version_minor": 0,
              "model_id": "cf5903605ff44272810404768641396c"
            }
          },
          "metadata": {}
        },
        {
          "output_type": "display_data",
          "data": {
            "text/plain": [
              "HBox(children=(VBox(children=(HTML(value='<b>Select Models to Compare:</b>'), Checkbox(value=True, description…"
            ],
            "application/vnd.jupyter.widget-view+json": {
              "version_major": 2,
              "version_minor": 0,
              "model_id": "9868b7ced7ff4c68a36873be8b82b61b"
            }
          },
          "metadata": {}
        },
        {
          "output_type": "display_data",
          "data": {
            "text/plain": [
              "Output()"
            ],
            "application/vnd.jupyter.widget-view+json": {
              "version_major": 2,
              "version_minor": 0,
              "model_id": "e4ef02aaf4604705818c9114fe3652f9"
            }
          },
          "metadata": {}
        }
      ]
    },
    {
      "cell_type": "code",
      "source": [
        "from tqdm import tqdm\n",
        "\n",
        "# First, let's properly download the NLTK data\n",
        "import nltk\n",
        "nltk.download('punkt')\n",
        "\n",
        "# Import necessary libraries for different approaches\n",
        "from langchain_groq import ChatGroq\n",
        "from langchain.prompts.chat import ChatPromptTemplate\n",
        "from transformers import pipeline\n",
        "\n",
        "# Simplified version that doesn't require many external dependencies\n",
        "class CryptoEvalConfig:\n",
        "    def __init__(self):\n",
        "        # Models to evaluate\n",
        "        self.models = [\n",
        "            {\"name\": \"llama-3.3-70b-versatile\", \"description\": \"Llama 3.3 (70B)\", \"type\": \"groq\"},\n",
        "            {\"name\": \"llama-4-scout\", \"description\": \"Llama 4 Scout\", \"type\": \"groq\"},\n",
        "            {\"name\": \"qwen-qwq-32b\", \"description\": \"Qwen QwQ-32B\", \"type\": \"groq\"}\n",
        "        ]\n",
        "\n",
        "        # Approaches to evaluate\n",
        "        self.approaches = [\"prompt_engineering\", \"rag\", \"fine_tuning\"]\n",
        "\n",
        "        # Benchmark queries and references\n",
        "        self.benchmark_queries = [\n",
        "            {\n",
        "                \"query\": \"What is Bitcoin?\",\n",
        "                \"reference\": \"Bitcoin is a decentralized digital currency created in 2009 that operates without a central authority.\"\n",
        "            },\n",
        "            {\n",
        "                \"query\": \"How does blockchain work?\",\n",
        "                \"reference\": \"Blockchain is a distributed ledger technology that records transactions in a secure, immutable way across multiple computers, ensuring transparency and security without central control.\"\n",
        "            }\n",
        "        ]\n",
        "\n",
        "        # Simplified hyperparameters\n",
        "        self.hyperparameters = {\n",
        "            \"prompt_engineering\": {\n",
        "                \"temperature\": [0.0, 0.7],\n",
        "                \"max_tokens\": [100, 300]\n",
        "            },\n",
        "            \"rag\": {\n",
        "                \"chunk_size\": [200],\n",
        "                \"k\": [3]\n",
        "            },\n",
        "            \"fine_tuning\": {\n",
        "                \"epochs\": [1],\n",
        "                \"learning_rate\": [5e-5]\n",
        "            }\n",
        "        }\n",
        "\n",
        "        # Paths\n",
        "        self.prompt_file_path = \"advisor_prompts 1.yml\"\n",
        "        self.results_path = \"evaluation_results/\"\n",
        "        os.makedirs(self.results_path, exist_ok=True)\n",
        "\n",
        "# Simplified evaluation metrics without relying on external packages\n",
        "class SimpleEvaluationMetrics:\n",
        "    def __init__(self):\n",
        "        pass\n",
        "\n",
        "    def calculate_token_overlap(self, candidate, reference):\n",
        "        \"\"\"Calculate simple token overlap (similar to ROUGE but simpler)\"\"\"\n",
        "        if not candidate or not reference:\n",
        "            return 0\n",
        "\n",
        "        # Tokenize with simple split\n",
        "        candidate_tokens = candidate.lower().split()\n",
        "        reference_tokens = reference.lower().split()\n",
        "\n",
        "        # Create sets of tokens\n",
        "        candidate_set = set(candidate_tokens)\n",
        "        reference_set = set(reference_tokens)\n",
        "\n",
        "        # Calculate overlap\n",
        "        overlap = len(candidate_set.intersection(reference_set))\n",
        "\n",
        "        # Calculate F1 score\n",
        "        precision = overlap / len(candidate_set) if candidate_set else 0\n",
        "        recall = overlap / len(reference_set) if reference_set else 0\n",
        "        f1 = 2 * precision * recall / (precision + recall) if (precision + recall) > 0 else 0\n",
        "\n",
        "        return f1\n",
        "\n",
        "    def calculate_crypto_score(self, response):\n",
        "        \"\"\"Calculate cryptocurrency domain-specific score.\"\"\"\n",
        "        crypto_terms = [\n",
        "            \"bitcoin\", \"ethereum\", \"blockchain\", \"cryptocurrency\", \"token\", \"wallet\",\n",
        "            \"mining\", \"proof of stake\", \"proof of work\", \"defi\", \"smart contract\",\n",
        "            \"nft\", \"decentralized\", \"consensus\", \"ledger\", \"hash\", \"block\", \"transaction\"\n",
        "        ]\n",
        "\n",
        "        # Count cryptocurrency terms in lowercase response\n",
        "        response_lower = response.lower()\n",
        "        term_count = sum(1 for term in crypto_terms if term in response_lower)\n",
        "\n",
        "        # Normalize score (0-1)\n",
        "        crypto_score = min(1.0, term_count / 10)\n",
        "\n",
        "        return crypto_score\n",
        "\n",
        "    def evaluate_response(self, response, reference):\n",
        "        \"\"\"Evaluate a model response using token overlap and crypto score\"\"\"\n",
        "        token_overlap = self.calculate_token_overlap(response, reference)\n",
        "        crypto_score = self.calculate_crypto_score(response)\n",
        "\n",
        "        # Simple combined score\n",
        "        combined_score = 0.6 * token_overlap + 0.4 * crypto_score\n",
        "\n",
        "        return {\n",
        "            \"token_overlap\": token_overlap,\n",
        "            \"crypto_score\": crypto_score,\n",
        "            \"combined_score\": combined_score\n",
        "        }\n",
        "\n",
        "# Simplified approach implementations\n",
        "class PromptEngineeringApproach:\n",
        "    def __init__(self, model_info, prompt_file_path, hyperparams=None):\n",
        "        self.model_info = model_info\n",
        "        self.prompt_file_path = prompt_file_path\n",
        "        self.hyperparams = hyperparams or {\"temperature\": 0.0, \"max_tokens\": 200}\n",
        "        self.load_prompts()\n",
        "\n",
        "    def load_prompts(self):\n",
        "        \"\"\"Load advisor prompts from YAML file or use default.\"\"\"\n",
        "        try:\n",
        "            with open(self.prompt_file_path, 'r') as file:\n",
        "                self.prompts = yaml.safe_load(file)\n",
        "        except Exception as e:\n",
        "            print(f\"Error loading prompts: {str(e)}\")\n",
        "            self.prompts = {\"system_prompt\": \"You are a cryptocurrency advisor. Provide accurate information.\"}\n",
        "\n",
        "    def generate_response(self, query):\n",
        "        \"\"\"Simulate generation using prompt engineering approach.\"\"\"\n",
        "        try:\n",
        "            system_prompt = self.prompts.get(\"system_prompt\", \"You are a cryptocurrency advisor.\")\n",
        "\n",
        "            # Simulate response based on query and model\n",
        "            if query == \"What is Bitcoin?\":\n",
        "                response = f\"Bitcoin is a decentralized digital currency created in 2009 by an anonymous person or group using the pseudonym Satoshi Nakamoto. It operates without a central authority or banks. This response was generated with temperature={self.hyperparams['temperature']}.\"\n",
        "            elif query == \"How does blockchain work?\":\n",
        "                response = f\"Blockchain is a distributed ledger technology where transactions are recorded across multiple computers in a way that ensures security, transparency, and immutability. Each block contains transaction data and a hash of the previous block. This response used max_tokens={self.hyperparams['max_tokens']}.\"\n",
        "            else:\n",
        "                response = f\"This is a simulated response about {query} from the {self.model_info['description']} model using prompt engineering.\"\n",
        "\n",
        "            return {\n",
        "                \"response\": response,\n",
        "                \"response_time\": 1.2,  # Simulated response time\n",
        "                \"status\": \"success\"\n",
        "            }\n",
        "        except Exception as e:\n",
        "            return {\n",
        "                \"response\": f\"Error with {self.model_info['name']}: {str(e)}\",\n",
        "                \"response_time\": 0,\n",
        "                \"status\": \"error\"\n",
        "            }\n",
        "\n",
        "class RAGApproach:\n",
        "    def __init__(self, model_info, hyperparams=None):\n",
        "        self.model_info = model_info\n",
        "        self.hyperparams = hyperparams or {\"chunk_size\": 200, \"k\": 3}\n",
        "\n",
        "    def generate_response(self, query):\n",
        "        \"\"\"Simulate generation using RAG approach.\"\"\"\n",
        "        try:\n",
        "            # Simulate RAG response based on query and model\n",
        "            if query == \"What is Bitcoin?\":\n",
        "                response = f\"Based on relevant documents, Bitcoin is a peer-to-peer electronic cash system introduced in a 2008 whitepaper by Satoshi Nakamoto. It enables online payments without going through financial institutions. RAG parameters: chunk_size={self.hyperparams['chunk_size']}, k={self.hyperparams['k']}.\"\n",
        "            elif query == \"How does blockchain work?\":\n",
        "                response = f\"According to retrieved documents, blockchain maintains a continuously growing list of records (blocks) linked using cryptography. Each block contains a timestamp and transaction data. Once recorded, the data cannot be altered retroactively. This response used {self.model_info['description']} with RAG.\"\n",
        "            else:\n",
        "                response = f\"This is a simulated RAG response about {query} using retrieved context and the {self.model_info['description']} model.\"\n",
        "\n",
        "            return {\n",
        "                \"response\": response,\n",
        "                \"response_time\": 1.5,  # Simulated response time\n",
        "                \"status\": \"success\"\n",
        "            }\n",
        "        except Exception as e:\n",
        "            return {\n",
        "                \"response\": f\"Error with {self.model_info['name']} RAG: {str(e)}\",\n",
        "                \"response_time\": 0,\n",
        "                \"status\": \"error\"\n",
        "            }\n",
        "\n",
        "class FineTuningApproach:\n",
        "    def __init__(self, model_info, hyperparams=None):\n",
        "        self.model_info = model_info\n",
        "        self.hyperparams = hyperparams or {\"epochs\": 1, \"learning_rate\": 5e-5}\n",
        "\n",
        "    def generate_response(self, query):\n",
        "        \"\"\"Simulate generation using fine-tuned model approach.\"\"\"\n",
        "        try:\n",
        "            # Simulate fine-tuned response based on query and model\n",
        "            if query == \"What is Bitcoin?\":\n",
        "                response = f\"Bitcoin is a decentralized digital currency that enables instant payments to anyone, anywhere in the world without requiring a central authority. This response is from a model fine-tuned for {self.hyperparams['epochs']} epochs.\"\n",
        "            elif query == \"How does blockchain work?\":\n",
        "                response = f\"Blockchain technology maintains a digital ledger of transactions across a network of computers. It uses cryptographic methods to ensure data integrity and consensus mechanisms to validate transactions. Fine-tuned with learning rate {self.hyperparams['learning_rate']}.\"\n",
        "            else:\n",
        "                response = f\"This is a simulated response from a fine-tuned {self.model_info['description']} model about {query}.\"\n",
        "\n",
        "            return {\n",
        "                \"response\": response,\n",
        "                \"response_time\": 0.8,  # Simulated response time\n",
        "                \"status\": \"success\"\n",
        "            }\n",
        "        except Exception as e:\n",
        "            return {\n",
        "                \"response\": f\"Error with {self.model_info['name']} fine-tuning: {str(e)}\",\n",
        "                \"response_time\": 0,\n",
        "                \"status\": \"error\"\n",
        "            }\n",
        "\n",
        "# Simplified experiment runner\n",
        "def run_simplified_evaluation():\n",
        "    \"\"\"Run a simplified evaluation that doesn't require external dependencies.\"\"\"\n",
        "    print(\"Starting simplified evaluation experiment...\")\n",
        "\n",
        "    # Initialize configuration\n",
        "    config = CryptoEvalConfig()\n",
        "\n",
        "    # Initialize metrics\n",
        "    metrics = SimpleEvaluationMetrics()\n",
        "\n",
        "    # Initialize results list\n",
        "    results = []\n",
        "\n",
        "    # Run experiment\n",
        "    for approach_name in config.approaches:\n",
        "        print(f\"\\nEvaluating {approach_name} approach...\")\n",
        "\n",
        "        # Get hyperparameter combinations for this approach\n",
        "        hyperparam_keys = list(config.hyperparameters[approach_name].keys())\n",
        "        hyperparam_values = list(config.hyperparameters[approach_name].values())\n",
        "\n",
        "        # Generate all combinations of hyperparameters\n",
        "        hyperparam_combinations = []\n",
        "\n",
        "        def generate_combinations(index, current_combo):\n",
        "            if index == len(hyperparam_keys):\n",
        "                hyperparam_combinations.append(current_combo.copy())\n",
        "                return\n",
        "\n",
        "            for value in hyperparam_values[index]:\n",
        "                current_combo[hyperparam_keys[index]] = value\n",
        "                generate_combinations(index + 1, current_combo)\n",
        "\n",
        "        generate_combinations(0, {})\n",
        "\n",
        "        for model_info in config.models:\n",
        "            print(f\"\\n  Testing model: {model_info['description']}\")\n",
        "\n",
        "            for hyperparams in hyperparam_combinations:\n",
        "                hyperparam_str = \", \".join([f\"{k}={v}\" for k, v in hyperparams.items()])\n",
        "                print(f\"    With hyperparameters: {hyperparam_str}\")\n",
        "\n",
        "                # Initialize the appropriate approach\n",
        "                if approach_name == \"prompt_engineering\":\n",
        "                    approach = PromptEngineeringApproach(\n",
        "                        model_info,\n",
        "                        config.prompt_file_path,\n",
        "                        hyperparams\n",
        "                    )\n",
        "                elif approach_name == \"rag\":\n",
        "                    approach = RAGApproach(\n",
        "                        model_info,\n",
        "                        hyperparams\n",
        "                    )\n",
        "                elif approach_name == \"fine_tuning\":\n",
        "                    approach = FineTuningApproach(\n",
        "                        model_info,\n",
        "                        hyperparams\n",
        "                    )\n",
        "\n",
        "                # Run benchmark queries\n",
        "                for benchmark in config.benchmark_queries:\n",
        "                    query = benchmark[\"query\"]\n",
        "                    reference = benchmark[\"reference\"]\n",
        "\n",
        "                    print(f\"      Query: {query}\")\n",
        "\n",
        "                    # Generate response\n",
        "                    result = approach.generate_response(query)\n",
        "\n",
        "                    if result[\"status\"] == \"success\":\n",
        "                        # Evaluate response\n",
        "                        evaluation = metrics.evaluate_response(result[\"response\"], reference)\n",
        "\n",
        "                        # Combine all information\n",
        "                        experiment_result = {\n",
        "                            \"approach\": approach_name,\n",
        "                            \"model\": model_info[\"name\"],\n",
        "                            \"model_description\": model_info[\"description\"],\n",
        "                            \"hyperparameters\": str(hyperparams),  # Convert to string for easier handling\n",
        "                            \"query\": query,\n",
        "                            \"reference\": reference,\n",
        "                            \"response\": result[\"response\"],\n",
        "                            \"response_time\": result[\"response_time\"],\n",
        "                            \"status\": result[\"status\"],\n",
        "                            \"token_overlap\": evaluation[\"token_overlap\"],\n",
        "                            \"crypto_score\": evaluation[\"crypto_score\"],\n",
        "                            \"combined_score\": evaluation[\"combined_score\"]\n",
        "                        }\n",
        "\n",
        "                        # Add to results\n",
        "                        results.append(experiment_result)\n",
        "\n",
        "                        print(f\"      Combined score: {evaluation['combined_score']:.4f}\")\n",
        "                    else:\n",
        "                        print(f\"      Error: {result['response']}\")\n",
        "\n",
        "    # Convert results to DataFrame\n",
        "    results_df = pd.DataFrame(results)\n",
        "\n",
        "    # Save results\n",
        "    results_path = os.path.join(config.results_path, \"simplified_experiment_results.csv\")\n",
        "    results_df.to_csv(results_path, index=False)\n",
        "    print(f\"Results saved to {results_path}\")\n",
        "\n",
        "    # Analyze results\n",
        "    if len(results_df) > 0:\n",
        "        print(\"\\n===== ANALYSIS OF RESULTS =====\")\n",
        "\n",
        "        # 1. Best approach overall\n",
        "        approach_metrics = results_df.groupby(\"approach\").agg({\n",
        "            \"combined_score\": \"mean\",\n",
        "            \"token_overlap\": \"mean\",\n",
        "            \"crypto_score\": \"mean\",\n",
        "            \"response_time\": \"mean\"\n",
        "        }).reset_index()\n",
        "\n",
        "        print(\"\\nPerformance by Approach:\")\n",
        "        print(approach_metrics[[\"approach\", \"combined_score\", \"token_overlap\", \"crypto_score\"]])\n",
        "\n",
        "        best_approach = approach_metrics.loc[approach_metrics[\"combined_score\"].idxmax()]\n",
        "        print(f\"\\nBest approach: {best_approach['approach']} (Combined Score: {best_approach['combined_score']:.4f})\")\n",
        "\n",
        "        # 2. Best model overall\n",
        "        model_metrics = results_df.groupby(\"model_description\").agg({\n",
        "            \"combined_score\": \"mean\",\n",
        "            \"token_overlap\": \"mean\",\n",
        "            \"crypto_score\": \"mean\",\n",
        "            \"response_time\": \"mean\"\n",
        "        }).reset_index()\n",
        "\n",
        "        print(\"\\nPerformance by Model:\")\n",
        "        print(model_metrics[[\"model_description\", \"combined_score\", \"token_overlap\", \"crypto_score\"]])\n",
        "\n",
        "        best_model = model_metrics.loc[model_metrics[\"combined_score\"].idxmax()]\n",
        "        print(f\"\\nBest model: {best_model['model_description']} (Combined Score: {best_model['combined_score']:.4f})\")\n",
        "\n",
        "        # 3. Best approach-model combination\n",
        "        combo_metrics = results_df.groupby([\"approach\", \"model_description\"]).agg({\n",
        "            \"combined_score\": \"mean\",\n",
        "            \"token_overlap\": \"mean\",\n",
        "            \"crypto_score\": \"mean\"\n",
        "        }).reset_index()\n",
        "\n",
        "        print(\"\\nTop 3 Approach-Model Combinations:\")\n",
        "        top_combos = combo_metrics.sort_values(\"combined_score\", ascending=False).head(3)\n",
        "        print(top_combos[[\"approach\", \"model_description\", \"combined_score\"]])\n",
        "\n",
        "        # 4. Sample responses from best configurations\n",
        "        best_idx = results_df[\"combined_score\"].idxmax()\n",
        "        best_result = results_df.loc[best_idx]\n",
        "\n",
        "        print(\"\\nBest Overall Result:\")\n",
        "        print(f\"  Approach: {best_result['approach']}\")\n",
        "        print(f\"  Model: {best_result['model_description']}\")\n",
        "        print(f\"  Query: {best_result['query']}\")\n",
        "        print(f\"  Response: {best_result['response']}\")\n",
        "        print(f\"  Combined Score: {best_result['combined_score']:.4f}\")\n",
        "\n",
        "        return results_df, approach_metrics, model_metrics, combo_metrics\n",
        "    else:\n",
        "        print(\"No results to analyze.\")\n",
        "        return None, None, None, None\n",
        "\n",
        "# Run the simplified evaluation\n",
        "if __name__ == \"__main__\":\n",
        "    results_df, approach_metrics, model_metrics, combo_metrics = run_simplified_evaluation()"
      ],
      "metadata": {
        "colab": {
          "base_uri": "https://localhost:8080/"
        },
        "id": "TXIkCV70D7nJ",
        "outputId": "fb63ef78-c04a-454e-e7ee-d3a2968d0d09"
      },
      "execution_count": 9,
      "outputs": [
        {
          "output_type": "stream",
          "name": "stderr",
          "text": [
            "[nltk_data] Downloading package punkt to /root/nltk_data...\n",
            "[nltk_data]   Unzipping tokenizers/punkt.zip.\n"
          ]
        },
        {
          "output_type": "stream",
          "name": "stdout",
          "text": [
            "Starting simplified evaluation experiment...\n",
            "\n",
            "Evaluating prompt_engineering approach...\n",
            "\n",
            "  Testing model: Llama 3.3 (70B)\n",
            "    With hyperparameters: temperature=0.0, max_tokens=100\n",
            "Error loading prompts: [Errno 2] No such file or directory: 'advisor_prompts 1.yml'\n",
            "      Query: What is Bitcoin?\n",
            "      Combined score: 0.3930\n",
            "      Query: How does blockchain work?\n",
            "      Combined score: 0.5090\n",
            "    With hyperparameters: temperature=0.0, max_tokens=300\n",
            "Error loading prompts: [Errno 2] No such file or directory: 'advisor_prompts 1.yml'\n",
            "      Query: What is Bitcoin?\n",
            "      Combined score: 0.3930\n",
            "      Query: How does blockchain work?\n",
            "      Combined score: 0.5090\n",
            "    With hyperparameters: temperature=0.7, max_tokens=100\n",
            "Error loading prompts: [Errno 2] No such file or directory: 'advisor_prompts 1.yml'\n",
            "      Query: What is Bitcoin?\n",
            "      Combined score: 0.3930\n",
            "      Query: How does blockchain work?\n",
            "      Combined score: 0.5090\n",
            "    With hyperparameters: temperature=0.7, max_tokens=300\n",
            "Error loading prompts: [Errno 2] No such file or directory: 'advisor_prompts 1.yml'\n",
            "      Query: What is Bitcoin?\n",
            "      Combined score: 0.3930\n",
            "      Query: How does blockchain work?\n",
            "      Combined score: 0.5090\n",
            "\n",
            "  Testing model: Llama 4 Scout\n",
            "    With hyperparameters: temperature=0.0, max_tokens=100\n",
            "Error loading prompts: [Errno 2] No such file or directory: 'advisor_prompts 1.yml'\n",
            "      Query: What is Bitcoin?\n",
            "      Combined score: 0.3930\n",
            "      Query: How does blockchain work?\n",
            "      Combined score: 0.5090\n",
            "    With hyperparameters: temperature=0.0, max_tokens=300\n",
            "Error loading prompts: [Errno 2] No such file or directory: 'advisor_prompts 1.yml'\n",
            "      Query: What is Bitcoin?\n",
            "      Combined score: 0.3930\n",
            "      Query: How does blockchain work?\n",
            "      Combined score: 0.5090\n",
            "    With hyperparameters: temperature=0.7, max_tokens=100\n",
            "Error loading prompts: [Errno 2] No such file or directory: 'advisor_prompts 1.yml'\n",
            "      Query: What is Bitcoin?\n",
            "      Combined score: 0.3930\n",
            "      Query: How does blockchain work?\n",
            "      Combined score: 0.5090\n",
            "    With hyperparameters: temperature=0.7, max_tokens=300\n",
            "Error loading prompts: [Errno 2] No such file or directory: 'advisor_prompts 1.yml'\n",
            "      Query: What is Bitcoin?\n",
            "      Combined score: 0.3930\n",
            "      Query: How does blockchain work?\n",
            "      Combined score: 0.5090\n",
            "\n",
            "  Testing model: Qwen QwQ-32B\n",
            "    With hyperparameters: temperature=0.0, max_tokens=100\n",
            "Error loading prompts: [Errno 2] No such file or directory: 'advisor_prompts 1.yml'\n",
            "      Query: What is Bitcoin?\n",
            "      Combined score: 0.3930\n",
            "      Query: How does blockchain work?\n",
            "      Combined score: 0.5090\n",
            "    With hyperparameters: temperature=0.0, max_tokens=300\n",
            "Error loading prompts: [Errno 2] No such file or directory: 'advisor_prompts 1.yml'\n",
            "      Query: What is Bitcoin?\n",
            "      Combined score: 0.3930\n",
            "      Query: How does blockchain work?\n",
            "      Combined score: 0.5090\n",
            "    With hyperparameters: temperature=0.7, max_tokens=100\n",
            "Error loading prompts: [Errno 2] No such file or directory: 'advisor_prompts 1.yml'\n",
            "      Query: What is Bitcoin?\n",
            "      Combined score: 0.3930\n",
            "      Query: How does blockchain work?\n",
            "      Combined score: 0.5090\n",
            "    With hyperparameters: temperature=0.7, max_tokens=300\n",
            "Error loading prompts: [Errno 2] No such file or directory: 'advisor_prompts 1.yml'\n",
            "      Query: What is Bitcoin?\n",
            "      Combined score: 0.3930\n",
            "      Query: How does blockchain work?\n",
            "      Combined score: 0.5090\n",
            "\n",
            "Evaluating rag approach...\n",
            "\n",
            "  Testing model: Llama 3.3 (70B)\n",
            "    With hyperparameters: chunk_size=200, k=3\n",
            "      Query: What is Bitcoin?\n",
            "      Combined score: 0.1733\n",
            "      Query: How does blockchain work?\n",
            "      Combined score: 0.1974\n",
            "\n",
            "  Testing model: Llama 4 Scout\n",
            "    With hyperparameters: chunk_size=200, k=3\n",
            "      Query: What is Bitcoin?\n",
            "      Combined score: 0.1733\n",
            "      Query: How does blockchain work?\n",
            "      Combined score: 0.1974\n",
            "\n",
            "  Testing model: Qwen QwQ-32B\n",
            "    With hyperparameters: chunk_size=200, k=3\n",
            "      Query: What is Bitcoin?\n",
            "      Combined score: 0.1733\n",
            "      Query: How does blockchain work?\n",
            "      Combined score: 0.1987\n",
            "\n",
            "Evaluating fine_tuning approach...\n",
            "\n",
            "  Testing model: Llama 3.3 (70B)\n",
            "    With hyperparameters: epochs=1, learning_rate=5e-05\n",
            "      Query: What is Bitcoin?\n",
            "      Combined score: 0.3943\n",
            "      Query: How does blockchain work?\n",
            "      Combined score: 0.3615\n",
            "\n",
            "  Testing model: Llama 4 Scout\n",
            "    With hyperparameters: epochs=1, learning_rate=5e-05\n",
            "      Query: What is Bitcoin?\n",
            "      Combined score: 0.3943\n",
            "      Query: How does blockchain work?\n",
            "      Combined score: 0.3615\n",
            "\n",
            "  Testing model: Qwen QwQ-32B\n",
            "    With hyperparameters: epochs=1, learning_rate=5e-05\n",
            "      Query: What is Bitcoin?\n",
            "      Combined score: 0.3943\n",
            "      Query: How does blockchain work?\n",
            "      Combined score: 0.3615\n",
            "Results saved to evaluation_results/simplified_experiment_results.csv\n",
            "\n",
            "===== ANALYSIS OF RESULTS =====\n",
            "\n",
            "Performance by Approach:\n",
            "             approach  combined_score  token_overlap  crypto_score\n",
            "0         fine_tuning        0.377912       0.396520          0.35\n",
            "1  prompt_engineering        0.451004       0.485007          0.40\n",
            "2                 rag        0.185588       0.175980          0.20\n",
            "\n",
            "Best approach: prompt_engineering (Combined Score: 0.4510)\n",
            "\n",
            "Performance by Model:\n",
            "  model_description  combined_score  token_overlap  crypto_score\n",
            "0   Llama 3.3 (70B)        0.394551       0.418696      0.358333\n",
            "1     Llama 4 Scout        0.394551       0.418696      0.358333\n",
            "2      Qwen QwQ-32B        0.394657       0.418873      0.358333\n",
            "\n",
            "Best model: Qwen QwQ-32B (Combined Score: 0.3947)\n",
            "\n",
            "Top 3 Approach-Model Combinations:\n",
            "             approach model_description  combined_score\n",
            "4  prompt_engineering     Llama 4 Scout        0.451004\n",
            "5  prompt_engineering      Qwen QwQ-32B        0.451004\n",
            "3  prompt_engineering   Llama 3.3 (70B)        0.451004\n",
            "\n",
            "Best Overall Result:\n",
            "  Approach: prompt_engineering\n",
            "  Model: Llama 3.3 (70B)\n",
            "  Query: How does blockchain work?\n",
            "  Response: Blockchain is a distributed ledger technology where transactions are recorded across multiple computers in a way that ensures security, transparency, and immutability. Each block contains transaction data and a hash of the previous block. This response used max_tokens=100.\n",
            "  Combined Score: 0.5090\n"
          ]
        }
      ]
    },
    {
      "cell_type": "code",
      "source": [
        "# Run this to install required packages\n",
        "!pip install rouge-score\n"
      ],
      "metadata": {
        "colab": {
          "base_uri": "https://localhost:8080/"
        },
        "id": "Xbl3OMnUeJlu",
        "outputId": "29cdf071-abd3-4606-d643-220883ad8318"
      },
      "execution_count": 10,
      "outputs": [
        {
          "output_type": "stream",
          "name": "stdout",
          "text": [
            "Collecting rouge-score\n",
            "  Downloading rouge_score-0.1.2.tar.gz (17 kB)\n",
            "  Preparing metadata (setup.py) ... \u001b[?25l\u001b[?25hdone\n",
            "Requirement already satisfied: absl-py in /usr/local/lib/python3.11/dist-packages (from rouge-score) (1.4.0)\n",
            "Requirement already satisfied: nltk in /usr/local/lib/python3.11/dist-packages (from rouge-score) (3.9.1)\n",
            "Requirement already satisfied: numpy in /usr/local/lib/python3.11/dist-packages (from rouge-score) (2.0.2)\n",
            "Requirement already satisfied: six>=1.14.0 in /usr/local/lib/python3.11/dist-packages (from rouge-score) (1.17.0)\n",
            "Requirement already satisfied: click in /usr/local/lib/python3.11/dist-packages (from nltk->rouge-score) (8.1.8)\n",
            "Requirement already satisfied: joblib in /usr/local/lib/python3.11/dist-packages (from nltk->rouge-score) (1.4.2)\n",
            "Requirement already satisfied: regex>=2021.8.3 in /usr/local/lib/python3.11/dist-packages (from nltk->rouge-score) (2024.11.6)\n",
            "Requirement already satisfied: tqdm in /usr/local/lib/python3.11/dist-packages (from nltk->rouge-score) (4.67.1)\n",
            "Building wheels for collected packages: rouge-score\n",
            "  Building wheel for rouge-score (setup.py) ... \u001b[?25l\u001b[?25hdone\n",
            "  Created wheel for rouge-score: filename=rouge_score-0.1.2-py3-none-any.whl size=24934 sha256=980770970aba42ce4af4ebecc7ed3764610d5227b339546ef8ea4e821c440dcc\n",
            "  Stored in directory: /root/.cache/pip/wheels/1e/19/43/8a442dc83660ca25e163e1bd1f89919284ab0d0c1475475148\n",
            "Successfully built rouge-score\n",
            "Installing collected packages: rouge-score\n",
            "Successfully installed rouge-score-0.1.2\n"
          ]
        }
      ]
    },
    {
      "cell_type": "code",
      "execution_count": 11,
      "metadata": {
        "id": "j7F-nOxuUOCC"
      },
      "outputs": [],
      "source": [
        "# Button UI for File Upload Selection\n",
        "output = widgets.Output()\n",
        "\n",
        "def upload_single_file(_):\n",
        "    \"\"\"Handles single file upload\"\"\"\n",
        "    with output:\n",
        "        clear_output(wait=True)\n",
        "        print(\"\\nPlease upload a single PDF related to cryptocurrency.\")\n",
        "        uploaded_file = files.upload()\n",
        "        pdf_paths = [list(uploaded_file.keys())[0]]  # Convert single file into a list\n",
        "        extract_and_store_text(pdf_paths)"
      ]
    },
    {
      "cell_type": "code",
      "execution_count": 12,
      "metadata": {
        "id": "u2m1TZfKZyYa"
      },
      "outputs": [],
      "source": [
        "def upload_multiple_files(_):\n",
        "    \"\"\"Handles multiple file uploads\"\"\"\n",
        "    with output:\n",
        "        clear_output(wait=True)\n",
        "        print(\"\\nPlease upload multiple PDFs related to cryptocurrency.\")\n",
        "        uploaded_files = files.upload()\n",
        "        pdf_paths = list(uploaded_files.keys())  # Convert all files into a list\n",
        "        extract_and_store_text(pdf_paths)"
      ]
    },
    {
      "cell_type": "code",
      "execution_count": 13,
      "metadata": {
        "id": "RoqTnkz5Z4o0"
      },
      "outputs": [],
      "source": [
        "# Create buttons\n",
        "button_single = widgets.Button(description=\"Upload Single PDF\")\n",
        "button_multiple = widgets.Button(description=\"Upload Multiple PDFs\")"
      ]
    },
    {
      "cell_type": "code",
      "execution_count": 14,
      "metadata": {
        "id": "n9r6Ev2oZ7BL"
      },
      "outputs": [],
      "source": [
        "# Assign event handlers\n",
        "button_single.on_click(upload_single_file)\n",
        "button_multiple.on_click(upload_multiple_files)"
      ]
    },
    {
      "cell_type": "code",
      "execution_count": 15,
      "metadata": {
        "id": "o6jvzHhFZ-fU",
        "colab": {
          "base_uri": "https://localhost:8080/",
          "height": 1000,
          "referenced_widgets": [
            "e2027ff61c8f49a39122029ae7353dfa",
            "217b348c984a423ab1478856021fc569",
            "7cc6ab271f69481bab053c91e5564e09",
            "06a99935dbf241dbb4f7a71256470adc",
            "d35583abf88d4d15ba6756a88b21bf2a",
            "e8eff87a8df548d3942125fe68303ce1",
            "8f1069e747c74a85bbc8391a536f8dfd",
            "f0f5538dde404bee9f2b631ba85abb16"
          ]
        },
        "outputId": "45926ef5-5252-4bf5-d54a-b03c2bdda68b"
      },
      "outputs": [
        {
          "output_type": "stream",
          "name": "stdout",
          "text": [
            "Choose an upload option:\n"
          ]
        },
        {
          "output_type": "display_data",
          "data": {
            "text/plain": [
              "Button(description='Upload Single PDF', style=ButtonStyle())"
            ],
            "application/vnd.jupyter.widget-view+json": {
              "version_major": 2,
              "version_minor": 0,
              "model_id": "e2027ff61c8f49a39122029ae7353dfa"
            }
          },
          "metadata": {}
        },
        {
          "output_type": "display_data",
          "data": {
            "text/plain": [
              "Button(description='Upload Multiple PDFs', style=ButtonStyle())"
            ],
            "application/vnd.jupyter.widget-view+json": {
              "version_major": 2,
              "version_minor": 0,
              "model_id": "06a99935dbf241dbb4f7a71256470adc"
            }
          },
          "metadata": {}
        },
        {
          "output_type": "display_data",
          "data": {
            "text/plain": [
              "Output()"
            ],
            "application/vnd.jupyter.widget-view+json": {
              "version_major": 2,
              "version_minor": 0,
              "model_id": "8f1069e747c74a85bbc8391a536f8dfd"
            }
          },
          "metadata": {}
        }
      ],
      "source": [
        "# Display buttons\n",
        "print(\"Choose an upload option:\")\n",
        "display(button_single, button_multiple)\n",
        "display(output)"
      ]
    },
    {
      "cell_type": "code",
      "execution_count": 16,
      "metadata": {
        "id": "mqxclmRGUahv"
      },
      "outputs": [],
      "source": [
        "def retrieve_relevant_chunks(query, top_k=3):\n",
        "    \"\"\"Retrieve the top-k most relevant text chunks from FAISS across all uploaded PDFs.\"\"\"\n",
        "    if not os.path.exists(index_file):\n",
        "        raise FileNotFoundError(\"FAISS index not found. Please upload valid cryptocurrency-related PDFs first.\")\n",
        "\n",
        "    # Load FAISS index\n",
        "    index = faiss.read_index(index_file)\n",
        "\n",
        "    # Generate query embedding\n",
        "    query_embedding = embedding_model.encode([query])\n",
        "    query_embedding = np.array(query_embedding, dtype=np.float32)\n",
        "\n",
        "    # Search the FAISS index\n",
        "    distances, indices = index.search(query_embedding, top_k)\n",
        "\n",
        "    # Retrieve corresponding text chunks from ALL processed PDFs\n",
        "    with open(chunks_file, \"r\") as f:\n",
        "        text_chunks = f.readlines()\n",
        "\n",
        "    retrieved_chunks = [text_chunks[i].strip() for i in indices[0] if i < len(text_chunks)]\n",
        "\n",
        "    return retrieved_chunks"
      ]
    },
    {
      "cell_type": "code",
      "execution_count": 17,
      "metadata": {
        "id": "vsqmUMjAUfuN"
      },
      "outputs": [],
      "source": [
        "def query_advisor(query):\n",
        "    \"\"\"Generate a response from the advisor agent using FAISS-based context and Groq API.\"\"\"\n",
        "    global uploaded_document_names\n",
        "\n",
        "    #If the user asks about uploaded documents, return the list directly\n",
        "    if \"uploaded documents\" in query.lower() or \"list of documents\" in query.lower():\n",
        "        if uploaded_document_names:\n",
        "            return f\"The uploaded documents are: {', '.join(uploaded_document_names)}\"\n",
        "        else:\n",
        "            return \"No documents have been uploaded yet.\"\n",
        "\n",
        "    try:\n",
        "        # Retrieve context\n",
        "        retrieved_chunks = retrieve_relevant_chunks(query)\n",
        "        context = \"\\n\".join(retrieved_chunks) if retrieved_chunks else \"No relevant context found.\"\n",
        "\n",
        "        # Construct the chat prompt\n",
        "        advisor_prompt = ChatPromptTemplate.from_messages([\n",
        "            (\"system\", ADVISOR_SYS_PROMPT),\n",
        "            (\"human\", f\"Context: {context}\\n\\nUser Query: {query}\")\n",
        "        ])\n",
        "\n",
        "        # Initialize Groq LLM\n",
        "        groq_api_key = os.getenv(\"GROQ_API_KEY\")\n",
        "        llm = ChatGroq(model=\"llama3-70b-8192\", api_key=groq_api_key)\n",
        "\n",
        "        # Generate response\n",
        "        response = advisor_prompt | llm\n",
        "        result = response.invoke({})\n",
        "\n",
        "        return result.content.strip()\n",
        "\n",
        "    except Exception as e:\n",
        "        return f\"An error occurred: {e}\""
      ]
    },
    {
      "cell_type": "code",
      "source": [
        "def query_advisor(question):\n",
        "    \"\"\"Query the cryptocurrency advisor with a single question.\"\"\"\n",
        "    try:\n",
        "        # Set up the prompt\n",
        "        advisor_prompt = ChatPromptTemplate.from_messages([\n",
        "            (\"system\", \"You are a cryptocurrency advisor. Provide accurate information about cryptocurrencies.\"),\n",
        "            (\"human\", f\"Cryptocurrency Question: {question}\")\n",
        "        ])\n",
        "\n",
        "        # Initialize the LLM\n",
        "        groq_api_key = os.getenv(\"GROQ_API_KEY\")\n",
        "        llm = ChatGroq(model=\"llama3-70b-8192\", api_key=groq_api_key)\n",
        "\n",
        "        # Generate response\n",
        "        response = advisor_prompt | llm\n",
        "        result = response.invoke({})\n",
        "\n",
        "        return result.content.strip()\n",
        "    except Exception as e:\n",
        "        return f\"An error occurred: {e}\"\n",
        "\n",
        "# Ask a single question\n",
        "user_question = input(\"Enter your cryptocurrency question: \")\n",
        "response = query_advisor(user_question)\n",
        "print(\"\\nAdvisor:\", response)"
      ],
      "metadata": {
        "colab": {
          "base_uri": "https://localhost:8080/"
        },
        "id": "HGWRK93QJrhU",
        "outputId": "12e2f771-1489-40ae-d153-3cf741a3939c"
      },
      "execution_count": 18,
      "outputs": [
        {
          "output_type": "stream",
          "name": "stdout",
          "text": [
            "Enter your cryptocurrency question: What are the key trends in cryptocurrency right now?\n",
            "\n",
            "Advisor: As a cryptocurrency advisor, I'm happy to provide you with an update on the current key trends in the cryptocurrency market. Here are some of the most significant trends:\n",
            "\n",
            "1. **DeFi (Decentralized Finance) Boom**: DeFi, which refers to decentralized lending, borrowing, and trading protocols, has been gaining immense popularity. The total value locked in DeFi protocols has surpassed $10 billion, with popular platforms like Uniswap, SushiSwap, and Aave leading the charge.\n",
            "\n",
            "2. **Institutional Investment**: Institutional investors, such as hedge funds, family offices, and pension funds, are increasingly entering the cryptocurrency market. This influx of institutional capital has led to increased liquidity and stability in the market.\n",
            "\n",
            "3. **Stablecoins**: Stablecoins, which are cryptocurrencies pegged to the value of a fiat currency (e.g., USDT, USDC), are gaining traction. They provide a hedge against volatility and are being used for remittances, e-commerce, and decentralized lending.\n",
            "\n",
            "4. **Central Bank Digital Currencies (CBDCs)**: Central banks around the world are exploring the development of their own digital currencies. China's Digital Currency Electronic Payment (DCEP) is already in pilot phase, and other countries like the US, EU, and Japan are also researching CBDCs.\n",
            "\n",
            "5. **Scalability Solutions**: With the increasing adoption of cryptocurrencies, scalability has become a major concern. Solutions like sharding, off-chain transactions, and second-layer scaling solutions (e.g., Lightning Network) are being developed to increase transaction capacity and reduce fees.\n",
            "\n",
            "6. **Regulatory Clarity**: Governments and regulatory bodies are finally providing clarity on cryptocurrency regulations, which is helping to increase mainstream adoption. The FATF (Financial Action Task Force) has established guidelines for cryptocurrency exchanges, and countries like Singapore and Switzerland have introduced clear regulations.\n",
            "\n",
            "7. **Security Tokens**: Security tokens, which represent ownership in a company or asset, are gaining popularity. They offer a new way for companies to raise capital and for investors to access traditional assets in a tokenized form.\n",
            "\n",
            "8. **Ethereum 2.0**: Ethereum, the largest altcoin by market capitalization, is undergoing a significant upgrade to Ethereum 2.0. This upgrade promises to increase scalability, security, and usability, which could lead to increased adoption and value.\n",
            "\n",
            "9. **Bitcoin Halving**: The recent Bitcoin halving event, which reduced the block reward from 12.5 BTC to 6.25 BTC, has led to increased interest in Bitcoin and a potential increase in value due to reduced supply.\n",
            "\n",
            "10. **Increased Adoption in Emerging Markets**: Cryptocurrencies are gaining traction in emerging markets, particularly in countries with high inflation rates or limited access to traditional financial services. This trend is expected to continue, driven by the need for alternative financial systems.\n",
            "\n",
            "These trends are shaping the cryptocurrency landscape and will likely continue to influence the market in the coming months. As a cryptocurrency advisor, I recommend staying informed about these developments and adjusting your investment strategy accordingly.\n"
          ]
        }
      ]
    },
    {
      "cell_type": "code",
      "source": [],
      "metadata": {
        "id": "9N7UPZhrjxPn"
      },
      "execution_count": null,
      "outputs": []
    }
  ],
  "metadata": {
    "colab": {
      "provenance": []
    },
    "kernelspec": {
      "display_name": "Python 3",
      "name": "python3"
    },
    "language_info": {
      "name": "python"
    },
    "widgets": {
      "application/vnd.jupyter.widget-state+json": {
        "f55907f79cd640639b967d1db467aaf4": {
          "model_module": "@jupyter-widgets/controls",
          "model_name": "HTMLModel",
          "model_module_version": "1.5.0",
          "state": {
            "_dom_classes": [],
            "_model_module": "@jupyter-widgets/controls",
            "_model_module_version": "1.5.0",
            "_model_name": "HTMLModel",
            "_view_count": null,
            "_view_module": "@jupyter-widgets/controls",
            "_view_module_version": "1.5.0",
            "_view_name": "HTMLView",
            "description": "",
            "description_tooltip": null,
            "layout": "IPY_MODEL_6c9c948e7aed41febb632303b4b0986b",
            "placeholder": "​",
            "style": "IPY_MODEL_20575b955cbe4e30804547970ecd87e3",
            "value": "<h2>Cryptocurrency Model Comparison</h2>"
          }
        },
        "6c9c948e7aed41febb632303b4b0986b": {
          "model_module": "@jupyter-widgets/base",
          "model_name": "LayoutModel",
          "model_module_version": "1.2.0",
          "state": {
            "_model_module": "@jupyter-widgets/base",
            "_model_module_version": "1.2.0",
            "_model_name": "LayoutModel",
            "_view_count": null,
            "_view_module": "@jupyter-widgets/base",
            "_view_module_version": "1.2.0",
            "_view_name": "LayoutView",
            "align_content": null,
            "align_items": null,
            "align_self": null,
            "border": null,
            "bottom": null,
            "display": null,
            "flex": null,
            "flex_flow": null,
            "grid_area": null,
            "grid_auto_columns": null,
            "grid_auto_flow": null,
            "grid_auto_rows": null,
            "grid_column": null,
            "grid_gap": null,
            "grid_row": null,
            "grid_template_areas": null,
            "grid_template_columns": null,
            "grid_template_rows": null,
            "height": null,
            "justify_content": null,
            "justify_items": null,
            "left": null,
            "margin": null,
            "max_height": null,
            "max_width": null,
            "min_height": null,
            "min_width": null,
            "object_fit": null,
            "object_position": null,
            "order": null,
            "overflow": null,
            "overflow_x": null,
            "overflow_y": null,
            "padding": null,
            "right": null,
            "top": null,
            "visibility": null,
            "width": null
          }
        },
        "20575b955cbe4e30804547970ecd87e3": {
          "model_module": "@jupyter-widgets/controls",
          "model_name": "DescriptionStyleModel",
          "model_module_version": "1.5.0",
          "state": {
            "_model_module": "@jupyter-widgets/controls",
            "_model_module_version": "1.5.0",
            "_model_name": "DescriptionStyleModel",
            "_view_count": null,
            "_view_module": "@jupyter-widgets/base",
            "_view_module_version": "1.2.0",
            "_view_name": "StyleView",
            "description_width": ""
          }
        },
        "cf5903605ff44272810404768641396c": {
          "model_module": "@jupyter-widgets/controls",
          "model_name": "TextModel",
          "model_module_version": "1.5.0",
          "state": {
            "_dom_classes": [],
            "_model_module": "@jupyter-widgets/controls",
            "_model_module_version": "1.5.0",
            "_model_name": "TextModel",
            "_view_count": null,
            "_view_module": "@jupyter-widgets/controls",
            "_view_module_version": "1.5.0",
            "_view_name": "TextView",
            "continuous_update": true,
            "description": "Query:",
            "description_tooltip": null,
            "disabled": false,
            "layout": "IPY_MODEL_c6877c6f60e843f58063e649a78058d0",
            "placeholder": "Enter your cryptocurrency question",
            "style": "IPY_MODEL_c8dc21b58bbb4032996564c74040fba2",
            "value": "What is Bitcoin?"
          }
        },
        "c6877c6f60e843f58063e649a78058d0": {
          "model_module": "@jupyter-widgets/base",
          "model_name": "LayoutModel",
          "model_module_version": "1.2.0",
          "state": {
            "_model_module": "@jupyter-widgets/base",
            "_model_module_version": "1.2.0",
            "_model_name": "LayoutModel",
            "_view_count": null,
            "_view_module": "@jupyter-widgets/base",
            "_view_module_version": "1.2.0",
            "_view_name": "LayoutView",
            "align_content": null,
            "align_items": null,
            "align_self": null,
            "border": null,
            "bottom": null,
            "display": null,
            "flex": null,
            "flex_flow": null,
            "grid_area": null,
            "grid_auto_columns": null,
            "grid_auto_flow": null,
            "grid_auto_rows": null,
            "grid_column": null,
            "grid_gap": null,
            "grid_row": null,
            "grid_template_areas": null,
            "grid_template_columns": null,
            "grid_template_rows": null,
            "height": null,
            "justify_content": null,
            "justify_items": null,
            "left": null,
            "margin": null,
            "max_height": null,
            "max_width": null,
            "min_height": null,
            "min_width": null,
            "object_fit": null,
            "object_position": null,
            "order": null,
            "overflow": null,
            "overflow_x": null,
            "overflow_y": null,
            "padding": null,
            "right": null,
            "top": null,
            "visibility": null,
            "width": "80%"
          }
        },
        "c8dc21b58bbb4032996564c74040fba2": {
          "model_module": "@jupyter-widgets/controls",
          "model_name": "DescriptionStyleModel",
          "model_module_version": "1.5.0",
          "state": {
            "_model_module": "@jupyter-widgets/controls",
            "_model_module_version": "1.5.0",
            "_model_name": "DescriptionStyleModel",
            "_view_count": null,
            "_view_module": "@jupyter-widgets/base",
            "_view_module_version": "1.2.0",
            "_view_name": "StyleView",
            "description_width": "initial"
          }
        },
        "9868b7ced7ff4c68a36873be8b82b61b": {
          "model_module": "@jupyter-widgets/controls",
          "model_name": "HBoxModel",
          "model_module_version": "1.5.0",
          "state": {
            "_dom_classes": [],
            "_model_module": "@jupyter-widgets/controls",
            "_model_module_version": "1.5.0",
            "_model_name": "HBoxModel",
            "_view_count": null,
            "_view_module": "@jupyter-widgets/controls",
            "_view_module_version": "1.5.0",
            "_view_name": "HBoxView",
            "box_style": "",
            "children": [
              "IPY_MODEL_bdbc838efcfc433b9b79c9a2f5fcb7f9",
              "IPY_MODEL_3f40f70977f4466382eae6c6b07fc25d"
            ],
            "layout": "IPY_MODEL_3167cf6538d04c51a822bb9f7b367e9a"
          }
        },
        "bdbc838efcfc433b9b79c9a2f5fcb7f9": {
          "model_module": "@jupyter-widgets/controls",
          "model_name": "VBoxModel",
          "model_module_version": "1.5.0",
          "state": {
            "_dom_classes": [],
            "_model_module": "@jupyter-widgets/controls",
            "_model_module_version": "1.5.0",
            "_model_name": "VBoxModel",
            "_view_count": null,
            "_view_module": "@jupyter-widgets/controls",
            "_view_module_version": "1.5.0",
            "_view_name": "VBoxView",
            "box_style": "",
            "children": [
              "IPY_MODEL_7c9f455d30374999af86df0cfcc0a258",
              "IPY_MODEL_95f21aef622e486f8cc76e72c24f3886",
              "IPY_MODEL_6a2ecda3e39a4404a172140b88b8e583",
              "IPY_MODEL_c1b33cf40bdb4b6b881fac5d3015361c",
              "IPY_MODEL_8d17da15b70649c3af6701c46c612586"
            ],
            "layout": "IPY_MODEL_9d2c150014dc4e7e908a65b9ec4a470b"
          }
        },
        "3f40f70977f4466382eae6c6b07fc25d": {
          "model_module": "@jupyter-widgets/controls",
          "model_name": "VBoxModel",
          "model_module_version": "1.5.0",
          "state": {
            "_dom_classes": [],
            "_model_module": "@jupyter-widgets/controls",
            "_model_module_version": "1.5.0",
            "_model_name": "VBoxModel",
            "_view_count": null,
            "_view_module": "@jupyter-widgets/controls",
            "_view_module_version": "1.5.0",
            "_view_name": "VBoxView",
            "box_style": "",
            "children": [
              "IPY_MODEL_153b99a5c3c14c29a768df5cb6f381a9",
              "IPY_MODEL_96edaee114d842f2bcb5d27ee7cc1003"
            ],
            "layout": "IPY_MODEL_6735ceb51b2d454e932f3d60513f428a"
          }
        },
        "3167cf6538d04c51a822bb9f7b367e9a": {
          "model_module": "@jupyter-widgets/base",
          "model_name": "LayoutModel",
          "model_module_version": "1.2.0",
          "state": {
            "_model_module": "@jupyter-widgets/base",
            "_model_module_version": "1.2.0",
            "_model_name": "LayoutModel",
            "_view_count": null,
            "_view_module": "@jupyter-widgets/base",
            "_view_module_version": "1.2.0",
            "_view_name": "LayoutView",
            "align_content": null,
            "align_items": null,
            "align_self": null,
            "border": null,
            "bottom": null,
            "display": null,
            "flex": null,
            "flex_flow": null,
            "grid_area": null,
            "grid_auto_columns": null,
            "grid_auto_flow": null,
            "grid_auto_rows": null,
            "grid_column": null,
            "grid_gap": null,
            "grid_row": null,
            "grid_template_areas": null,
            "grid_template_columns": null,
            "grid_template_rows": null,
            "height": null,
            "justify_content": null,
            "justify_items": null,
            "left": null,
            "margin": null,
            "max_height": null,
            "max_width": null,
            "min_height": null,
            "min_width": null,
            "object_fit": null,
            "object_position": null,
            "order": null,
            "overflow": null,
            "overflow_x": null,
            "overflow_y": null,
            "padding": null,
            "right": null,
            "top": null,
            "visibility": null,
            "width": null
          }
        },
        "7c9f455d30374999af86df0cfcc0a258": {
          "model_module": "@jupyter-widgets/controls",
          "model_name": "HTMLModel",
          "model_module_version": "1.5.0",
          "state": {
            "_dom_classes": [],
            "_model_module": "@jupyter-widgets/controls",
            "_model_module_version": "1.5.0",
            "_model_name": "HTMLModel",
            "_view_count": null,
            "_view_module": "@jupyter-widgets/controls",
            "_view_module_version": "1.5.0",
            "_view_name": "HTMLView",
            "description": "",
            "description_tooltip": null,
            "layout": "IPY_MODEL_44a27ea46fbd4b8c8ef98124f28ae084",
            "placeholder": "​",
            "style": "IPY_MODEL_2e3d6ed431834ca29d1e9400f4dda609",
            "value": "<b>Select Models to Compare:</b>"
          }
        },
        "95f21aef622e486f8cc76e72c24f3886": {
          "model_module": "@jupyter-widgets/controls",
          "model_name": "CheckboxModel",
          "model_module_version": "1.5.0",
          "state": {
            "_dom_classes": [],
            "_model_module": "@jupyter-widgets/controls",
            "_model_module_version": "1.5.0",
            "_model_name": "CheckboxModel",
            "_view_count": null,
            "_view_module": "@jupyter-widgets/controls",
            "_view_module_version": "1.5.0",
            "_view_name": "CheckboxView",
            "description": "Llama 3.3 (70B)",
            "description_tooltip": null,
            "disabled": false,
            "indent": true,
            "layout": "IPY_MODEL_e19bcb17352b490c93c701263b437aaa",
            "style": "IPY_MODEL_2418bd576bdd4bc080065568e14cedb6",
            "value": true
          }
        },
        "6a2ecda3e39a4404a172140b88b8e583": {
          "model_module": "@jupyter-widgets/controls",
          "model_name": "CheckboxModel",
          "model_module_version": "1.5.0",
          "state": {
            "_dom_classes": [],
            "_model_module": "@jupyter-widgets/controls",
            "_model_module_version": "1.5.0",
            "_model_name": "CheckboxModel",
            "_view_count": null,
            "_view_module": "@jupyter-widgets/controls",
            "_view_module_version": "1.5.0",
            "_view_name": "CheckboxView",
            "description": "Llama 4 Scout",
            "description_tooltip": null,
            "disabled": false,
            "indent": true,
            "layout": "IPY_MODEL_dc74dbe26191499f9e15b99478f0955f",
            "style": "IPY_MODEL_6f33a5b9253d46c8a568e8a249166e57",
            "value": true
          }
        },
        "c1b33cf40bdb4b6b881fac5d3015361c": {
          "model_module": "@jupyter-widgets/controls",
          "model_name": "CheckboxModel",
          "model_module_version": "1.5.0",
          "state": {
            "_dom_classes": [],
            "_model_module": "@jupyter-widgets/controls",
            "_model_module_version": "1.5.0",
            "_model_name": "CheckboxModel",
            "_view_count": null,
            "_view_module": "@jupyter-widgets/controls",
            "_view_module_version": "1.5.0",
            "_view_name": "CheckboxView",
            "description": "Qwen QwQ-32B",
            "description_tooltip": null,
            "disabled": false,
            "indent": true,
            "layout": "IPY_MODEL_af97976d7dd740ed887e11e17b61d79a",
            "style": "IPY_MODEL_3069d6b09cae47be9b959ca21dedbc57",
            "value": true
          }
        },
        "8d17da15b70649c3af6701c46c612586": {
          "model_module": "@jupyter-widgets/controls",
          "model_name": "CheckboxModel",
          "model_module_version": "1.5.0",
          "state": {
            "_dom_classes": [],
            "_model_module": "@jupyter-widgets/controls",
            "_model_module_version": "1.5.0",
            "_model_name": "CheckboxModel",
            "_view_count": null,
            "_view_module": "@jupyter-widgets/controls",
            "_view_module_version": "1.5.0",
            "_view_name": "CheckboxView",
            "description": "Flan-T5 (base)",
            "description_tooltip": null,
            "disabled": false,
            "indent": true,
            "layout": "IPY_MODEL_b8b0bada3b1749a09ad038afe749c44f",
            "style": "IPY_MODEL_8636f785cae04cf386781a680866c919",
            "value": true
          }
        },
        "9d2c150014dc4e7e908a65b9ec4a470b": {
          "model_module": "@jupyter-widgets/base",
          "model_name": "LayoutModel",
          "model_module_version": "1.2.0",
          "state": {
            "_model_module": "@jupyter-widgets/base",
            "_model_module_version": "1.2.0",
            "_model_name": "LayoutModel",
            "_view_count": null,
            "_view_module": "@jupyter-widgets/base",
            "_view_module_version": "1.2.0",
            "_view_name": "LayoutView",
            "align_content": null,
            "align_items": null,
            "align_self": null,
            "border": null,
            "bottom": null,
            "display": null,
            "flex": null,
            "flex_flow": null,
            "grid_area": null,
            "grid_auto_columns": null,
            "grid_auto_flow": null,
            "grid_auto_rows": null,
            "grid_column": null,
            "grid_gap": null,
            "grid_row": null,
            "grid_template_areas": null,
            "grid_template_columns": null,
            "grid_template_rows": null,
            "height": null,
            "justify_content": null,
            "justify_items": null,
            "left": null,
            "margin": null,
            "max_height": null,
            "max_width": null,
            "min_height": null,
            "min_width": null,
            "object_fit": null,
            "object_position": null,
            "order": null,
            "overflow": null,
            "overflow_x": null,
            "overflow_y": null,
            "padding": null,
            "right": null,
            "top": null,
            "visibility": null,
            "width": null
          }
        },
        "153b99a5c3c14c29a768df5cb6f381a9": {
          "model_module": "@jupyter-widgets/controls",
          "model_name": "ButtonModel",
          "model_module_version": "1.5.0",
          "state": {
            "_dom_classes": [],
            "_model_module": "@jupyter-widgets/controls",
            "_model_module_version": "1.5.0",
            "_model_name": "ButtonModel",
            "_view_count": null,
            "_view_module": "@jupyter-widgets/controls",
            "_view_module_version": "1.5.0",
            "_view_name": "ButtonView",
            "button_style": "primary",
            "description": "Compare Crypto Models",
            "disabled": false,
            "icon": "check",
            "layout": "IPY_MODEL_98fe9b71b24e4e2d9a24ddd84a4cc6df",
            "style": "IPY_MODEL_b6b320af91d6478697aa64f528b075e1",
            "tooltip": "Click to compare models"
          }
        },
        "96edaee114d842f2bcb5d27ee7cc1003": {
          "model_module": "@jupyter-widgets/controls",
          "model_name": "ButtonModel",
          "model_module_version": "1.5.0",
          "state": {
            "_dom_classes": [],
            "_model_module": "@jupyter-widgets/controls",
            "_model_module_version": "1.5.0",
            "_model_name": "ButtonModel",
            "_view_count": null,
            "_view_module": "@jupyter-widgets/controls",
            "_view_module_version": "1.5.0",
            "_view_name": "ButtonView",
            "button_style": "success",
            "description": "Run Crypto Benchmark",
            "disabled": false,
            "icon": "play",
            "layout": "IPY_MODEL_8c7bb28e82f7473399191fe766d82e9c",
            "style": "IPY_MODEL_0c38b6efaffb494da604a765a215ad4b",
            "tooltip": "Click to run the benchmark"
          }
        },
        "6735ceb51b2d454e932f3d60513f428a": {
          "model_module": "@jupyter-widgets/base",
          "model_name": "LayoutModel",
          "model_module_version": "1.2.0",
          "state": {
            "_model_module": "@jupyter-widgets/base",
            "_model_module_version": "1.2.0",
            "_model_name": "LayoutModel",
            "_view_count": null,
            "_view_module": "@jupyter-widgets/base",
            "_view_module_version": "1.2.0",
            "_view_name": "LayoutView",
            "align_content": null,
            "align_items": null,
            "align_self": null,
            "border": null,
            "bottom": null,
            "display": null,
            "flex": null,
            "flex_flow": null,
            "grid_area": null,
            "grid_auto_columns": null,
            "grid_auto_flow": null,
            "grid_auto_rows": null,
            "grid_column": null,
            "grid_gap": null,
            "grid_row": null,
            "grid_template_areas": null,
            "grid_template_columns": null,
            "grid_template_rows": null,
            "height": null,
            "justify_content": null,
            "justify_items": null,
            "left": null,
            "margin": null,
            "max_height": null,
            "max_width": null,
            "min_height": null,
            "min_width": null,
            "object_fit": null,
            "object_position": null,
            "order": null,
            "overflow": null,
            "overflow_x": null,
            "overflow_y": null,
            "padding": null,
            "right": null,
            "top": null,
            "visibility": null,
            "width": null
          }
        },
        "44a27ea46fbd4b8c8ef98124f28ae084": {
          "model_module": "@jupyter-widgets/base",
          "model_name": "LayoutModel",
          "model_module_version": "1.2.0",
          "state": {
            "_model_module": "@jupyter-widgets/base",
            "_model_module_version": "1.2.0",
            "_model_name": "LayoutModel",
            "_view_count": null,
            "_view_module": "@jupyter-widgets/base",
            "_view_module_version": "1.2.0",
            "_view_name": "LayoutView",
            "align_content": null,
            "align_items": null,
            "align_self": null,
            "border": null,
            "bottom": null,
            "display": null,
            "flex": null,
            "flex_flow": null,
            "grid_area": null,
            "grid_auto_columns": null,
            "grid_auto_flow": null,
            "grid_auto_rows": null,
            "grid_column": null,
            "grid_gap": null,
            "grid_row": null,
            "grid_template_areas": null,
            "grid_template_columns": null,
            "grid_template_rows": null,
            "height": null,
            "justify_content": null,
            "justify_items": null,
            "left": null,
            "margin": null,
            "max_height": null,
            "max_width": null,
            "min_height": null,
            "min_width": null,
            "object_fit": null,
            "object_position": null,
            "order": null,
            "overflow": null,
            "overflow_x": null,
            "overflow_y": null,
            "padding": null,
            "right": null,
            "top": null,
            "visibility": null,
            "width": null
          }
        },
        "2e3d6ed431834ca29d1e9400f4dda609": {
          "model_module": "@jupyter-widgets/controls",
          "model_name": "DescriptionStyleModel",
          "model_module_version": "1.5.0",
          "state": {
            "_model_module": "@jupyter-widgets/controls",
            "_model_module_version": "1.5.0",
            "_model_name": "DescriptionStyleModel",
            "_view_count": null,
            "_view_module": "@jupyter-widgets/base",
            "_view_module_version": "1.2.0",
            "_view_name": "StyleView",
            "description_width": ""
          }
        },
        "e19bcb17352b490c93c701263b437aaa": {
          "model_module": "@jupyter-widgets/base",
          "model_name": "LayoutModel",
          "model_module_version": "1.2.0",
          "state": {
            "_model_module": "@jupyter-widgets/base",
            "_model_module_version": "1.2.0",
            "_model_name": "LayoutModel",
            "_view_count": null,
            "_view_module": "@jupyter-widgets/base",
            "_view_module_version": "1.2.0",
            "_view_name": "LayoutView",
            "align_content": null,
            "align_items": null,
            "align_self": null,
            "border": null,
            "bottom": null,
            "display": null,
            "flex": null,
            "flex_flow": null,
            "grid_area": null,
            "grid_auto_columns": null,
            "grid_auto_flow": null,
            "grid_auto_rows": null,
            "grid_column": null,
            "grid_gap": null,
            "grid_row": null,
            "grid_template_areas": null,
            "grid_template_columns": null,
            "grid_template_rows": null,
            "height": null,
            "justify_content": null,
            "justify_items": null,
            "left": null,
            "margin": null,
            "max_height": null,
            "max_width": null,
            "min_height": null,
            "min_width": null,
            "object_fit": null,
            "object_position": null,
            "order": null,
            "overflow": null,
            "overflow_x": null,
            "overflow_y": null,
            "padding": null,
            "right": null,
            "top": null,
            "visibility": null,
            "width": null
          }
        },
        "2418bd576bdd4bc080065568e14cedb6": {
          "model_module": "@jupyter-widgets/controls",
          "model_name": "DescriptionStyleModel",
          "model_module_version": "1.5.0",
          "state": {
            "_model_module": "@jupyter-widgets/controls",
            "_model_module_version": "1.5.0",
            "_model_name": "DescriptionStyleModel",
            "_view_count": null,
            "_view_module": "@jupyter-widgets/base",
            "_view_module_version": "1.2.0",
            "_view_name": "StyleView",
            "description_width": ""
          }
        },
        "dc74dbe26191499f9e15b99478f0955f": {
          "model_module": "@jupyter-widgets/base",
          "model_name": "LayoutModel",
          "model_module_version": "1.2.0",
          "state": {
            "_model_module": "@jupyter-widgets/base",
            "_model_module_version": "1.2.0",
            "_model_name": "LayoutModel",
            "_view_count": null,
            "_view_module": "@jupyter-widgets/base",
            "_view_module_version": "1.2.0",
            "_view_name": "LayoutView",
            "align_content": null,
            "align_items": null,
            "align_self": null,
            "border": null,
            "bottom": null,
            "display": null,
            "flex": null,
            "flex_flow": null,
            "grid_area": null,
            "grid_auto_columns": null,
            "grid_auto_flow": null,
            "grid_auto_rows": null,
            "grid_column": null,
            "grid_gap": null,
            "grid_row": null,
            "grid_template_areas": null,
            "grid_template_columns": null,
            "grid_template_rows": null,
            "height": null,
            "justify_content": null,
            "justify_items": null,
            "left": null,
            "margin": null,
            "max_height": null,
            "max_width": null,
            "min_height": null,
            "min_width": null,
            "object_fit": null,
            "object_position": null,
            "order": null,
            "overflow": null,
            "overflow_x": null,
            "overflow_y": null,
            "padding": null,
            "right": null,
            "top": null,
            "visibility": null,
            "width": null
          }
        },
        "6f33a5b9253d46c8a568e8a249166e57": {
          "model_module": "@jupyter-widgets/controls",
          "model_name": "DescriptionStyleModel",
          "model_module_version": "1.5.0",
          "state": {
            "_model_module": "@jupyter-widgets/controls",
            "_model_module_version": "1.5.0",
            "_model_name": "DescriptionStyleModel",
            "_view_count": null,
            "_view_module": "@jupyter-widgets/base",
            "_view_module_version": "1.2.0",
            "_view_name": "StyleView",
            "description_width": ""
          }
        },
        "af97976d7dd740ed887e11e17b61d79a": {
          "model_module": "@jupyter-widgets/base",
          "model_name": "LayoutModel",
          "model_module_version": "1.2.0",
          "state": {
            "_model_module": "@jupyter-widgets/base",
            "_model_module_version": "1.2.0",
            "_model_name": "LayoutModel",
            "_view_count": null,
            "_view_module": "@jupyter-widgets/base",
            "_view_module_version": "1.2.0",
            "_view_name": "LayoutView",
            "align_content": null,
            "align_items": null,
            "align_self": null,
            "border": null,
            "bottom": null,
            "display": null,
            "flex": null,
            "flex_flow": null,
            "grid_area": null,
            "grid_auto_columns": null,
            "grid_auto_flow": null,
            "grid_auto_rows": null,
            "grid_column": null,
            "grid_gap": null,
            "grid_row": null,
            "grid_template_areas": null,
            "grid_template_columns": null,
            "grid_template_rows": null,
            "height": null,
            "justify_content": null,
            "justify_items": null,
            "left": null,
            "margin": null,
            "max_height": null,
            "max_width": null,
            "min_height": null,
            "min_width": null,
            "object_fit": null,
            "object_position": null,
            "order": null,
            "overflow": null,
            "overflow_x": null,
            "overflow_y": null,
            "padding": null,
            "right": null,
            "top": null,
            "visibility": null,
            "width": null
          }
        },
        "3069d6b09cae47be9b959ca21dedbc57": {
          "model_module": "@jupyter-widgets/controls",
          "model_name": "DescriptionStyleModel",
          "model_module_version": "1.5.0",
          "state": {
            "_model_module": "@jupyter-widgets/controls",
            "_model_module_version": "1.5.0",
            "_model_name": "DescriptionStyleModel",
            "_view_count": null,
            "_view_module": "@jupyter-widgets/base",
            "_view_module_version": "1.2.0",
            "_view_name": "StyleView",
            "description_width": ""
          }
        },
        "b8b0bada3b1749a09ad038afe749c44f": {
          "model_module": "@jupyter-widgets/base",
          "model_name": "LayoutModel",
          "model_module_version": "1.2.0",
          "state": {
            "_model_module": "@jupyter-widgets/base",
            "_model_module_version": "1.2.0",
            "_model_name": "LayoutModel",
            "_view_count": null,
            "_view_module": "@jupyter-widgets/base",
            "_view_module_version": "1.2.0",
            "_view_name": "LayoutView",
            "align_content": null,
            "align_items": null,
            "align_self": null,
            "border": null,
            "bottom": null,
            "display": null,
            "flex": null,
            "flex_flow": null,
            "grid_area": null,
            "grid_auto_columns": null,
            "grid_auto_flow": null,
            "grid_auto_rows": null,
            "grid_column": null,
            "grid_gap": null,
            "grid_row": null,
            "grid_template_areas": null,
            "grid_template_columns": null,
            "grid_template_rows": null,
            "height": null,
            "justify_content": null,
            "justify_items": null,
            "left": null,
            "margin": null,
            "max_height": null,
            "max_width": null,
            "min_height": null,
            "min_width": null,
            "object_fit": null,
            "object_position": null,
            "order": null,
            "overflow": null,
            "overflow_x": null,
            "overflow_y": null,
            "padding": null,
            "right": null,
            "top": null,
            "visibility": null,
            "width": null
          }
        },
        "8636f785cae04cf386781a680866c919": {
          "model_module": "@jupyter-widgets/controls",
          "model_name": "DescriptionStyleModel",
          "model_module_version": "1.5.0",
          "state": {
            "_model_module": "@jupyter-widgets/controls",
            "_model_module_version": "1.5.0",
            "_model_name": "DescriptionStyleModel",
            "_view_count": null,
            "_view_module": "@jupyter-widgets/base",
            "_view_module_version": "1.2.0",
            "_view_name": "StyleView",
            "description_width": ""
          }
        },
        "98fe9b71b24e4e2d9a24ddd84a4cc6df": {
          "model_module": "@jupyter-widgets/base",
          "model_name": "LayoutModel",
          "model_module_version": "1.2.0",
          "state": {
            "_model_module": "@jupyter-widgets/base",
            "_model_module_version": "1.2.0",
            "_model_name": "LayoutModel",
            "_view_count": null,
            "_view_module": "@jupyter-widgets/base",
            "_view_module_version": "1.2.0",
            "_view_name": "LayoutView",
            "align_content": null,
            "align_items": null,
            "align_self": null,
            "border": null,
            "bottom": null,
            "display": null,
            "flex": null,
            "flex_flow": null,
            "grid_area": null,
            "grid_auto_columns": null,
            "grid_auto_flow": null,
            "grid_auto_rows": null,
            "grid_column": null,
            "grid_gap": null,
            "grid_row": null,
            "grid_template_areas": null,
            "grid_template_columns": null,
            "grid_template_rows": null,
            "height": null,
            "justify_content": null,
            "justify_items": null,
            "left": null,
            "margin": null,
            "max_height": null,
            "max_width": null,
            "min_height": null,
            "min_width": null,
            "object_fit": null,
            "object_position": null,
            "order": null,
            "overflow": null,
            "overflow_x": null,
            "overflow_y": null,
            "padding": null,
            "right": null,
            "top": null,
            "visibility": null,
            "width": null
          }
        },
        "b6b320af91d6478697aa64f528b075e1": {
          "model_module": "@jupyter-widgets/controls",
          "model_name": "ButtonStyleModel",
          "model_module_version": "1.5.0",
          "state": {
            "_model_module": "@jupyter-widgets/controls",
            "_model_module_version": "1.5.0",
            "_model_name": "ButtonStyleModel",
            "_view_count": null,
            "_view_module": "@jupyter-widgets/base",
            "_view_module_version": "1.2.0",
            "_view_name": "StyleView",
            "button_color": null,
            "font_weight": ""
          }
        },
        "8c7bb28e82f7473399191fe766d82e9c": {
          "model_module": "@jupyter-widgets/base",
          "model_name": "LayoutModel",
          "model_module_version": "1.2.0",
          "state": {
            "_model_module": "@jupyter-widgets/base",
            "_model_module_version": "1.2.0",
            "_model_name": "LayoutModel",
            "_view_count": null,
            "_view_module": "@jupyter-widgets/base",
            "_view_module_version": "1.2.0",
            "_view_name": "LayoutView",
            "align_content": null,
            "align_items": null,
            "align_self": null,
            "border": null,
            "bottom": null,
            "display": null,
            "flex": null,
            "flex_flow": null,
            "grid_area": null,
            "grid_auto_columns": null,
            "grid_auto_flow": null,
            "grid_auto_rows": null,
            "grid_column": null,
            "grid_gap": null,
            "grid_row": null,
            "grid_template_areas": null,
            "grid_template_columns": null,
            "grid_template_rows": null,
            "height": null,
            "justify_content": null,
            "justify_items": null,
            "left": null,
            "margin": null,
            "max_height": null,
            "max_width": null,
            "min_height": null,
            "min_width": null,
            "object_fit": null,
            "object_position": null,
            "order": null,
            "overflow": null,
            "overflow_x": null,
            "overflow_y": null,
            "padding": null,
            "right": null,
            "top": null,
            "visibility": null,
            "width": null
          }
        },
        "0c38b6efaffb494da604a765a215ad4b": {
          "model_module": "@jupyter-widgets/controls",
          "model_name": "ButtonStyleModel",
          "model_module_version": "1.5.0",
          "state": {
            "_model_module": "@jupyter-widgets/controls",
            "_model_module_version": "1.5.0",
            "_model_name": "ButtonStyleModel",
            "_view_count": null,
            "_view_module": "@jupyter-widgets/base",
            "_view_module_version": "1.2.0",
            "_view_name": "StyleView",
            "button_color": null,
            "font_weight": ""
          }
        },
        "e4ef02aaf4604705818c9114fe3652f9": {
          "model_module": "@jupyter-widgets/output",
          "model_name": "OutputModel",
          "model_module_version": "1.0.0",
          "state": {
            "_dom_classes": [],
            "_model_module": "@jupyter-widgets/output",
            "_model_module_version": "1.0.0",
            "_model_name": "OutputModel",
            "_view_count": null,
            "_view_module": "@jupyter-widgets/output",
            "_view_module_version": "1.0.0",
            "_view_name": "OutputView",
            "layout": "IPY_MODEL_781512e960744a59abce8bb3a963d5ae",
            "msg_id": "",
            "outputs": [
              {
                "output_type": "stream",
                "name": "stdout",
                "text": [
                  "Starting cryptocurrency benchmark. This may take several minutes...\n",
                  "Starting cryptocurrency benchmark with 10 questions and 4 models...\n",
                  "\n",
                  "Question 1/10: 'What is Bitcoin and how does it work?'\n",
                  "Comparing models on cryptocurrency query: 'What is Bitcoin and how does it work?'\n",
                  "Processing model: Llama 3.3 (70B)...\n",
                  "  - Completed (error)\n",
                  "Processing model: Llama 4 Scout...\n",
                  "  - Completed (error)\n",
                  "Processing model: Qwen QwQ-32B...\n",
                  "  - Completed (error)\n",
                  "Processing model: Flan-T5 (base)...\n",
                  "  - Completed (error)\n",
                  "\n",
                  "Question 2/10: 'How does blockchain technology secure transactions?'\n",
                  "Comparing models on cryptocurrency query: 'How does blockchain technology secure transactions?'\n",
                  "Processing model: Llama 3.3 (70B)...\n",
                  "  - Completed (error)\n",
                  "Processing model: Llama 4 Scout...\n",
                  "  - Completed (error)\n",
                  "Processing model: Qwen QwQ-32B...\n",
                  "  - Completed (error)\n",
                  "Processing model: Flan-T5 (base)...\n",
                  "  - Completed (error)\n",
                  "\n",
                  "Question 3/10: 'What is the difference between proof-of-work and proof-of-stake?'\n",
                  "Comparing models on cryptocurrency query: 'What is the difference between proof-of-work and proof-of-stake?'\n",
                  "Processing model: Llama 3.3 (70B)...\n",
                  "  - Completed (error)\n",
                  "Processing model: Llama 4 Scout...\n",
                  "  - Completed (error)\n",
                  "Processing model: Qwen QwQ-32B...\n",
                  "  - Completed (error)\n",
                  "Processing model: Flan-T5 (base)...\n",
                  "  - Completed (error)\n",
                  "\n",
                  "Question 4/10: 'Explain what smart contracts are and their applications.'\n",
                  "Comparing models on cryptocurrency query: 'Explain what smart contracts are and their applications.'\n",
                  "Processing model: Llama 3.3 (70B)...\n",
                  "  - Completed (error)\n",
                  "Processing model: Llama 4 Scout...\n",
                  "  - Completed (error)\n",
                  "Processing model: Qwen QwQ-32B...\n",
                  "  - Completed (error)\n",
                  "Processing model: Flan-T5 (base)...\n",
                  "  - Completed (error)\n",
                  "\n",
                  "Question 5/10: 'What are the environmental impacts of cryptocurrency mining?'\n",
                  "Comparing models on cryptocurrency query: 'What are the environmental impacts of cryptocurrency mining?'\n",
                  "Processing model: Llama 3.3 (70B)...\n",
                  "  - Completed (error)\n",
                  "Processing model: Llama 4 Scout...\n",
                  "  - Completed (error)\n",
                  "Processing model: Qwen QwQ-32B...\n",
                  "  - Completed (error)\n",
                  "Processing model: Flan-T5 (base)...\n",
                  "  - Completed (error)\n",
                  "\n",
                  "Question 6/10: 'How do cryptocurrency wallets work?'\n",
                  "Comparing models on cryptocurrency query: 'How do cryptocurrency wallets work?'\n",
                  "Processing model: Llama 3.3 (70B)...\n",
                  "  - Completed (error)\n",
                  "Processing model: Llama 4 Scout...\n",
                  "  - Completed (error)\n",
                  "Processing model: Qwen QwQ-32B...\n",
                  "  - Completed (error)\n",
                  "Processing model: Flan-T5 (base)...\n",
                  "  - Completed (error)\n",
                  "\n",
                  "Question 7/10: 'What is DeFi (Decentralized Finance) and how is it different from traditional finance?'\n",
                  "Comparing models on cryptocurrency query: 'What is DeFi (Decentralized Finance) and how is it different from traditional finance?'\n",
                  "Processing model: Llama 3.3 (70B)...\n",
                  "  - Completed (error)\n",
                  "Processing model: Llama 4 Scout...\n",
                  "  - Completed (error)\n",
                  "Processing model: Qwen QwQ-32B...\n",
                  "  - Completed (error)\n",
                  "Processing model: Flan-T5 (base)...\n",
                  "  - Completed (error)\n",
                  "\n",
                  "Question 8/10: 'What are NFTs and why are they valuable?'\n",
                  "Comparing models on cryptocurrency query: 'What are NFTs and why are they valuable?'\n",
                  "Processing model: Llama 3.3 (70B)...\n",
                  "  - Completed (error)\n",
                  "Processing model: Llama 4 Scout...\n",
                  "  - Completed (error)\n",
                  "Processing model: Qwen QwQ-32B...\n",
                  "  - Completed (error)\n",
                  "Processing model: Flan-T5 (base)...\n",
                  "  - Completed (error)\n",
                  "\n",
                  "Question 9/10: 'How do cryptocurrency exchanges operate?'\n",
                  "Comparing models on cryptocurrency query: 'How do cryptocurrency exchanges operate?'\n",
                  "Processing model: Llama 3.3 (70B)...\n",
                  "  - Completed (error)\n",
                  "Processing model: Llama 4 Scout...\n",
                  "  - Completed (error)\n",
                  "Processing model: Qwen QwQ-32B...\n",
                  "  - Completed (error)\n",
                  "Processing model: Flan-T5 (base)...\n",
                  "  - Completed (error)\n",
                  "\n",
                  "Question 10/10: 'What is the Lightning Network and how does it improve Bitcoin?'\n",
                  "Comparing models on cryptocurrency query: 'What is the Lightning Network and how does it improve Bitcoin?'\n",
                  "Processing model: Llama 3.3 (70B)...\n",
                  "  - Completed (error)\n",
                  "Processing model: Llama 4 Scout...\n",
                  "  - Completed (error)\n",
                  "Processing model: Qwen QwQ-32B...\n",
                  "  - Completed (error)\n",
                  "Processing model: Flan-T5 (base)...\n",
                  "  - Completed (error)\n",
                  "\n",
                  "===== CRYPTOCURRENCY BENCHMARK RESULTS =====\n",
                  "\n",
                  "             model  avg_time  min_time  max_time  std_time  avg_crypto_score  \\\n",
                  "0   Flan-T5 (base)       0.0         0         0       0.0               0.1   \n",
                  "1  Llama 3.3 (70B)       0.0         0         0       0.0               0.1   \n",
                  "2    Llama 4 Scout       0.0         0         0       0.0               0.1   \n",
                  "3     Qwen QwQ-32B       0.0         0         0       0.0               0.1   \n",
                  "\n",
                  "   min_crypto_score  max_crypto_score  std_crypto_score  avg_length  \n",
                  "0               0.1               0.1               0.0         8.0  \n",
                  "1               0.1               0.1               0.0         8.0  \n",
                  "2               0.1               0.1               0.0         8.0  \n",
                  "3               0.1               0.1               0.0         8.0  \n"
                ]
              },
              {
                "output_type": "display_data",
                "data": {
                  "text/plain": "<Figure size 1200x600 with 1 Axes>",
                  "image/png": "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\n"
                },
                "metadata": {}
              },
              {
                "output_type": "display_data",
                "data": {
                  "text/plain": "<Figure size 1200x600 with 1 Axes>",
                  "image/png": "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\n"
                },
                "metadata": {}
              },
              {
                "output_type": "display_data",
                "data": {
                  "text/plain": "<Figure size 1200x600 with 1 Axes>",
                  "image/png": "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\n"
                },
                "metadata": {}
              },
              {
                "output_type": "stream",
                "name": "stdout",
                "text": [
                  "\n",
                  "Cryptocurrency benchmark completed!\n"
                ]
              }
            ]
          }
        },
        "781512e960744a59abce8bb3a963d5ae": {
          "model_module": "@jupyter-widgets/base",
          "model_name": "LayoutModel",
          "model_module_version": "1.2.0",
          "state": {
            "_model_module": "@jupyter-widgets/base",
            "_model_module_version": "1.2.0",
            "_model_name": "LayoutModel",
            "_view_count": null,
            "_view_module": "@jupyter-widgets/base",
            "_view_module_version": "1.2.0",
            "_view_name": "LayoutView",
            "align_content": null,
            "align_items": null,
            "align_self": null,
            "border": null,
            "bottom": null,
            "display": null,
            "flex": null,
            "flex_flow": null,
            "grid_area": null,
            "grid_auto_columns": null,
            "grid_auto_flow": null,
            "grid_auto_rows": null,
            "grid_column": null,
            "grid_gap": null,
            "grid_row": null,
            "grid_template_areas": null,
            "grid_template_columns": null,
            "grid_template_rows": null,
            "height": null,
            "justify_content": null,
            "justify_items": null,
            "left": null,
            "margin": null,
            "max_height": null,
            "max_width": null,
            "min_height": null,
            "min_width": null,
            "object_fit": null,
            "object_position": null,
            "order": null,
            "overflow": null,
            "overflow_x": null,
            "overflow_y": null,
            "padding": null,
            "right": null,
            "top": null,
            "visibility": null,
            "width": null
          }
        },
        "e2027ff61c8f49a39122029ae7353dfa": {
          "model_module": "@jupyter-widgets/controls",
          "model_name": "ButtonModel",
          "model_module_version": "1.5.0",
          "state": {
            "_dom_classes": [],
            "_model_module": "@jupyter-widgets/controls",
            "_model_module_version": "1.5.0",
            "_model_name": "ButtonModel",
            "_view_count": null,
            "_view_module": "@jupyter-widgets/controls",
            "_view_module_version": "1.5.0",
            "_view_name": "ButtonView",
            "button_style": "",
            "description": "Upload Single PDF",
            "disabled": false,
            "icon": "",
            "layout": "IPY_MODEL_217b348c984a423ab1478856021fc569",
            "style": "IPY_MODEL_7cc6ab271f69481bab053c91e5564e09",
            "tooltip": ""
          }
        },
        "217b348c984a423ab1478856021fc569": {
          "model_module": "@jupyter-widgets/base",
          "model_name": "LayoutModel",
          "model_module_version": "1.2.0",
          "state": {
            "_model_module": "@jupyter-widgets/base",
            "_model_module_version": "1.2.0",
            "_model_name": "LayoutModel",
            "_view_count": null,
            "_view_module": "@jupyter-widgets/base",
            "_view_module_version": "1.2.0",
            "_view_name": "LayoutView",
            "align_content": null,
            "align_items": null,
            "align_self": null,
            "border": null,
            "bottom": null,
            "display": null,
            "flex": null,
            "flex_flow": null,
            "grid_area": null,
            "grid_auto_columns": null,
            "grid_auto_flow": null,
            "grid_auto_rows": null,
            "grid_column": null,
            "grid_gap": null,
            "grid_row": null,
            "grid_template_areas": null,
            "grid_template_columns": null,
            "grid_template_rows": null,
            "height": null,
            "justify_content": null,
            "justify_items": null,
            "left": null,
            "margin": null,
            "max_height": null,
            "max_width": null,
            "min_height": null,
            "min_width": null,
            "object_fit": null,
            "object_position": null,
            "order": null,
            "overflow": null,
            "overflow_x": null,
            "overflow_y": null,
            "padding": null,
            "right": null,
            "top": null,
            "visibility": null,
            "width": null
          }
        },
        "7cc6ab271f69481bab053c91e5564e09": {
          "model_module": "@jupyter-widgets/controls",
          "model_name": "ButtonStyleModel",
          "model_module_version": "1.5.0",
          "state": {
            "_model_module": "@jupyter-widgets/controls",
            "_model_module_version": "1.5.0",
            "_model_name": "ButtonStyleModel",
            "_view_count": null,
            "_view_module": "@jupyter-widgets/base",
            "_view_module_version": "1.2.0",
            "_view_name": "StyleView",
            "button_color": null,
            "font_weight": ""
          }
        },
        "06a99935dbf241dbb4f7a71256470adc": {
          "model_module": "@jupyter-widgets/controls",
          "model_name": "ButtonModel",
          "model_module_version": "1.5.0",
          "state": {
            "_dom_classes": [],
            "_model_module": "@jupyter-widgets/controls",
            "_model_module_version": "1.5.0",
            "_model_name": "ButtonModel",
            "_view_count": null,
            "_view_module": "@jupyter-widgets/controls",
            "_view_module_version": "1.5.0",
            "_view_name": "ButtonView",
            "button_style": "",
            "description": "Upload Multiple PDFs",
            "disabled": false,
            "icon": "",
            "layout": "IPY_MODEL_d35583abf88d4d15ba6756a88b21bf2a",
            "style": "IPY_MODEL_e8eff87a8df548d3942125fe68303ce1",
            "tooltip": ""
          }
        },
        "d35583abf88d4d15ba6756a88b21bf2a": {
          "model_module": "@jupyter-widgets/base",
          "model_name": "LayoutModel",
          "model_module_version": "1.2.0",
          "state": {
            "_model_module": "@jupyter-widgets/base",
            "_model_module_version": "1.2.0",
            "_model_name": "LayoutModel",
            "_view_count": null,
            "_view_module": "@jupyter-widgets/base",
            "_view_module_version": "1.2.0",
            "_view_name": "LayoutView",
            "align_content": null,
            "align_items": null,
            "align_self": null,
            "border": null,
            "bottom": null,
            "display": null,
            "flex": null,
            "flex_flow": null,
            "grid_area": null,
            "grid_auto_columns": null,
            "grid_auto_flow": null,
            "grid_auto_rows": null,
            "grid_column": null,
            "grid_gap": null,
            "grid_row": null,
            "grid_template_areas": null,
            "grid_template_columns": null,
            "grid_template_rows": null,
            "height": null,
            "justify_content": null,
            "justify_items": null,
            "left": null,
            "margin": null,
            "max_height": null,
            "max_width": null,
            "min_height": null,
            "min_width": null,
            "object_fit": null,
            "object_position": null,
            "order": null,
            "overflow": null,
            "overflow_x": null,
            "overflow_y": null,
            "padding": null,
            "right": null,
            "top": null,
            "visibility": null,
            "width": null
          }
        },
        "e8eff87a8df548d3942125fe68303ce1": {
          "model_module": "@jupyter-widgets/controls",
          "model_name": "ButtonStyleModel",
          "model_module_version": "1.5.0",
          "state": {
            "_model_module": "@jupyter-widgets/controls",
            "_model_module_version": "1.5.0",
            "_model_name": "ButtonStyleModel",
            "_view_count": null,
            "_view_module": "@jupyter-widgets/base",
            "_view_module_version": "1.2.0",
            "_view_name": "StyleView",
            "button_color": null,
            "font_weight": ""
          }
        },
        "8f1069e747c74a85bbc8391a536f8dfd": {
          "model_module": "@jupyter-widgets/output",
          "model_name": "OutputModel",
          "model_module_version": "1.0.0",
          "state": {
            "_dom_classes": [],
            "_model_module": "@jupyter-widgets/output",
            "_model_module_version": "1.0.0",
            "_model_name": "OutputModel",
            "_view_count": null,
            "_view_module": "@jupyter-widgets/output",
            "_view_module_version": "1.0.0",
            "_view_name": "OutputView",
            "layout": "IPY_MODEL_f0f5538dde404bee9f2b631ba85abb16",
            "msg_id": "",
            "outputs": [
              {
                "output_type": "stream",
                "name": "stdout",
                "text": [
                  "\n",
                  "Please upload multiple PDFs related to cryptocurrency.\n"
                ]
              },
              {
                "output_type": "display_data",
                "data": {
                  "text/plain": "<IPython.core.display.HTML object>",
                  "text/html": "\n     <input type=\"file\" id=\"files-36c5f36a-852f-4f55-9563-00cb78908f65\" name=\"files[]\" multiple disabled\n        style=\"border:none\" />\n     <output id=\"result-36c5f36a-852f-4f55-9563-00cb78908f65\">\n      Upload widget is only available when the cell has been executed in the\n      current browser session. Please rerun this cell to enable.\n      </output>\n      <script>// Copyright 2017 Google LLC\n//\n// Licensed under the Apache License, Version 2.0 (the \"License\");\n// you may not use this file except in compliance with the License.\n// You may obtain a copy of the License at\n//\n//      http://www.apache.org/licenses/LICENSE-2.0\n//\n// Unless required by applicable law or agreed to in writing, software\n// distributed under the License is distributed on an \"AS IS\" BASIS,\n// WITHOUT WARRANTIES OR CONDITIONS OF ANY KIND, either express or implied.\n// See the License for the specific language governing permissions and\n// limitations under the License.\n\n/**\n * @fileoverview Helpers for google.colab Python module.\n */\n(function(scope) {\nfunction span(text, styleAttributes = {}) {\n  const element = document.createElement('span');\n  element.textContent = text;\n  for (const key of Object.keys(styleAttributes)) {\n    element.style[key] = styleAttributes[key];\n  }\n  return element;\n}\n\n// Max number of bytes which will be uploaded at a time.\nconst MAX_PAYLOAD_SIZE = 100 * 1024;\n\nfunction _uploadFiles(inputId, outputId) {\n  const steps = uploadFilesStep(inputId, outputId);\n  const outputElement = document.getElementById(outputId);\n  // Cache steps on the outputElement to make it available for the next call\n  // to uploadFilesContinue from Python.\n  outputElement.steps = steps;\n\n  return _uploadFilesContinue(outputId);\n}\n\n// This is roughly an async generator (not supported in the browser yet),\n// where there are multiple asynchronous steps and the Python side is going\n// to poll for completion of each step.\n// This uses a Promise to block the python side on completion of each step,\n// then passes the result of the previous step as the input to the next step.\nfunction _uploadFilesContinue(outputId) {\n  const outputElement = document.getElementById(outputId);\n  const steps = outputElement.steps;\n\n  const next = steps.next(outputElement.lastPromiseValue);\n  return Promise.resolve(next.value.promise).then((value) => {\n    // Cache the last promise value to make it available to the next\n    // step of the generator.\n    outputElement.lastPromiseValue = value;\n    return next.value.response;\n  });\n}\n\n/**\n * Generator function which is called between each async step of the upload\n * process.\n * @param {string} inputId Element ID of the input file picker element.\n * @param {string} outputId Element ID of the output display.\n * @return {!Iterable<!Object>} Iterable of next steps.\n */\nfunction* uploadFilesStep(inputId, outputId) {\n  const inputElement = document.getElementById(inputId);\n  inputElement.disabled = false;\n\n  const outputElement = document.getElementById(outputId);\n  outputElement.innerHTML = '';\n\n  const pickedPromise = new Promise((resolve) => {\n    inputElement.addEventListener('change', (e) => {\n      resolve(e.target.files);\n    });\n  });\n\n  const cancel = document.createElement('button');\n  inputElement.parentElement.appendChild(cancel);\n  cancel.textContent = 'Cancel upload';\n  const cancelPromise = new Promise((resolve) => {\n    cancel.onclick = () => {\n      resolve(null);\n    };\n  });\n\n  // Wait for the user to pick the files.\n  const files = yield {\n    promise: Promise.race([pickedPromise, cancelPromise]),\n    response: {\n      action: 'starting',\n    }\n  };\n\n  cancel.remove();\n\n  // Disable the input element since further picks are not allowed.\n  inputElement.disabled = true;\n\n  if (!files) {\n    return {\n      response: {\n        action: 'complete',\n      }\n    };\n  }\n\n  for (const file of files) {\n    const li = document.createElement('li');\n    li.append(span(file.name, {fontWeight: 'bold'}));\n    li.append(span(\n        `(${file.type || 'n/a'}) - ${file.size} bytes, ` +\n        `last modified: ${\n            file.lastModifiedDate ? file.lastModifiedDate.toLocaleDateString() :\n                                    'n/a'} - `));\n    const percent = span('0% done');\n    li.appendChild(percent);\n\n    outputElement.appendChild(li);\n\n    const fileDataPromise = new Promise((resolve) => {\n      const reader = new FileReader();\n      reader.onload = (e) => {\n        resolve(e.target.result);\n      };\n      reader.readAsArrayBuffer(file);\n    });\n    // Wait for the data to be ready.\n    let fileData = yield {\n      promise: fileDataPromise,\n      response: {\n        action: 'continue',\n      }\n    };\n\n    // Use a chunked sending to avoid message size limits. See b/62115660.\n    let position = 0;\n    do {\n      const length = Math.min(fileData.byteLength - position, MAX_PAYLOAD_SIZE);\n      const chunk = new Uint8Array(fileData, position, length);\n      position += length;\n\n      const base64 = btoa(String.fromCharCode.apply(null, chunk));\n      yield {\n        response: {\n          action: 'append',\n          file: file.name,\n          data: base64,\n        },\n      };\n\n      let percentDone = fileData.byteLength === 0 ?\n          100 :\n          Math.round((position / fileData.byteLength) * 100);\n      percent.textContent = `${percentDone}% done`;\n\n    } while (position < fileData.byteLength);\n  }\n\n  // All done.\n  yield {\n    response: {\n      action: 'complete',\n    }\n  };\n}\n\nscope.google = scope.google || {};\nscope.google.colab = scope.google.colab || {};\nscope.google.colab._files = {\n  _uploadFiles,\n  _uploadFilesContinue,\n};\n})(self);\n</script> "
                },
                "metadata": {}
              },
              {
                "output_type": "stream",
                "name": "stdout",
                "text": [
                  "Saving A_brief_survey_of_Cryptocurrency_systems.pdf to A_brief_survey_of_Cryptocurrency_systems.pdf\n",
                  "Saving Emerging_Tech_Bitcoin_Crypto.pdf to Emerging_Tech_Bitcoin_Crypto.pdf\n",
                  "Saving Ethereum Smart Contracts Optimization.pdf to Ethereum Smart Contracts Optimization.pdf\n"
                ]
              },
              {
                "output_type": "stream",
                "name": "stdout",
                "text": [
                  "Processed A_brief_survey_of_Cryptocurrency_systems.pdf: Successfully added to FAISS.\n"
                ]
              },
              {
                "output_type": "stream",
                "name": "stderr",
                "text": [
                  "WARNING:pdfminer.pdfpage:CropBox missing from /Page, defaulting to MediaBox\n"
                ]
              },
              {
                "output_type": "stream",
                "name": "stderr",
                "text": [
                  "WARNING:pdfminer.pdfpage:CropBox missing from /Page, defaulting to MediaBox\n"
                ]
              },
              {
                "output_type": "stream",
                "name": "stderr",
                "text": [
                  "WARNING:pdfminer.pdfpage:CropBox missing from /Page, defaulting to MediaBox\n"
                ]
              },
              {
                "output_type": "stream",
                "name": "stderr",
                "text": [
                  "WARNING:pdfminer.pdfpage:CropBox missing from /Page, defaulting to MediaBox\n"
                ]
              },
              {
                "output_type": "stream",
                "name": "stderr",
                "text": [
                  "WARNING:pdfminer.pdfpage:CropBox missing from /Page, defaulting to MediaBox\n"
                ]
              },
              {
                "output_type": "stream",
                "name": "stderr",
                "text": [
                  "WARNING:pdfminer.pdfpage:CropBox missing from /Page, defaulting to MediaBox\n"
                ]
              },
              {
                "output_type": "stream",
                "name": "stderr",
                "text": [
                  "WARNING:pdfminer.pdfpage:CropBox missing from /Page, defaulting to MediaBox\n"
                ]
              },
              {
                "output_type": "stream",
                "name": "stderr",
                "text": [
                  "WARNING:pdfminer.pdfpage:CropBox missing from /Page, defaulting to MediaBox\n"
                ]
              },
              {
                "output_type": "stream",
                "name": "stderr",
                "text": [
                  "WARNING:pdfminer.pdfpage:CropBox missing from /Page, defaulting to MediaBox\n"
                ]
              },
              {
                "output_type": "stream",
                "name": "stderr",
                "text": [
                  "WARNING:pdfminer.pdfpage:CropBox missing from /Page, defaulting to MediaBox\n"
                ]
              },
              {
                "output_type": "stream",
                "name": "stderr",
                "text": [
                  "WARNING:pdfminer.pdfpage:CropBox missing from /Page, defaulting to MediaBox\n"
                ]
              },
              {
                "output_type": "stream",
                "name": "stderr",
                "text": [
                  "WARNING:pdfminer.pdfpage:CropBox missing from /Page, defaulting to MediaBox\n"
                ]
              },
              {
                "output_type": "stream",
                "name": "stderr",
                "text": [
                  "WARNING:pdfminer.pdfpage:CropBox missing from /Page, defaulting to MediaBox\n"
                ]
              },
              {
                "output_type": "stream",
                "name": "stderr",
                "text": [
                  "WARNING:pdfminer.pdfpage:CropBox missing from /Page, defaulting to MediaBox\n"
                ]
              },
              {
                "output_type": "stream",
                "name": "stderr",
                "text": [
                  "WARNING:pdfminer.pdfpage:CropBox missing from /Page, defaulting to MediaBox\n"
                ]
              },
              {
                "output_type": "stream",
                "name": "stderr",
                "text": [
                  "WARNING:pdfminer.pdfpage:CropBox missing from /Page, defaulting to MediaBox\n"
                ]
              },
              {
                "output_type": "stream",
                "name": "stderr",
                "text": [
                  "WARNING:pdfminer.pdfpage:CropBox missing from /Page, defaulting to MediaBox\n"
                ]
              },
              {
                "output_type": "stream",
                "name": "stderr",
                "text": [
                  "WARNING:pdfminer.pdfpage:CropBox missing from /Page, defaulting to MediaBox\n"
                ]
              },
              {
                "output_type": "stream",
                "name": "stderr",
                "text": [
                  "WARNING:pdfminer.pdfpage:CropBox missing from /Page, defaulting to MediaBox\n"
                ]
              },
              {
                "output_type": "stream",
                "name": "stderr",
                "text": [
                  "WARNING:pdfminer.pdfpage:CropBox missing from /Page, defaulting to MediaBox\n"
                ]
              },
              {
                "output_type": "stream",
                "name": "stderr",
                "text": [
                  "WARNING:pdfminer.pdfpage:CropBox missing from /Page, defaulting to MediaBox\n"
                ]
              },
              {
                "output_type": "stream",
                "name": "stderr",
                "text": [
                  "WARNING:pdfminer.pdfpage:CropBox missing from /Page, defaulting to MediaBox\n"
                ]
              },
              {
                "output_type": "stream",
                "name": "stderr",
                "text": [
                  "WARNING:pdfminer.pdfpage:CropBox missing from /Page, defaulting to MediaBox\n"
                ]
              },
              {
                "output_type": "stream",
                "name": "stderr",
                "text": [
                  "WARNING:pdfminer.pdfpage:CropBox missing from /Page, defaulting to MediaBox\n"
                ]
              },
              {
                "output_type": "stream",
                "name": "stderr",
                "text": [
                  "WARNING:pdfminer.pdfpage:CropBox missing from /Page, defaulting to MediaBox\n"
                ]
              },
              {
                "output_type": "stream",
                "name": "stderr",
                "text": [
                  "WARNING:pdfminer.pdfpage:CropBox missing from /Page, defaulting to MediaBox\n"
                ]
              },
              {
                "output_type": "stream",
                "name": "stderr",
                "text": [
                  "WARNING:pdfminer.pdfpage:CropBox missing from /Page, defaulting to MediaBox\n"
                ]
              },
              {
                "output_type": "stream",
                "name": "stderr",
                "text": [
                  "WARNING:pdfminer.pdfpage:CropBox missing from /Page, defaulting to MediaBox\n"
                ]
              },
              {
                "output_type": "stream",
                "name": "stderr",
                "text": [
                  "WARNING:pdfminer.pdfpage:CropBox missing from /Page, defaulting to MediaBox\n"
                ]
              },
              {
                "output_type": "stream",
                "name": "stderr",
                "text": [
                  "WARNING:pdfminer.pdfpage:CropBox missing from /Page, defaulting to MediaBox\n"
                ]
              },
              {
                "output_type": "stream",
                "name": "stderr",
                "text": [
                  "WARNING:pdfminer.pdfpage:CropBox missing from /Page, defaulting to MediaBox\n"
                ]
              },
              {
                "output_type": "stream",
                "name": "stderr",
                "text": [
                  "WARNING:pdfminer.pdfpage:CropBox missing from /Page, defaulting to MediaBox\n"
                ]
              },
              {
                "output_type": "stream",
                "name": "stderr",
                "text": [
                  "WARNING:pdfminer.pdfpage:CropBox missing from /Page, defaulting to MediaBox\n"
                ]
              },
              {
                "output_type": "stream",
                "name": "stderr",
                "text": [
                  "WARNING:pdfminer.pdfpage:CropBox missing from /Page, defaulting to MediaBox\n"
                ]
              },
              {
                "output_type": "stream",
                "name": "stderr",
                "text": [
                  "WARNING:pdfminer.pdfpage:CropBox missing from /Page, defaulting to MediaBox\n"
                ]
              },
              {
                "output_type": "stream",
                "name": "stderr",
                "text": [
                  "WARNING:pdfminer.pdfpage:CropBox missing from /Page, defaulting to MediaBox\n"
                ]
              },
              {
                "output_type": "stream",
                "name": "stderr",
                "text": [
                  "WARNING:pdfminer.pdfpage:CropBox missing from /Page, defaulting to MediaBox\n"
                ]
              },
              {
                "output_type": "stream",
                "name": "stderr",
                "text": [
                  "WARNING:pdfminer.pdfpage:CropBox missing from /Page, defaulting to MediaBox\n"
                ]
              },
              {
                "output_type": "stream",
                "name": "stderr",
                "text": [
                  "WARNING:pdfminer.pdfpage:CropBox missing from /Page, defaulting to MediaBox\n"
                ]
              },
              {
                "output_type": "stream",
                "name": "stderr",
                "text": [
                  "WARNING:pdfminer.pdfpage:CropBox missing from /Page, defaulting to MediaBox\n"
                ]
              },
              {
                "output_type": "stream",
                "name": "stderr",
                "text": [
                  "WARNING:pdfminer.pdfpage:CropBox missing from /Page, defaulting to MediaBox\n"
                ]
              },
              {
                "output_type": "stream",
                "name": "stderr",
                "text": [
                  "WARNING:pdfminer.pdfpage:CropBox missing from /Page, defaulting to MediaBox\n"
                ]
              },
              {
                "output_type": "stream",
                "name": "stdout",
                "text": [
                  "Processed Emerging_Tech_Bitcoin_Crypto.pdf: Successfully added to FAISS.\n"
                ]
              },
              {
                "output_type": "stream",
                "name": "stderr",
                "text": [
                  "WARNING:pdfminer.pdfpage:CropBox missing from /Page, defaulting to MediaBox\n"
                ]
              },
              {
                "output_type": "stream",
                "name": "stderr",
                "text": [
                  "WARNING:pdfminer.pdfpage:CropBox missing from /Page, defaulting to MediaBox\n"
                ]
              },
              {
                "output_type": "stream",
                "name": "stderr",
                "text": [
                  "WARNING:pdfminer.pdfpage:CropBox missing from /Page, defaulting to MediaBox\n"
                ]
              },
              {
                "output_type": "stream",
                "name": "stderr",
                "text": [
                  "WARNING:pdfminer.pdfpage:CropBox missing from /Page, defaulting to MediaBox\n"
                ]
              },
              {
                "output_type": "stream",
                "name": "stderr",
                "text": [
                  "WARNING:pdfminer.pdfpage:CropBox missing from /Page, defaulting to MediaBox\n"
                ]
              },
              {
                "output_type": "stream",
                "name": "stderr",
                "text": [
                  "WARNING:pdfminer.pdfpage:CropBox missing from /Page, defaulting to MediaBox\n"
                ]
              },
              {
                "output_type": "stream",
                "name": "stderr",
                "text": [
                  "WARNING:pdfminer.pdfpage:CropBox missing from /Page, defaulting to MediaBox\n"
                ]
              },
              {
                "output_type": "stream",
                "name": "stderr",
                "text": [
                  "WARNING:pdfminer.pdfpage:CropBox missing from /Page, defaulting to MediaBox\n"
                ]
              },
              {
                "output_type": "stream",
                "name": "stderr",
                "text": [
                  "WARNING:pdfminer.pdfpage:CropBox missing from /Page, defaulting to MediaBox\n"
                ]
              },
              {
                "output_type": "stream",
                "name": "stderr",
                "text": [
                  "WARNING:pdfminer.pdfpage:CropBox missing from /Page, defaulting to MediaBox\n"
                ]
              },
              {
                "output_type": "stream",
                "name": "stderr",
                "text": [
                  "WARNING:pdfminer.pdfpage:CropBox missing from /Page, defaulting to MediaBox\n"
                ]
              },
              {
                "output_type": "stream",
                "name": "stderr",
                "text": [
                  "WARNING:pdfminer.pdfpage:CropBox missing from /Page, defaulting to MediaBox\n"
                ]
              },
              {
                "output_type": "stream",
                "name": "stderr",
                "text": [
                  "WARNING:pdfminer.pdfpage:CropBox missing from /Page, defaulting to MediaBox\n"
                ]
              },
              {
                "output_type": "stream",
                "name": "stderr",
                "text": [
                  "WARNING:pdfminer.pdfpage:CropBox missing from /Page, defaulting to MediaBox\n"
                ]
              },
              {
                "output_type": "stream",
                "name": "stderr",
                "text": [
                  "WARNING:pdfminer.pdfpage:CropBox missing from /Page, defaulting to MediaBox\n"
                ]
              },
              {
                "output_type": "stream",
                "name": "stderr",
                "text": [
                  "WARNING:pdfminer.pdfpage:CropBox missing from /Page, defaulting to MediaBox\n"
                ]
              },
              {
                "output_type": "stream",
                "name": "stderr",
                "text": [
                  "WARNING:pdfminer.pdfpage:CropBox missing from /Page, defaulting to MediaBox\n"
                ]
              },
              {
                "output_type": "stream",
                "name": "stderr",
                "text": [
                  "WARNING:pdfminer.pdfpage:CropBox missing from /Page, defaulting to MediaBox\n"
                ]
              },
              {
                "output_type": "stream",
                "name": "stderr",
                "text": [
                  "WARNING:pdfminer.pdfpage:CropBox missing from /Page, defaulting to MediaBox\n"
                ]
              },
              {
                "output_type": "stream",
                "name": "stderr",
                "text": [
                  "WARNING:pdfminer.pdfpage:CropBox missing from /Page, defaulting to MediaBox\n"
                ]
              },
              {
                "output_type": "stream",
                "name": "stderr",
                "text": [
                  "WARNING:pdfminer.pdfpage:CropBox missing from /Page, defaulting to MediaBox\n"
                ]
              },
              {
                "output_type": "stream",
                "name": "stderr",
                "text": [
                  "WARNING:pdfminer.pdfpage:CropBox missing from /Page, defaulting to MediaBox\n"
                ]
              },
              {
                "output_type": "stream",
                "name": "stderr",
                "text": [
                  "WARNING:pdfminer.pdfpage:CropBox missing from /Page, defaulting to MediaBox\n"
                ]
              },
              {
                "output_type": "stream",
                "name": "stderr",
                "text": [
                  "WARNING:pdfminer.pdfpage:CropBox missing from /Page, defaulting to MediaBox\n"
                ]
              },
              {
                "output_type": "stream",
                "name": "stderr",
                "text": [
                  "WARNING:pdfminer.pdfpage:CropBox missing from /Page, defaulting to MediaBox\n"
                ]
              },
              {
                "output_type": "stream",
                "name": "stderr",
                "text": [
                  "WARNING:pdfminer.pdfpage:CropBox missing from /Page, defaulting to MediaBox\n"
                ]
              },
              {
                "output_type": "stream",
                "name": "stderr",
                "text": [
                  "WARNING:pdfminer.pdfpage:CropBox missing from /Page, defaulting to MediaBox\n"
                ]
              },
              {
                "output_type": "stream",
                "name": "stderr",
                "text": [
                  "WARNING:pdfminer.pdfpage:CropBox missing from /Page, defaulting to MediaBox\n"
                ]
              },
              {
                "output_type": "stream",
                "name": "stderr",
                "text": [
                  "WARNING:pdfminer.pdfpage:CropBox missing from /Page, defaulting to MediaBox\n"
                ]
              },
              {
                "output_type": "stream",
                "name": "stderr",
                "text": [
                  "WARNING:pdfminer.pdfpage:CropBox missing from /Page, defaulting to MediaBox\n"
                ]
              },
              {
                "output_type": "stream",
                "name": "stderr",
                "text": [
                  "WARNING:pdfminer.pdfpage:CropBox missing from /Page, defaulting to MediaBox\n"
                ]
              },
              {
                "output_type": "stream",
                "name": "stderr",
                "text": [
                  "WARNING:pdfminer.pdfpage:CropBox missing from /Page, defaulting to MediaBox\n"
                ]
              },
              {
                "output_type": "stream",
                "name": "stderr",
                "text": [
                  "WARNING:pdfminer.pdfpage:CropBox missing from /Page, defaulting to MediaBox\n"
                ]
              },
              {
                "output_type": "stream",
                "name": "stderr",
                "text": [
                  "WARNING:pdfminer.pdfpage:CropBox missing from /Page, defaulting to MediaBox\n"
                ]
              },
              {
                "output_type": "stream",
                "name": "stderr",
                "text": [
                  "WARNING:pdfminer.pdfpage:CropBox missing from /Page, defaulting to MediaBox\n"
                ]
              },
              {
                "output_type": "stream",
                "name": "stderr",
                "text": [
                  "WARNING:pdfminer.pdfpage:CropBox missing from /Page, defaulting to MediaBox\n"
                ]
              },
              {
                "output_type": "stream",
                "name": "stderr",
                "text": [
                  "WARNING:pdfminer.pdfpage:CropBox missing from /Page, defaulting to MediaBox\n"
                ]
              },
              {
                "output_type": "stream",
                "name": "stderr",
                "text": [
                  "WARNING:pdfminer.pdfpage:CropBox missing from /Page, defaulting to MediaBox\n"
                ]
              },
              {
                "output_type": "stream",
                "name": "stderr",
                "text": [
                  "WARNING:pdfminer.pdfpage:CropBox missing from /Page, defaulting to MediaBox\n"
                ]
              },
              {
                "output_type": "stream",
                "name": "stderr",
                "text": [
                  "WARNING:pdfminer.pdfpage:CropBox missing from /Page, defaulting to MediaBox\n"
                ]
              },
              {
                "output_type": "stream",
                "name": "stderr",
                "text": [
                  "WARNING:pdfminer.pdfpage:CropBox missing from /Page, defaulting to MediaBox\n"
                ]
              },
              {
                "output_type": "stream",
                "name": "stderr",
                "text": [
                  "WARNING:pdfminer.pdfpage:CropBox missing from /Page, defaulting to MediaBox\n"
                ]
              },
              {
                "output_type": "stream",
                "name": "stderr",
                "text": [
                  "WARNING:pdfminer.pdfpage:CropBox missing from /Page, defaulting to MediaBox\n"
                ]
              },
              {
                "output_type": "stream",
                "name": "stderr",
                "text": [
                  "WARNING:pdfminer.pdfpage:CropBox missing from /Page, defaulting to MediaBox\n"
                ]
              },
              {
                "output_type": "stream",
                "name": "stderr",
                "text": [
                  "WARNING:pdfminer.pdfpage:CropBox missing from /Page, defaulting to MediaBox\n"
                ]
              },
              {
                "output_type": "stream",
                "name": "stderr",
                "text": [
                  "WARNING:pdfminer.pdfpage:CropBox missing from /Page, defaulting to MediaBox\n"
                ]
              },
              {
                "output_type": "stream",
                "name": "stderr",
                "text": [
                  "WARNING:pdfminer.pdfpage:CropBox missing from /Page, defaulting to MediaBox\n"
                ]
              },
              {
                "output_type": "stream",
                "name": "stderr",
                "text": [
                  "WARNING:pdfminer.pdfpage:CropBox missing from /Page, defaulting to MediaBox\n"
                ]
              },
              {
                "output_type": "stream",
                "name": "stderr",
                "text": [
                  "WARNING:pdfminer.pdfpage:CropBox missing from /Page, defaulting to MediaBox\n"
                ]
              },
              {
                "output_type": "stream",
                "name": "stderr",
                "text": [
                  "WARNING:pdfminer.pdfpage:CropBox missing from /Page, defaulting to MediaBox\n"
                ]
              },
              {
                "output_type": "stream",
                "name": "stderr",
                "text": [
                  "WARNING:pdfminer.pdfpage:CropBox missing from /Page, defaulting to MediaBox\n"
                ]
              },
              {
                "output_type": "stream",
                "name": "stderr",
                "text": [
                  "WARNING:pdfminer.pdfpage:CropBox missing from /Page, defaulting to MediaBox\n"
                ]
              },
              {
                "output_type": "stream",
                "name": "stderr",
                "text": [
                  "WARNING:pdfminer.pdfpage:CropBox missing from /Page, defaulting to MediaBox\n"
                ]
              },
              {
                "output_type": "stream",
                "name": "stderr",
                "text": [
                  "WARNING:pdfminer.pdfpage:CropBox missing from /Page, defaulting to MediaBox\n"
                ]
              },
              {
                "output_type": "stream",
                "name": "stderr",
                "text": [
                  "WARNING:pdfminer.pdfpage:CropBox missing from /Page, defaulting to MediaBox\n"
                ]
              },
              {
                "output_type": "stream",
                "name": "stderr",
                "text": [
                  "WARNING:pdfminer.pdfpage:CropBox missing from /Page, defaulting to MediaBox\n"
                ]
              },
              {
                "output_type": "stream",
                "name": "stderr",
                "text": [
                  "WARNING:pdfminer.pdfpage:CropBox missing from /Page, defaulting to MediaBox\n"
                ]
              },
              {
                "output_type": "stream",
                "name": "stderr",
                "text": [
                  "WARNING:pdfminer.pdfpage:CropBox missing from /Page, defaulting to MediaBox\n"
                ]
              },
              {
                "output_type": "stream",
                "name": "stderr",
                "text": [
                  "WARNING:pdfminer.pdfpage:CropBox missing from /Page, defaulting to MediaBox\n"
                ]
              },
              {
                "output_type": "stream",
                "name": "stderr",
                "text": [
                  "WARNING:pdfminer.pdfpage:CropBox missing from /Page, defaulting to MediaBox\n"
                ]
              },
              {
                "output_type": "stream",
                "name": "stderr",
                "text": [
                  "WARNING:pdfminer.pdfpage:CropBox missing from /Page, defaulting to MediaBox\n"
                ]
              },
              {
                "output_type": "stream",
                "name": "stderr",
                "text": [
                  "WARNING:pdfminer.pdfpage:CropBox missing from /Page, defaulting to MediaBox\n"
                ]
              },
              {
                "output_type": "stream",
                "name": "stderr",
                "text": [
                  "WARNING:pdfminer.pdfpage:CropBox missing from /Page, defaulting to MediaBox\n"
                ]
              },
              {
                "output_type": "stream",
                "name": "stderr",
                "text": [
                  "WARNING:pdfminer.pdfpage:CropBox missing from /Page, defaulting to MediaBox\n"
                ]
              },
              {
                "output_type": "stream",
                "name": "stderr",
                "text": [
                  "WARNING:pdfminer.pdfpage:CropBox missing from /Page, defaulting to MediaBox\n"
                ]
              },
              {
                "output_type": "stream",
                "name": "stderr",
                "text": [
                  "WARNING:pdfminer.pdfpage:CropBox missing from /Page, defaulting to MediaBox\n"
                ]
              },
              {
                "output_type": "stream",
                "name": "stderr",
                "text": [
                  "WARNING:pdfminer.pdfpage:CropBox missing from /Page, defaulting to MediaBox\n"
                ]
              },
              {
                "output_type": "stream",
                "name": "stderr",
                "text": [
                  "WARNING:pdfminer.pdfpage:CropBox missing from /Page, defaulting to MediaBox\n"
                ]
              },
              {
                "output_type": "stream",
                "name": "stderr",
                "text": [
                  "WARNING:pdfminer.pdfpage:CropBox missing from /Page, defaulting to MediaBox\n"
                ]
              },
              {
                "output_type": "stream",
                "name": "stderr",
                "text": [
                  "WARNING:pdfminer.pdfpage:CropBox missing from /Page, defaulting to MediaBox\n"
                ]
              },
              {
                "output_type": "stream",
                "name": "stderr",
                "text": [
                  "WARNING:pdfminer.pdfpage:CropBox missing from /Page, defaulting to MediaBox\n"
                ]
              },
              {
                "output_type": "stream",
                "name": "stderr",
                "text": [
                  "WARNING:pdfminer.pdfpage:CropBox missing from /Page, defaulting to MediaBox\n"
                ]
              },
              {
                "output_type": "stream",
                "name": "stderr",
                "text": [
                  "WARNING:pdfminer.pdfpage:CropBox missing from /Page, defaulting to MediaBox\n"
                ]
              },
              {
                "output_type": "stream",
                "name": "stderr",
                "text": [
                  "WARNING:pdfminer.pdfpage:CropBox missing from /Page, defaulting to MediaBox\n"
                ]
              },
              {
                "output_type": "stream",
                "name": "stderr",
                "text": [
                  "WARNING:pdfminer.pdfpage:CropBox missing from /Page, defaulting to MediaBox\n"
                ]
              },
              {
                "output_type": "stream",
                "name": "stderr",
                "text": [
                  "WARNING:pdfminer.pdfpage:CropBox missing from /Page, defaulting to MediaBox\n"
                ]
              },
              {
                "output_type": "stream",
                "name": "stderr",
                "text": [
                  "WARNING:pdfminer.pdfpage:CropBox missing from /Page, defaulting to MediaBox\n"
                ]
              },
              {
                "output_type": "stream",
                "name": "stderr",
                "text": [
                  "WARNING:pdfminer.pdfpage:CropBox missing from /Page, defaulting to MediaBox\n"
                ]
              },
              {
                "output_type": "stream",
                "name": "stderr",
                "text": [
                  "WARNING:pdfminer.pdfpage:CropBox missing from /Page, defaulting to MediaBox\n"
                ]
              },
              {
                "output_type": "stream",
                "name": "stderr",
                "text": [
                  "WARNING:pdfminer.pdfpage:CropBox missing from /Page, defaulting to MediaBox\n"
                ]
              },
              {
                "output_type": "stream",
                "name": "stderr",
                "text": [
                  "WARNING:pdfminer.pdfpage:CropBox missing from /Page, defaulting to MediaBox\n"
                ]
              },
              {
                "output_type": "stream",
                "name": "stderr",
                "text": [
                  "WARNING:pdfminer.pdfpage:CropBox missing from /Page, defaulting to MediaBox\n"
                ]
              },
              {
                "output_type": "stream",
                "name": "stderr",
                "text": [
                  "WARNING:pdfminer.pdfpage:CropBox missing from /Page, defaulting to MediaBox\n"
                ]
              },
              {
                "output_type": "stream",
                "name": "stderr",
                "text": [
                  "WARNING:pdfminer.pdfpage:CropBox missing from /Page, defaulting to MediaBox\n"
                ]
              },
              {
                "output_type": "stream",
                "name": "stderr",
                "text": [
                  "WARNING:pdfminer.pdfpage:CropBox missing from /Page, defaulting to MediaBox\n"
                ]
              },
              {
                "output_type": "stream",
                "name": "stderr",
                "text": [
                  "WARNING:pdfminer.pdfpage:CropBox missing from /Page, defaulting to MediaBox\n"
                ]
              },
              {
                "output_type": "stream",
                "name": "stderr",
                "text": [
                  "WARNING:pdfminer.pdfpage:CropBox missing from /Page, defaulting to MediaBox\n"
                ]
              },
              {
                "output_type": "stream",
                "name": "stderr",
                "text": [
                  "WARNING:pdfminer.pdfpage:CropBox missing from /Page, defaulting to MediaBox\n"
                ]
              },
              {
                "output_type": "stream",
                "name": "stderr",
                "text": [
                  "WARNING:pdfminer.pdfpage:CropBox missing from /Page, defaulting to MediaBox\n"
                ]
              },
              {
                "output_type": "stream",
                "name": "stderr",
                "text": [
                  "WARNING:pdfminer.pdfpage:CropBox missing from /Page, defaulting to MediaBox\n"
                ]
              },
              {
                "output_type": "stream",
                "name": "stderr",
                "text": [
                  "WARNING:pdfminer.pdfpage:CropBox missing from /Page, defaulting to MediaBox\n"
                ]
              },
              {
                "output_type": "stream",
                "name": "stderr",
                "text": [
                  "WARNING:pdfminer.pdfpage:CropBox missing from /Page, defaulting to MediaBox\n"
                ]
              },
              {
                "output_type": "stream",
                "name": "stderr",
                "text": [
                  "WARNING:pdfminer.pdfpage:CropBox missing from /Page, defaulting to MediaBox\n"
                ]
              },
              {
                "output_type": "stream",
                "name": "stderr",
                "text": [
                  "WARNING:pdfminer.pdfpage:CropBox missing from /Page, defaulting to MediaBox\n"
                ]
              },
              {
                "output_type": "stream",
                "name": "stderr",
                "text": [
                  "WARNING:pdfminer.pdfpage:CropBox missing from /Page, defaulting to MediaBox\n"
                ]
              },
              {
                "output_type": "stream",
                "name": "stderr",
                "text": [
                  "WARNING:pdfminer.pdfpage:CropBox missing from /Page, defaulting to MediaBox\n"
                ]
              },
              {
                "output_type": "stream",
                "name": "stderr",
                "text": [
                  "WARNING:pdfminer.pdfpage:CropBox missing from /Page, defaulting to MediaBox\n"
                ]
              },
              {
                "output_type": "stream",
                "name": "stderr",
                "text": [
                  "WARNING:pdfminer.pdfpage:CropBox missing from /Page, defaulting to MediaBox\n"
                ]
              },
              {
                "output_type": "stream",
                "name": "stderr",
                "text": [
                  "WARNING:pdfminer.pdfpage:CropBox missing from /Page, defaulting to MediaBox\n"
                ]
              },
              {
                "output_type": "stream",
                "name": "stderr",
                "text": [
                  "WARNING:pdfminer.pdfpage:CropBox missing from /Page, defaulting to MediaBox\n"
                ]
              },
              {
                "output_type": "stream",
                "name": "stderr",
                "text": [
                  "WARNING:pdfminer.pdfpage:CropBox missing from /Page, defaulting to MediaBox\n"
                ]
              },
              {
                "output_type": "stream",
                "name": "stderr",
                "text": [
                  "WARNING:pdfminer.pdfpage:CropBox missing from /Page, defaulting to MediaBox\n"
                ]
              },
              {
                "output_type": "stream",
                "name": "stderr",
                "text": [
                  "WARNING:pdfminer.pdfpage:CropBox missing from /Page, defaulting to MediaBox\n"
                ]
              },
              {
                "output_type": "stream",
                "name": "stderr",
                "text": [
                  "WARNING:pdfminer.pdfpage:CropBox missing from /Page, defaulting to MediaBox\n"
                ]
              },
              {
                "output_type": "stream",
                "name": "stderr",
                "text": [
                  "WARNING:pdfminer.pdfpage:CropBox missing from /Page, defaulting to MediaBox\n"
                ]
              },
              {
                "output_type": "stream",
                "name": "stderr",
                "text": [
                  "WARNING:pdfminer.pdfpage:CropBox missing from /Page, defaulting to MediaBox\n"
                ]
              },
              {
                "output_type": "stream",
                "name": "stderr",
                "text": [
                  "WARNING:pdfminer.pdfpage:CropBox missing from /Page, defaulting to MediaBox\n"
                ]
              },
              {
                "output_type": "stream",
                "name": "stderr",
                "text": [
                  "WARNING:pdfminer.pdfpage:CropBox missing from /Page, defaulting to MediaBox\n"
                ]
              },
              {
                "output_type": "stream",
                "name": "stderr",
                "text": [
                  "WARNING:pdfminer.pdfpage:CropBox missing from /Page, defaulting to MediaBox\n"
                ]
              },
              {
                "output_type": "stream",
                "name": "stderr",
                "text": [
                  "WARNING:pdfminer.pdfpage:CropBox missing from /Page, defaulting to MediaBox\n"
                ]
              },
              {
                "output_type": "stream",
                "name": "stderr",
                "text": [
                  "WARNING:pdfminer.pdfpage:CropBox missing from /Page, defaulting to MediaBox\n"
                ]
              },
              {
                "output_type": "stream",
                "name": "stderr",
                "text": [
                  "WARNING:pdfminer.pdfpage:CropBox missing from /Page, defaulting to MediaBox\n"
                ]
              },
              {
                "output_type": "stream",
                "name": "stderr",
                "text": [
                  "WARNING:pdfminer.pdfpage:CropBox missing from /Page, defaulting to MediaBox\n"
                ]
              },
              {
                "output_type": "stream",
                "name": "stderr",
                "text": [
                  "WARNING:pdfminer.pdfpage:CropBox missing from /Page, defaulting to MediaBox\n"
                ]
              },
              {
                "output_type": "stream",
                "name": "stderr",
                "text": [
                  "WARNING:pdfminer.pdfpage:CropBox missing from /Page, defaulting to MediaBox\n"
                ]
              },
              {
                "output_type": "stream",
                "name": "stderr",
                "text": [
                  "WARNING:pdfminer.pdfpage:CropBox missing from /Page, defaulting to MediaBox\n"
                ]
              },
              {
                "output_type": "stream",
                "name": "stderr",
                "text": [
                  "WARNING:pdfminer.pdfpage:CropBox missing from /Page, defaulting to MediaBox\n"
                ]
              },
              {
                "output_type": "stream",
                "name": "stderr",
                "text": [
                  "WARNING:pdfminer.pdfpage:CropBox missing from /Page, defaulting to MediaBox\n"
                ]
              },
              {
                "output_type": "stream",
                "name": "stderr",
                "text": [
                  "WARNING:pdfminer.pdfpage:CropBox missing from /Page, defaulting to MediaBox\n"
                ]
              },
              {
                "output_type": "stream",
                "name": "stderr",
                "text": [
                  "WARNING:pdfminer.pdfpage:CropBox missing from /Page, defaulting to MediaBox\n"
                ]
              },
              {
                "output_type": "stream",
                "name": "stderr",
                "text": [
                  "WARNING:pdfminer.pdfpage:CropBox missing from /Page, defaulting to MediaBox\n"
                ]
              },
              {
                "output_type": "stream",
                "name": "stderr",
                "text": [
                  "WARNING:pdfminer.pdfpage:CropBox missing from /Page, defaulting to MediaBox\n"
                ]
              },
              {
                "output_type": "stream",
                "name": "stderr",
                "text": [
                  "WARNING:pdfminer.pdfpage:CropBox missing from /Page, defaulting to MediaBox\n"
                ]
              },
              {
                "output_type": "stream",
                "name": "stderr",
                "text": [
                  "WARNING:pdfminer.pdfpage:CropBox missing from /Page, defaulting to MediaBox\n"
                ]
              },
              {
                "output_type": "stream",
                "name": "stderr",
                "text": [
                  "WARNING:pdfminer.pdfpage:CropBox missing from /Page, defaulting to MediaBox\n"
                ]
              },
              {
                "output_type": "stream",
                "name": "stderr",
                "text": [
                  "WARNING:pdfminer.pdfpage:CropBox missing from /Page, defaulting to MediaBox\n"
                ]
              },
              {
                "output_type": "stream",
                "name": "stderr",
                "text": [
                  "WARNING:pdfminer.pdfpage:CropBox missing from /Page, defaulting to MediaBox\n"
                ]
              },
              {
                "output_type": "stream",
                "name": "stderr",
                "text": [
                  "WARNING:pdfminer.pdfpage:CropBox missing from /Page, defaulting to MediaBox\n"
                ]
              },
              {
                "output_type": "stream",
                "name": "stderr",
                "text": [
                  "WARNING:pdfminer.pdfpage:CropBox missing from /Page, defaulting to MediaBox\n"
                ]
              },
              {
                "output_type": "stream",
                "name": "stderr",
                "text": [
                  "WARNING:pdfminer.pdfpage:CropBox missing from /Page, defaulting to MediaBox\n"
                ]
              },
              {
                "output_type": "stream",
                "name": "stderr",
                "text": [
                  "WARNING:pdfminer.pdfpage:CropBox missing from /Page, defaulting to MediaBox\n"
                ]
              },
              {
                "output_type": "stream",
                "name": "stderr",
                "text": [
                  "WARNING:pdfminer.pdfpage:CropBox missing from /Page, defaulting to MediaBox\n"
                ]
              },
              {
                "output_type": "stream",
                "name": "stderr",
                "text": [
                  "WARNING:pdfminer.pdfpage:CropBox missing from /Page, defaulting to MediaBox\n"
                ]
              },
              {
                "output_type": "stream",
                "name": "stderr",
                "text": [
                  "WARNING:pdfminer.pdfpage:CropBox missing from /Page, defaulting to MediaBox\n"
                ]
              },
              {
                "output_type": "stream",
                "name": "stderr",
                "text": [
                  "WARNING:pdfminer.pdfpage:CropBox missing from /Page, defaulting to MediaBox\n"
                ]
              },
              {
                "output_type": "stream",
                "name": "stderr",
                "text": [
                  "WARNING:pdfminer.pdfpage:CropBox missing from /Page, defaulting to MediaBox\n"
                ]
              },
              {
                "output_type": "stream",
                "name": "stderr",
                "text": [
                  "WARNING:pdfminer.pdfpage:CropBox missing from /Page, defaulting to MediaBox\n"
                ]
              },
              {
                "output_type": "stream",
                "name": "stderr",
                "text": [
                  "WARNING:pdfminer.pdfpage:CropBox missing from /Page, defaulting to MediaBox\n"
                ]
              },
              {
                "output_type": "stream",
                "name": "stderr",
                "text": [
                  "WARNING:pdfminer.pdfpage:CropBox missing from /Page, defaulting to MediaBox\n"
                ]
              },
              {
                "output_type": "stream",
                "name": "stderr",
                "text": [
                  "WARNING:pdfminer.pdfpage:CropBox missing from /Page, defaulting to MediaBox\n"
                ]
              },
              {
                "output_type": "stream",
                "name": "stderr",
                "text": [
                  "WARNING:pdfminer.pdfpage:CropBox missing from /Page, defaulting to MediaBox\n"
                ]
              },
              {
                "output_type": "stream",
                "name": "stderr",
                "text": [
                  "WARNING:pdfminer.pdfpage:CropBox missing from /Page, defaulting to MediaBox\n"
                ]
              },
              {
                "output_type": "stream",
                "name": "stderr",
                "text": [
                  "WARNING:pdfminer.pdfpage:CropBox missing from /Page, defaulting to MediaBox\n"
                ]
              },
              {
                "output_type": "stream",
                "name": "stderr",
                "text": [
                  "WARNING:pdfminer.pdfpage:CropBox missing from /Page, defaulting to MediaBox\n"
                ]
              },
              {
                "output_type": "stream",
                "name": "stderr",
                "text": [
                  "WARNING:pdfminer.pdfpage:CropBox missing from /Page, defaulting to MediaBox\n"
                ]
              },
              {
                "output_type": "stream",
                "name": "stderr",
                "text": [
                  "WARNING:pdfminer.pdfpage:CropBox missing from /Page, defaulting to MediaBox\n"
                ]
              },
              {
                "output_type": "stream",
                "name": "stderr",
                "text": [
                  "WARNING:pdfminer.pdfpage:CropBox missing from /Page, defaulting to MediaBox\n"
                ]
              },
              {
                "output_type": "stream",
                "name": "stderr",
                "text": [
                  "WARNING:pdfminer.pdfpage:CropBox missing from /Page, defaulting to MediaBox\n"
                ]
              },
              {
                "output_type": "stream",
                "name": "stderr",
                "text": [
                  "WARNING:pdfminer.pdfpage:CropBox missing from /Page, defaulting to MediaBox\n"
                ]
              },
              {
                "output_type": "stream",
                "name": "stderr",
                "text": [
                  "WARNING:pdfminer.pdfpage:CropBox missing from /Page, defaulting to MediaBox\n"
                ]
              },
              {
                "output_type": "stream",
                "name": "stderr",
                "text": [
                  "WARNING:pdfminer.pdfpage:CropBox missing from /Page, defaulting to MediaBox\n"
                ]
              },
              {
                "output_type": "stream",
                "name": "stderr",
                "text": [
                  "WARNING:pdfminer.pdfpage:CropBox missing from /Page, defaulting to MediaBox\n"
                ]
              },
              {
                "output_type": "stream",
                "name": "stderr",
                "text": [
                  "WARNING:pdfminer.pdfpage:CropBox missing from /Page, defaulting to MediaBox\n"
                ]
              },
              {
                "output_type": "stream",
                "name": "stderr",
                "text": [
                  "WARNING:pdfminer.pdfpage:CropBox missing from /Page, defaulting to MediaBox\n"
                ]
              },
              {
                "output_type": "stream",
                "name": "stderr",
                "text": [
                  "WARNING:pdfminer.pdfpage:CropBox missing from /Page, defaulting to MediaBox\n"
                ]
              },
              {
                "output_type": "stream",
                "name": "stderr",
                "text": [
                  "WARNING:pdfminer.pdfpage:CropBox missing from /Page, defaulting to MediaBox\n"
                ]
              },
              {
                "output_type": "stream",
                "name": "stderr",
                "text": [
                  "WARNING:pdfminer.pdfpage:CropBox missing from /Page, defaulting to MediaBox\n"
                ]
              },
              {
                "output_type": "stream",
                "name": "stderr",
                "text": [
                  "WARNING:pdfminer.pdfpage:CropBox missing from /Page, defaulting to MediaBox\n"
                ]
              },
              {
                "output_type": "stream",
                "name": "stderr",
                "text": [
                  "WARNING:pdfminer.pdfpage:CropBox missing from /Page, defaulting to MediaBox\n"
                ]
              },
              {
                "output_type": "stream",
                "name": "stderr",
                "text": [
                  "WARNING:pdfminer.pdfpage:CropBox missing from /Page, defaulting to MediaBox\n"
                ]
              },
              {
                "output_type": "stream",
                "name": "stderr",
                "text": [
                  "WARNING:pdfminer.pdfpage:CropBox missing from /Page, defaulting to MediaBox\n"
                ]
              },
              {
                "output_type": "stream",
                "name": "stderr",
                "text": [
                  "WARNING:pdfminer.pdfpage:CropBox missing from /Page, defaulting to MediaBox\n"
                ]
              },
              {
                "output_type": "stream",
                "name": "stderr",
                "text": [
                  "WARNING:pdfminer.pdfpage:CropBox missing from /Page, defaulting to MediaBox\n"
                ]
              },
              {
                "output_type": "stream",
                "name": "stderr",
                "text": [
                  "WARNING:pdfminer.pdfpage:CropBox missing from /Page, defaulting to MediaBox\n"
                ]
              },
              {
                "output_type": "stream",
                "name": "stderr",
                "text": [
                  "WARNING:pdfminer.pdfpage:CropBox missing from /Page, defaulting to MediaBox\n"
                ]
              },
              {
                "output_type": "stream",
                "name": "stderr",
                "text": [
                  "WARNING:pdfminer.pdfpage:CropBox missing from /Page, defaulting to MediaBox\n"
                ]
              },
              {
                "output_type": "stream",
                "name": "stderr",
                "text": [
                  "WARNING:pdfminer.pdfpage:CropBox missing from /Page, defaulting to MediaBox\n"
                ]
              },
              {
                "output_type": "stream",
                "name": "stderr",
                "text": [
                  "WARNING:pdfminer.pdfpage:CropBox missing from /Page, defaulting to MediaBox\n"
                ]
              },
              {
                "output_type": "stream",
                "name": "stderr",
                "text": [
                  "WARNING:pdfminer.pdfpage:CropBox missing from /Page, defaulting to MediaBox\n"
                ]
              },
              {
                "output_type": "stream",
                "name": "stderr",
                "text": [
                  "WARNING:pdfminer.pdfpage:CropBox missing from /Page, defaulting to MediaBox\n"
                ]
              },
              {
                "output_type": "stream",
                "name": "stderr",
                "text": [
                  "WARNING:pdfminer.pdfpage:CropBox missing from /Page, defaulting to MediaBox\n"
                ]
              },
              {
                "output_type": "stream",
                "name": "stderr",
                "text": [
                  "WARNING:pdfminer.pdfpage:CropBox missing from /Page, defaulting to MediaBox\n"
                ]
              },
              {
                "output_type": "stream",
                "name": "stderr",
                "text": [
                  "WARNING:pdfminer.pdfpage:CropBox missing from /Page, defaulting to MediaBox\n"
                ]
              },
              {
                "output_type": "stream",
                "name": "stderr",
                "text": [
                  "WARNING:pdfminer.pdfpage:CropBox missing from /Page, defaulting to MediaBox\n"
                ]
              },
              {
                "output_type": "stream",
                "name": "stderr",
                "text": [
                  "WARNING:pdfminer.pdfpage:CropBox missing from /Page, defaulting to MediaBox\n"
                ]
              },
              {
                "output_type": "stream",
                "name": "stderr",
                "text": [
                  "WARNING:pdfminer.pdfpage:CropBox missing from /Page, defaulting to MediaBox\n"
                ]
              },
              {
                "output_type": "stream",
                "name": "stderr",
                "text": [
                  "WARNING:pdfminer.pdfpage:CropBox missing from /Page, defaulting to MediaBox\n"
                ]
              },
              {
                "output_type": "stream",
                "name": "stderr",
                "text": [
                  "WARNING:pdfminer.pdfpage:CropBox missing from /Page, defaulting to MediaBox\n"
                ]
              },
              {
                "output_type": "stream",
                "name": "stderr",
                "text": [
                  "WARNING:pdfminer.pdfpage:CropBox missing from /Page, defaulting to MediaBox\n"
                ]
              },
              {
                "output_type": "stream",
                "name": "stderr",
                "text": [
                  "WARNING:pdfminer.pdfpage:CropBox missing from /Page, defaulting to MediaBox\n"
                ]
              },
              {
                "output_type": "stream",
                "name": "stderr",
                "text": [
                  "WARNING:pdfminer.pdfpage:CropBox missing from /Page, defaulting to MediaBox\n"
                ]
              },
              {
                "output_type": "stream",
                "name": "stderr",
                "text": [
                  "WARNING:pdfminer.pdfpage:CropBox missing from /Page, defaulting to MediaBox\n"
                ]
              },
              {
                "output_type": "stream",
                "name": "stderr",
                "text": [
                  "WARNING:pdfminer.pdfpage:CropBox missing from /Page, defaulting to MediaBox\n"
                ]
              },
              {
                "output_type": "stream",
                "name": "stderr",
                "text": [
                  "WARNING:pdfminer.pdfpage:CropBox missing from /Page, defaulting to MediaBox\n"
                ]
              },
              {
                "output_type": "stream",
                "name": "stderr",
                "text": [
                  "WARNING:pdfminer.pdfpage:CropBox missing from /Page, defaulting to MediaBox\n"
                ]
              },
              {
                "output_type": "stream",
                "name": "stderr",
                "text": [
                  "WARNING:pdfminer.pdfpage:CropBox missing from /Page, defaulting to MediaBox\n"
                ]
              },
              {
                "output_type": "stream",
                "name": "stderr",
                "text": [
                  "WARNING:pdfminer.pdfpage:CropBox missing from /Page, defaulting to MediaBox\n"
                ]
              },
              {
                "output_type": "stream",
                "name": "stderr",
                "text": [
                  "WARNING:pdfminer.pdfpage:CropBox missing from /Page, defaulting to MediaBox\n"
                ]
              },
              {
                "output_type": "stream",
                "name": "stderr",
                "text": [
                  "WARNING:pdfminer.pdfpage:CropBox missing from /Page, defaulting to MediaBox\n"
                ]
              },
              {
                "output_type": "stream",
                "name": "stderr",
                "text": [
                  "WARNING:pdfminer.pdfpage:CropBox missing from /Page, defaulting to MediaBox\n"
                ]
              },
              {
                "output_type": "stream",
                "name": "stderr",
                "text": [
                  "WARNING:pdfminer.pdfpage:CropBox missing from /Page, defaulting to MediaBox\n"
                ]
              },
              {
                "output_type": "stream",
                "name": "stderr",
                "text": [
                  "WARNING:pdfminer.pdfpage:CropBox missing from /Page, defaulting to MediaBox\n"
                ]
              },
              {
                "output_type": "stream",
                "name": "stderr",
                "text": [
                  "WARNING:pdfminer.pdfpage:CropBox missing from /Page, defaulting to MediaBox\n"
                ]
              },
              {
                "output_type": "stream",
                "name": "stderr",
                "text": [
                  "WARNING:pdfminer.pdfpage:CropBox missing from /Page, defaulting to MediaBox\n"
                ]
              },
              {
                "output_type": "stream",
                "name": "stderr",
                "text": [
                  "WARNING:pdfminer.pdfpage:CropBox missing from /Page, defaulting to MediaBox\n"
                ]
              },
              {
                "output_type": "stream",
                "name": "stderr",
                "text": [
                  "WARNING:pdfminer.pdfpage:CropBox missing from /Page, defaulting to MediaBox\n"
                ]
              },
              {
                "output_type": "stream",
                "name": "stderr",
                "text": [
                  "WARNING:pdfminer.pdfpage:CropBox missing from /Page, defaulting to MediaBox\n"
                ]
              },
              {
                "output_type": "stream",
                "name": "stderr",
                "text": [
                  "WARNING:pdfminer.pdfpage:CropBox missing from /Page, defaulting to MediaBox\n"
                ]
              },
              {
                "output_type": "stream",
                "name": "stderr",
                "text": [
                  "WARNING:pdfminer.pdfpage:CropBox missing from /Page, defaulting to MediaBox\n"
                ]
              },
              {
                "output_type": "stream",
                "name": "stderr",
                "text": [
                  "WARNING:pdfminer.pdfpage:CropBox missing from /Page, defaulting to MediaBox\n"
                ]
              },
              {
                "output_type": "stream",
                "name": "stderr",
                "text": [
                  "WARNING:pdfminer.pdfpage:CropBox missing from /Page, defaulting to MediaBox\n"
                ]
              },
              {
                "output_type": "stream",
                "name": "stderr",
                "text": [
                  "WARNING:pdfminer.pdfpage:CropBox missing from /Page, defaulting to MediaBox\n"
                ]
              },
              {
                "output_type": "stream",
                "name": "stderr",
                "text": [
                  "WARNING:pdfminer.pdfpage:CropBox missing from /Page, defaulting to MediaBox\n"
                ]
              },
              {
                "output_type": "stream",
                "name": "stderr",
                "text": [
                  "WARNING:pdfminer.pdfpage:CropBox missing from /Page, defaulting to MediaBox\n"
                ]
              },
              {
                "output_type": "stream",
                "name": "stderr",
                "text": [
                  "WARNING:pdfminer.pdfpage:CropBox missing from /Page, defaulting to MediaBox\n"
                ]
              },
              {
                "output_type": "stream",
                "name": "stderr",
                "text": [
                  "WARNING:pdfminer.pdfpage:CropBox missing from /Page, defaulting to MediaBox\n"
                ]
              },
              {
                "output_type": "stream",
                "name": "stderr",
                "text": [
                  "WARNING:pdfminer.pdfpage:CropBox missing from /Page, defaulting to MediaBox\n"
                ]
              },
              {
                "output_type": "stream",
                "name": "stderr",
                "text": [
                  "WARNING:pdfminer.pdfpage:CropBox missing from /Page, defaulting to MediaBox\n"
                ]
              },
              {
                "output_type": "stream",
                "name": "stderr",
                "text": [
                  "WARNING:pdfminer.pdfpage:CropBox missing from /Page, defaulting to MediaBox\n"
                ]
              },
              {
                "output_type": "stream",
                "name": "stderr",
                "text": [
                  "WARNING:pdfminer.pdfpage:CropBox missing from /Page, defaulting to MediaBox\n"
                ]
              },
              {
                "output_type": "stream",
                "name": "stderr",
                "text": [
                  "WARNING:pdfminer.pdfpage:CropBox missing from /Page, defaulting to MediaBox\n"
                ]
              },
              {
                "output_type": "stream",
                "name": "stderr",
                "text": [
                  "WARNING:pdfminer.pdfpage:CropBox missing from /Page, defaulting to MediaBox\n"
                ]
              },
              {
                "output_type": "stream",
                "name": "stderr",
                "text": [
                  "WARNING:pdfminer.pdfpage:CropBox missing from /Page, defaulting to MediaBox\n"
                ]
              },
              {
                "output_type": "stream",
                "name": "stderr",
                "text": [
                  "WARNING:pdfminer.pdfpage:CropBox missing from /Page, defaulting to MediaBox\n"
                ]
              },
              {
                "output_type": "stream",
                "name": "stderr",
                "text": [
                  "WARNING:pdfminer.pdfpage:CropBox missing from /Page, defaulting to MediaBox\n"
                ]
              },
              {
                "output_type": "stream",
                "name": "stderr",
                "text": [
                  "WARNING:pdfminer.pdfpage:CropBox missing from /Page, defaulting to MediaBox\n"
                ]
              },
              {
                "output_type": "stream",
                "name": "stderr",
                "text": [
                  "WARNING:pdfminer.pdfpage:CropBox missing from /Page, defaulting to MediaBox\n"
                ]
              },
              {
                "output_type": "stream",
                "name": "stderr",
                "text": [
                  "WARNING:pdfminer.pdfpage:CropBox missing from /Page, defaulting to MediaBox\n"
                ]
              },
              {
                "output_type": "stream",
                "name": "stderr",
                "text": [
                  "WARNING:pdfminer.pdfpage:CropBox missing from /Page, defaulting to MediaBox\n"
                ]
              },
              {
                "output_type": "stream",
                "name": "stderr",
                "text": [
                  "WARNING:pdfminer.pdfpage:CropBox missing from /Page, defaulting to MediaBox\n"
                ]
              },
              {
                "output_type": "stream",
                "name": "stderr",
                "text": [
                  "WARNING:pdfminer.pdfpage:CropBox missing from /Page, defaulting to MediaBox\n"
                ]
              },
              {
                "output_type": "stream",
                "name": "stderr",
                "text": [
                  "WARNING:pdfminer.pdfpage:CropBox missing from /Page, defaulting to MediaBox\n"
                ]
              },
              {
                "output_type": "stream",
                "name": "stderr",
                "text": [
                  "WARNING:pdfminer.pdfpage:CropBox missing from /Page, defaulting to MediaBox\n"
                ]
              },
              {
                "output_type": "stream",
                "name": "stderr",
                "text": [
                  "WARNING:pdfminer.pdfpage:CropBox missing from /Page, defaulting to MediaBox\n"
                ]
              },
              {
                "output_type": "stream",
                "name": "stderr",
                "text": [
                  "WARNING:pdfminer.pdfpage:CropBox missing from /Page, defaulting to MediaBox\n"
                ]
              },
              {
                "output_type": "stream",
                "name": "stderr",
                "text": [
                  "WARNING:pdfminer.pdfpage:CropBox missing from /Page, defaulting to MediaBox\n"
                ]
              },
              {
                "output_type": "stream",
                "name": "stderr",
                "text": [
                  "WARNING:pdfminer.pdfpage:CropBox missing from /Page, defaulting to MediaBox\n"
                ]
              },
              {
                "output_type": "stream",
                "name": "stderr",
                "text": [
                  "WARNING:pdfminer.pdfpage:CropBox missing from /Page, defaulting to MediaBox\n"
                ]
              },
              {
                "output_type": "stream",
                "name": "stderr",
                "text": [
                  "WARNING:pdfminer.pdfpage:CropBox missing from /Page, defaulting to MediaBox\n"
                ]
              },
              {
                "output_type": "stream",
                "name": "stderr",
                "text": [
                  "WARNING:pdfminer.pdfpage:CropBox missing from /Page, defaulting to MediaBox\n"
                ]
              },
              {
                "output_type": "stream",
                "name": "stderr",
                "text": [
                  "WARNING:pdfminer.pdfpage:CropBox missing from /Page, defaulting to MediaBox\n"
                ]
              },
              {
                "output_type": "stream",
                "name": "stderr",
                "text": [
                  "WARNING:pdfminer.pdfpage:CropBox missing from /Page, defaulting to MediaBox\n"
                ]
              },
              {
                "output_type": "stream",
                "name": "stderr",
                "text": [
                  "WARNING:pdfminer.pdfpage:CropBox missing from /Page, defaulting to MediaBox\n"
                ]
              },
              {
                "output_type": "stream",
                "name": "stderr",
                "text": [
                  "WARNING:pdfminer.pdfpage:CropBox missing from /Page, defaulting to MediaBox\n"
                ]
              },
              {
                "output_type": "stream",
                "name": "stderr",
                "text": [
                  "WARNING:pdfminer.pdfpage:CropBox missing from /Page, defaulting to MediaBox\n"
                ]
              },
              {
                "output_type": "stream",
                "name": "stderr",
                "text": [
                  "WARNING:pdfminer.pdfpage:CropBox missing from /Page, defaulting to MediaBox\n"
                ]
              },
              {
                "output_type": "stream",
                "name": "stderr",
                "text": [
                  "WARNING:pdfminer.pdfpage:CropBox missing from /Page, defaulting to MediaBox\n"
                ]
              },
              {
                "output_type": "stream",
                "name": "stderr",
                "text": [
                  "WARNING:pdfminer.pdfpage:CropBox missing from /Page, defaulting to MediaBox\n"
                ]
              },
              {
                "output_type": "stream",
                "name": "stderr",
                "text": [
                  "WARNING:pdfminer.pdfpage:CropBox missing from /Page, defaulting to MediaBox\n"
                ]
              },
              {
                "output_type": "stream",
                "name": "stderr",
                "text": [
                  "WARNING:pdfminer.pdfpage:CropBox missing from /Page, defaulting to MediaBox\n"
                ]
              },
              {
                "output_type": "stream",
                "name": "stderr",
                "text": [
                  "WARNING:pdfminer.pdfpage:CropBox missing from /Page, defaulting to MediaBox\n"
                ]
              },
              {
                "output_type": "stream",
                "name": "stderr",
                "text": [
                  "WARNING:pdfminer.pdfpage:CropBox missing from /Page, defaulting to MediaBox\n"
                ]
              },
              {
                "output_type": "stream",
                "name": "stderr",
                "text": [
                  "WARNING:pdfminer.pdfpage:CropBox missing from /Page, defaulting to MediaBox\n"
                ]
              },
              {
                "output_type": "stream",
                "name": "stderr",
                "text": [
                  "WARNING:pdfminer.pdfpage:CropBox missing from /Page, defaulting to MediaBox\n"
                ]
              },
              {
                "output_type": "stream",
                "name": "stderr",
                "text": [
                  "WARNING:pdfminer.pdfpage:CropBox missing from /Page, defaulting to MediaBox\n"
                ]
              },
              {
                "output_type": "stream",
                "name": "stderr",
                "text": [
                  "WARNING:pdfminer.pdfpage:CropBox missing from /Page, defaulting to MediaBox\n"
                ]
              },
              {
                "output_type": "stream",
                "name": "stderr",
                "text": [
                  "WARNING:pdfminer.pdfpage:CropBox missing from /Page, defaulting to MediaBox\n"
                ]
              },
              {
                "output_type": "stream",
                "name": "stderr",
                "text": [
                  "WARNING:pdfminer.pdfpage:CropBox missing from /Page, defaulting to MediaBox\n"
                ]
              },
              {
                "output_type": "stream",
                "name": "stderr",
                "text": [
                  "WARNING:pdfminer.pdfpage:CropBox missing from /Page, defaulting to MediaBox\n"
                ]
              },
              {
                "output_type": "stream",
                "name": "stderr",
                "text": [
                  "WARNING:pdfminer.pdfpage:CropBox missing from /Page, defaulting to MediaBox\n"
                ]
              },
              {
                "output_type": "stream",
                "name": "stderr",
                "text": [
                  "WARNING:pdfminer.pdfpage:CropBox missing from /Page, defaulting to MediaBox\n"
                ]
              },
              {
                "output_type": "stream",
                "name": "stderr",
                "text": [
                  "WARNING:pdfminer.pdfpage:CropBox missing from /Page, defaulting to MediaBox\n"
                ]
              },
              {
                "output_type": "stream",
                "name": "stderr",
                "text": [
                  "WARNING:pdfminer.pdfpage:CropBox missing from /Page, defaulting to MediaBox\n"
                ]
              },
              {
                "output_type": "stream",
                "name": "stderr",
                "text": [
                  "WARNING:pdfminer.pdfpage:CropBox missing from /Page, defaulting to MediaBox\n"
                ]
              },
              {
                "output_type": "stream",
                "name": "stderr",
                "text": [
                  "WARNING:pdfminer.pdfpage:CropBox missing from /Page, defaulting to MediaBox\n"
                ]
              },
              {
                "output_type": "stream",
                "name": "stderr",
                "text": [
                  "WARNING:pdfminer.pdfpage:CropBox missing from /Page, defaulting to MediaBox\n"
                ]
              },
              {
                "output_type": "stream",
                "name": "stderr",
                "text": [
                  "WARNING:pdfminer.pdfpage:CropBox missing from /Page, defaulting to MediaBox\n"
                ]
              },
              {
                "output_type": "stream",
                "name": "stderr",
                "text": [
                  "WARNING:pdfminer.pdfpage:CropBox missing from /Page, defaulting to MediaBox\n"
                ]
              },
              {
                "output_type": "stream",
                "name": "stderr",
                "text": [
                  "WARNING:pdfminer.pdfpage:CropBox missing from /Page, defaulting to MediaBox\n"
                ]
              },
              {
                "output_type": "stream",
                "name": "stderr",
                "text": [
                  "WARNING:pdfminer.pdfpage:CropBox missing from /Page, defaulting to MediaBox\n"
                ]
              },
              {
                "output_type": "stream",
                "name": "stderr",
                "text": [
                  "WARNING:pdfminer.pdfpage:CropBox missing from /Page, defaulting to MediaBox\n"
                ]
              },
              {
                "output_type": "stream",
                "name": "stderr",
                "text": [
                  "WARNING:pdfminer.pdfpage:CropBox missing from /Page, defaulting to MediaBox\n"
                ]
              },
              {
                "output_type": "stream",
                "name": "stderr",
                "text": [
                  "WARNING:pdfminer.pdfpage:CropBox missing from /Page, defaulting to MediaBox\n"
                ]
              },
              {
                "output_type": "stream",
                "name": "stderr",
                "text": [
                  "WARNING:pdfminer.pdfpage:CropBox missing from /Page, defaulting to MediaBox\n"
                ]
              },
              {
                "output_type": "stream",
                "name": "stderr",
                "text": [
                  "WARNING:pdfminer.pdfpage:CropBox missing from /Page, defaulting to MediaBox\n"
                ]
              },
              {
                "output_type": "stream",
                "name": "stderr",
                "text": [
                  "WARNING:pdfminer.pdfpage:CropBox missing from /Page, defaulting to MediaBox\n"
                ]
              },
              {
                "output_type": "stream",
                "name": "stderr",
                "text": [
                  "WARNING:pdfminer.pdfpage:CropBox missing from /Page, defaulting to MediaBox\n"
                ]
              },
              {
                "output_type": "stream",
                "name": "stderr",
                "text": [
                  "WARNING:pdfminer.pdfpage:CropBox missing from /Page, defaulting to MediaBox\n"
                ]
              },
              {
                "output_type": "stream",
                "name": "stderr",
                "text": [
                  "WARNING:pdfminer.pdfpage:CropBox missing from /Page, defaulting to MediaBox\n"
                ]
              },
              {
                "output_type": "stream",
                "name": "stderr",
                "text": [
                  "WARNING:pdfminer.pdfpage:CropBox missing from /Page, defaulting to MediaBox\n"
                ]
              },
              {
                "output_type": "stream",
                "name": "stderr",
                "text": [
                  "WARNING:pdfminer.pdfpage:CropBox missing from /Page, defaulting to MediaBox\n"
                ]
              },
              {
                "output_type": "stream",
                "name": "stderr",
                "text": [
                  "WARNING:pdfminer.pdfpage:CropBox missing from /Page, defaulting to MediaBox\n"
                ]
              },
              {
                "output_type": "stream",
                "name": "stderr",
                "text": [
                  "WARNING:pdfminer.pdfpage:CropBox missing from /Page, defaulting to MediaBox\n"
                ]
              },
              {
                "output_type": "stream",
                "name": "stderr",
                "text": [
                  "WARNING:pdfminer.pdfpage:CropBox missing from /Page, defaulting to MediaBox\n"
                ]
              },
              {
                "output_type": "stream",
                "name": "stderr",
                "text": [
                  "WARNING:pdfminer.pdfpage:CropBox missing from /Page, defaulting to MediaBox\n"
                ]
              },
              {
                "output_type": "stream",
                "name": "stderr",
                "text": [
                  "WARNING:pdfminer.pdfpage:CropBox missing from /Page, defaulting to MediaBox\n"
                ]
              },
              {
                "output_type": "stream",
                "name": "stderr",
                "text": [
                  "WARNING:pdfminer.pdfpage:CropBox missing from /Page, defaulting to MediaBox\n"
                ]
              },
              {
                "output_type": "stream",
                "name": "stderr",
                "text": [
                  "WARNING:pdfminer.pdfpage:CropBox missing from /Page, defaulting to MediaBox\n"
                ]
              },
              {
                "output_type": "stream",
                "name": "stderr",
                "text": [
                  "WARNING:pdfminer.pdfpage:CropBox missing from /Page, defaulting to MediaBox\n"
                ]
              },
              {
                "output_type": "stream",
                "name": "stderr",
                "text": [
                  "WARNING:pdfminer.pdfpage:CropBox missing from /Page, defaulting to MediaBox\n"
                ]
              },
              {
                "output_type": "stream",
                "name": "stderr",
                "text": [
                  "WARNING:pdfminer.pdfpage:CropBox missing from /Page, defaulting to MediaBox\n"
                ]
              },
              {
                "output_type": "stream",
                "name": "stderr",
                "text": [
                  "WARNING:pdfminer.pdfpage:CropBox missing from /Page, defaulting to MediaBox\n"
                ]
              },
              {
                "output_type": "stream",
                "name": "stderr",
                "text": [
                  "WARNING:pdfminer.pdfpage:CropBox missing from /Page, defaulting to MediaBox\n"
                ]
              },
              {
                "output_type": "stream",
                "name": "stderr",
                "text": [
                  "WARNING:pdfminer.pdfpage:CropBox missing from /Page, defaulting to MediaBox\n"
                ]
              },
              {
                "output_type": "stream",
                "name": "stderr",
                "text": [
                  "WARNING:pdfminer.pdfpage:CropBox missing from /Page, defaulting to MediaBox\n"
                ]
              },
              {
                "output_type": "stream",
                "name": "stderr",
                "text": [
                  "WARNING:pdfminer.pdfpage:CropBox missing from /Page, defaulting to MediaBox\n"
                ]
              },
              {
                "output_type": "stream",
                "name": "stderr",
                "text": [
                  "WARNING:pdfminer.pdfpage:CropBox missing from /Page, defaulting to MediaBox\n"
                ]
              },
              {
                "output_type": "stream",
                "name": "stderr",
                "text": [
                  "WARNING:pdfminer.pdfpage:CropBox missing from /Page, defaulting to MediaBox\n"
                ]
              },
              {
                "output_type": "stream",
                "name": "stderr",
                "text": [
                  "WARNING:pdfminer.pdfpage:CropBox missing from /Page, defaulting to MediaBox\n"
                ]
              },
              {
                "output_type": "stream",
                "name": "stderr",
                "text": [
                  "WARNING:pdfminer.pdfpage:CropBox missing from /Page, defaulting to MediaBox\n"
                ]
              },
              {
                "output_type": "stream",
                "name": "stderr",
                "text": [
                  "WARNING:pdfminer.pdfpage:CropBox missing from /Page, defaulting to MediaBox\n"
                ]
              },
              {
                "output_type": "stream",
                "name": "stderr",
                "text": [
                  "WARNING:pdfminer.pdfpage:CropBox missing from /Page, defaulting to MediaBox\n"
                ]
              },
              {
                "output_type": "stream",
                "name": "stderr",
                "text": [
                  "WARNING:pdfminer.pdfpage:CropBox missing from /Page, defaulting to MediaBox\n"
                ]
              },
              {
                "output_type": "stream",
                "name": "stderr",
                "text": [
                  "WARNING:pdfminer.pdfpage:CropBox missing from /Page, defaulting to MediaBox\n"
                ]
              },
              {
                "output_type": "stream",
                "name": "stderr",
                "text": [
                  "WARNING:pdfminer.pdfpage:CropBox missing from /Page, defaulting to MediaBox\n"
                ]
              },
              {
                "output_type": "stream",
                "name": "stderr",
                "text": [
                  "WARNING:pdfminer.pdfpage:CropBox missing from /Page, defaulting to MediaBox\n"
                ]
              },
              {
                "output_type": "stream",
                "name": "stderr",
                "text": [
                  "WARNING:pdfminer.pdfpage:CropBox missing from /Page, defaulting to MediaBox\n"
                ]
              },
              {
                "output_type": "stream",
                "name": "stderr",
                "text": [
                  "WARNING:pdfminer.pdfpage:CropBox missing from /Page, defaulting to MediaBox\n"
                ]
              },
              {
                "output_type": "stream",
                "name": "stderr",
                "text": [
                  "WARNING:pdfminer.pdfpage:CropBox missing from /Page, defaulting to MediaBox\n"
                ]
              },
              {
                "output_type": "stream",
                "name": "stderr",
                "text": [
                  "WARNING:pdfminer.pdfpage:CropBox missing from /Page, defaulting to MediaBox\n"
                ]
              },
              {
                "output_type": "stream",
                "name": "stderr",
                "text": [
                  "WARNING:pdfminer.pdfpage:CropBox missing from /Page, defaulting to MediaBox\n"
                ]
              },
              {
                "output_type": "stream",
                "name": "stderr",
                "text": [
                  "WARNING:pdfminer.pdfpage:CropBox missing from /Page, defaulting to MediaBox\n"
                ]
              },
              {
                "output_type": "stream",
                "name": "stderr",
                "text": [
                  "WARNING:pdfminer.pdfpage:CropBox missing from /Page, defaulting to MediaBox\n"
                ]
              },
              {
                "output_type": "stream",
                "name": "stderr",
                "text": [
                  "WARNING:pdfminer.pdfpage:CropBox missing from /Page, defaulting to MediaBox\n"
                ]
              },
              {
                "output_type": "stream",
                "name": "stderr",
                "text": [
                  "WARNING:pdfminer.pdfpage:CropBox missing from /Page, defaulting to MediaBox\n"
                ]
              },
              {
                "output_type": "stream",
                "name": "stderr",
                "text": [
                  "WARNING:pdfminer.pdfpage:CropBox missing from /Page, defaulting to MediaBox\n"
                ]
              },
              {
                "output_type": "stream",
                "name": "stderr",
                "text": [
                  "WARNING:pdfminer.pdfpage:CropBox missing from /Page, defaulting to MediaBox\n"
                ]
              },
              {
                "output_type": "stream",
                "name": "stderr",
                "text": [
                  "WARNING:pdfminer.pdfpage:CropBox missing from /Page, defaulting to MediaBox\n"
                ]
              },
              {
                "output_type": "stream",
                "name": "stderr",
                "text": [
                  "WARNING:pdfminer.pdfpage:CropBox missing from /Page, defaulting to MediaBox\n"
                ]
              },
              {
                "output_type": "stream",
                "name": "stderr",
                "text": [
                  "WARNING:pdfminer.pdfpage:CropBox missing from /Page, defaulting to MediaBox\n"
                ]
              },
              {
                "output_type": "stream",
                "name": "stderr",
                "text": [
                  "WARNING:pdfminer.pdfpage:CropBox missing from /Page, defaulting to MediaBox\n"
                ]
              },
              {
                "output_type": "stream",
                "name": "stderr",
                "text": [
                  "WARNING:pdfminer.pdfpage:CropBox missing from /Page, defaulting to MediaBox\n"
                ]
              },
              {
                "output_type": "stream",
                "name": "stderr",
                "text": [
                  "WARNING:pdfminer.pdfpage:CropBox missing from /Page, defaulting to MediaBox\n"
                ]
              },
              {
                "output_type": "stream",
                "name": "stderr",
                "text": [
                  "WARNING:pdfminer.pdfpage:CropBox missing from /Page, defaulting to MediaBox\n"
                ]
              },
              {
                "output_type": "stream",
                "name": "stderr",
                "text": [
                  "WARNING:pdfminer.pdfpage:CropBox missing from /Page, defaulting to MediaBox\n"
                ]
              },
              {
                "output_type": "stream",
                "name": "stderr",
                "text": [
                  "WARNING:pdfminer.pdfpage:CropBox missing from /Page, defaulting to MediaBox\n"
                ]
              },
              {
                "output_type": "stream",
                "name": "stderr",
                "text": [
                  "WARNING:pdfminer.pdfpage:CropBox missing from /Page, defaulting to MediaBox\n"
                ]
              },
              {
                "output_type": "stream",
                "name": "stderr",
                "text": [
                  "WARNING:pdfminer.pdfpage:CropBox missing from /Page, defaulting to MediaBox\n"
                ]
              },
              {
                "output_type": "stream",
                "name": "stderr",
                "text": [
                  "WARNING:pdfminer.pdfpage:CropBox missing from /Page, defaulting to MediaBox\n"
                ]
              },
              {
                "output_type": "stream",
                "name": "stderr",
                "text": [
                  "WARNING:pdfminer.pdfpage:CropBox missing from /Page, defaulting to MediaBox\n"
                ]
              },
              {
                "output_type": "stream",
                "name": "stderr",
                "text": [
                  "WARNING:pdfminer.pdfpage:CropBox missing from /Page, defaulting to MediaBox\n"
                ]
              },
              {
                "output_type": "stream",
                "name": "stderr",
                "text": [
                  "WARNING:pdfminer.pdfpage:CropBox missing from /Page, defaulting to MediaBox\n"
                ]
              },
              {
                "output_type": "stream",
                "name": "stderr",
                "text": [
                  "WARNING:pdfminer.pdfpage:CropBox missing from /Page, defaulting to MediaBox\n"
                ]
              },
              {
                "output_type": "stream",
                "name": "stderr",
                "text": [
                  "WARNING:pdfminer.pdfpage:CropBox missing from /Page, defaulting to MediaBox\n"
                ]
              },
              {
                "output_type": "stream",
                "name": "stderr",
                "text": [
                  "WARNING:pdfminer.pdfpage:CropBox missing from /Page, defaulting to MediaBox\n"
                ]
              },
              {
                "output_type": "stream",
                "name": "stderr",
                "text": [
                  "WARNING:pdfminer.pdfpage:CropBox missing from /Page, defaulting to MediaBox\n"
                ]
              },
              {
                "output_type": "stream",
                "name": "stderr",
                "text": [
                  "WARNING:pdfminer.pdfpage:CropBox missing from /Page, defaulting to MediaBox\n"
                ]
              },
              {
                "output_type": "stream",
                "name": "stderr",
                "text": [
                  "WARNING:pdfminer.pdfpage:CropBox missing from /Page, defaulting to MediaBox\n"
                ]
              },
              {
                "output_type": "stream",
                "name": "stderr",
                "text": [
                  "WARNING:pdfminer.pdfpage:CropBox missing from /Page, defaulting to MediaBox\n"
                ]
              },
              {
                "output_type": "stream",
                "name": "stderr",
                "text": [
                  "WARNING:pdfminer.pdfpage:CropBox missing from /Page, defaulting to MediaBox\n"
                ]
              },
              {
                "output_type": "stream",
                "name": "stderr",
                "text": [
                  "WARNING:pdfminer.pdfpage:CropBox missing from /Page, defaulting to MediaBox\n"
                ]
              },
              {
                "output_type": "stream",
                "name": "stderr",
                "text": [
                  "WARNING:pdfminer.pdfpage:CropBox missing from /Page, defaulting to MediaBox\n"
                ]
              },
              {
                "output_type": "stream",
                "name": "stderr",
                "text": [
                  "WARNING:pdfminer.pdfpage:CropBox missing from /Page, defaulting to MediaBox\n"
                ]
              },
              {
                "output_type": "stream",
                "name": "stderr",
                "text": [
                  "WARNING:pdfminer.pdfpage:CropBox missing from /Page, defaulting to MediaBox\n"
                ]
              },
              {
                "output_type": "stream",
                "name": "stderr",
                "text": [
                  "WARNING:pdfminer.pdfpage:CropBox missing from /Page, defaulting to MediaBox\n"
                ]
              },
              {
                "output_type": "stream",
                "name": "stderr",
                "text": [
                  "WARNING:pdfminer.pdfpage:CropBox missing from /Page, defaulting to MediaBox\n"
                ]
              },
              {
                "output_type": "stream",
                "name": "stderr",
                "text": [
                  "WARNING:pdfminer.pdfpage:CropBox missing from /Page, defaulting to MediaBox\n"
                ]
              },
              {
                "output_type": "stream",
                "name": "stderr",
                "text": [
                  "WARNING:pdfminer.pdfpage:CropBox missing from /Page, defaulting to MediaBox\n"
                ]
              },
              {
                "output_type": "stream",
                "name": "stderr",
                "text": [
                  "WARNING:pdfminer.pdfpage:CropBox missing from /Page, defaulting to MediaBox\n"
                ]
              },
              {
                "output_type": "stream",
                "name": "stderr",
                "text": [
                  "WARNING:pdfminer.pdfpage:CropBox missing from /Page, defaulting to MediaBox\n"
                ]
              },
              {
                "output_type": "stream",
                "name": "stderr",
                "text": [
                  "WARNING:pdfminer.pdfpage:CropBox missing from /Page, defaulting to MediaBox\n"
                ]
              },
              {
                "output_type": "stream",
                "name": "stderr",
                "text": [
                  "WARNING:pdfminer.pdfpage:CropBox missing from /Page, defaulting to MediaBox\n"
                ]
              },
              {
                "output_type": "stream",
                "name": "stderr",
                "text": [
                  "WARNING:pdfminer.pdfpage:CropBox missing from /Page, defaulting to MediaBox\n"
                ]
              },
              {
                "output_type": "stream",
                "name": "stderr",
                "text": [
                  "WARNING:pdfminer.pdfpage:CropBox missing from /Page, defaulting to MediaBox\n"
                ]
              },
              {
                "output_type": "stream",
                "name": "stderr",
                "text": [
                  "WARNING:pdfminer.pdfpage:CropBox missing from /Page, defaulting to MediaBox\n"
                ]
              },
              {
                "output_type": "stream",
                "name": "stderr",
                "text": [
                  "WARNING:pdfminer.pdfpage:CropBox missing from /Page, defaulting to MediaBox\n"
                ]
              },
              {
                "output_type": "stream",
                "name": "stderr",
                "text": [
                  "WARNING:pdfminer.pdfpage:CropBox missing from /Page, defaulting to MediaBox\n"
                ]
              },
              {
                "output_type": "stream",
                "name": "stderr",
                "text": [
                  "WARNING:pdfminer.pdfpage:CropBox missing from /Page, defaulting to MediaBox\n"
                ]
              },
              {
                "output_type": "stream",
                "name": "stderr",
                "text": [
                  "WARNING:pdfminer.pdfpage:CropBox missing from /Page, defaulting to MediaBox\n"
                ]
              },
              {
                "output_type": "stream",
                "name": "stderr",
                "text": [
                  "WARNING:pdfminer.pdfpage:CropBox missing from /Page, defaulting to MediaBox\n"
                ]
              },
              {
                "output_type": "stream",
                "name": "stderr",
                "text": [
                  "WARNING:pdfminer.pdfpage:CropBox missing from /Page, defaulting to MediaBox\n"
                ]
              },
              {
                "output_type": "stream",
                "name": "stderr",
                "text": [
                  "WARNING:pdfminer.pdfpage:CropBox missing from /Page, defaulting to MediaBox\n"
                ]
              },
              {
                "output_type": "stream",
                "name": "stderr",
                "text": [
                  "WARNING:pdfminer.pdfpage:CropBox missing from /Page, defaulting to MediaBox\n"
                ]
              },
              {
                "output_type": "stream",
                "name": "stderr",
                "text": [
                  "WARNING:pdfminer.pdfpage:CropBox missing from /Page, defaulting to MediaBox\n"
                ]
              },
              {
                "output_type": "stream",
                "name": "stderr",
                "text": [
                  "WARNING:pdfminer.pdfpage:CropBox missing from /Page, defaulting to MediaBox\n"
                ]
              },
              {
                "output_type": "stream",
                "name": "stderr",
                "text": [
                  "WARNING:pdfminer.pdfpage:CropBox missing from /Page, defaulting to MediaBox\n"
                ]
              },
              {
                "output_type": "stream",
                "name": "stderr",
                "text": [
                  "WARNING:pdfminer.pdfpage:CropBox missing from /Page, defaulting to MediaBox\n"
                ]
              },
              {
                "output_type": "stream",
                "name": "stderr",
                "text": [
                  "WARNING:pdfminer.pdfpage:CropBox missing from /Page, defaulting to MediaBox\n"
                ]
              },
              {
                "output_type": "stream",
                "name": "stderr",
                "text": [
                  "WARNING:pdfminer.pdfpage:CropBox missing from /Page, defaulting to MediaBox\n"
                ]
              },
              {
                "output_type": "stream",
                "name": "stderr",
                "text": [
                  "WARNING:pdfminer.pdfpage:CropBox missing from /Page, defaulting to MediaBox\n"
                ]
              },
              {
                "output_type": "stream",
                "name": "stderr",
                "text": [
                  "WARNING:pdfminer.pdfpage:CropBox missing from /Page, defaulting to MediaBox\n"
                ]
              },
              {
                "output_type": "stream",
                "name": "stderr",
                "text": [
                  "WARNING:pdfminer.pdfpage:CropBox missing from /Page, defaulting to MediaBox\n"
                ]
              },
              {
                "output_type": "stream",
                "name": "stderr",
                "text": [
                  "WARNING:pdfminer.pdfpage:CropBox missing from /Page, defaulting to MediaBox\n"
                ]
              },
              {
                "output_type": "stream",
                "name": "stderr",
                "text": [
                  "WARNING:pdfminer.pdfpage:CropBox missing from /Page, defaulting to MediaBox\n"
                ]
              },
              {
                "output_type": "stream",
                "name": "stderr",
                "text": [
                  "WARNING:pdfminer.pdfpage:CropBox missing from /Page, defaulting to MediaBox\n"
                ]
              },
              {
                "output_type": "stream",
                "name": "stderr",
                "text": [
                  "WARNING:pdfminer.pdfpage:CropBox missing from /Page, defaulting to MediaBox\n"
                ]
              },
              {
                "output_type": "stream",
                "name": "stderr",
                "text": [
                  "WARNING:pdfminer.pdfpage:CropBox missing from /Page, defaulting to MediaBox\n"
                ]
              },
              {
                "output_type": "stream",
                "name": "stderr",
                "text": [
                  "WARNING:pdfminer.pdfpage:CropBox missing from /Page, defaulting to MediaBox\n"
                ]
              },
              {
                "output_type": "stream",
                "name": "stderr",
                "text": [
                  "WARNING:pdfminer.pdfpage:CropBox missing from /Page, defaulting to MediaBox\n"
                ]
              },
              {
                "output_type": "stream",
                "name": "stderr",
                "text": [
                  "WARNING:pdfminer.pdfpage:CropBox missing from /Page, defaulting to MediaBox\n"
                ]
              },
              {
                "output_type": "stream",
                "name": "stderr",
                "text": [
                  "WARNING:pdfminer.pdfpage:CropBox missing from /Page, defaulting to MediaBox\n"
                ]
              },
              {
                "output_type": "stream",
                "name": "stderr",
                "text": [
                  "WARNING:pdfminer.pdfpage:CropBox missing from /Page, defaulting to MediaBox\n"
                ]
              },
              {
                "output_type": "stream",
                "name": "stderr",
                "text": [
                  "WARNING:pdfminer.pdfpage:CropBox missing from /Page, defaulting to MediaBox\n"
                ]
              },
              {
                "output_type": "stream",
                "name": "stderr",
                "text": [
                  "WARNING:pdfminer.pdfpage:CropBox missing from /Page, defaulting to MediaBox\n"
                ]
              },
              {
                "output_type": "stream",
                "name": "stderr",
                "text": [
                  "WARNING:pdfminer.pdfpage:CropBox missing from /Page, defaulting to MediaBox\n"
                ]
              },
              {
                "output_type": "stream",
                "name": "stderr",
                "text": [
                  "WARNING:pdfminer.pdfpage:CropBox missing from /Page, defaulting to MediaBox\n"
                ]
              },
              {
                "output_type": "stream",
                "name": "stderr",
                "text": [
                  "WARNING:pdfminer.pdfpage:CropBox missing from /Page, defaulting to MediaBox\n"
                ]
              },
              {
                "output_type": "stream",
                "name": "stderr",
                "text": [
                  "WARNING:pdfminer.pdfpage:CropBox missing from /Page, defaulting to MediaBox\n"
                ]
              },
              {
                "output_type": "stream",
                "name": "stderr",
                "text": [
                  "WARNING:pdfminer.pdfpage:CropBox missing from /Page, defaulting to MediaBox\n"
                ]
              },
              {
                "output_type": "stream",
                "name": "stderr",
                "text": [
                  "WARNING:pdfminer.pdfpage:CropBox missing from /Page, defaulting to MediaBox\n"
                ]
              },
              {
                "output_type": "stream",
                "name": "stderr",
                "text": [
                  "WARNING:pdfminer.pdfpage:CropBox missing from /Page, defaulting to MediaBox\n"
                ]
              },
              {
                "output_type": "stream",
                "name": "stderr",
                "text": [
                  "WARNING:pdfminer.pdfpage:CropBox missing from /Page, defaulting to MediaBox\n"
                ]
              },
              {
                "output_type": "stream",
                "name": "stderr",
                "text": [
                  "WARNING:pdfminer.pdfpage:CropBox missing from /Page, defaulting to MediaBox\n"
                ]
              },
              {
                "output_type": "stream",
                "name": "stderr",
                "text": [
                  "WARNING:pdfminer.pdfpage:CropBox missing from /Page, defaulting to MediaBox\n"
                ]
              },
              {
                "output_type": "stream",
                "name": "stderr",
                "text": [
                  "WARNING:pdfminer.pdfpage:CropBox missing from /Page, defaulting to MediaBox\n"
                ]
              },
              {
                "output_type": "stream",
                "name": "stderr",
                "text": [
                  "WARNING:pdfminer.pdfpage:CropBox missing from /Page, defaulting to MediaBox\n"
                ]
              },
              {
                "output_type": "stream",
                "name": "stderr",
                "text": [
                  "WARNING:pdfminer.pdfpage:CropBox missing from /Page, defaulting to MediaBox\n"
                ]
              },
              {
                "output_type": "stream",
                "name": "stderr",
                "text": [
                  "WARNING:pdfminer.pdfpage:CropBox missing from /Page, defaulting to MediaBox\n"
                ]
              },
              {
                "output_type": "stream",
                "name": "stderr",
                "text": [
                  "WARNING:pdfminer.pdfpage:CropBox missing from /Page, defaulting to MediaBox\n"
                ]
              },
              {
                "output_type": "stream",
                "name": "stderr",
                "text": [
                  "WARNING:pdfminer.pdfpage:CropBox missing from /Page, defaulting to MediaBox\n"
                ]
              },
              {
                "output_type": "stream",
                "name": "stderr",
                "text": [
                  "WARNING:pdfminer.pdfpage:CropBox missing from /Page, defaulting to MediaBox\n"
                ]
              },
              {
                "output_type": "stream",
                "name": "stderr",
                "text": [
                  "WARNING:pdfminer.pdfpage:CropBox missing from /Page, defaulting to MediaBox\n"
                ]
              },
              {
                "output_type": "stream",
                "name": "stderr",
                "text": [
                  "WARNING:pdfminer.pdfpage:CropBox missing from /Page, defaulting to MediaBox\n"
                ]
              },
              {
                "output_type": "stream",
                "name": "stderr",
                "text": [
                  "WARNING:pdfminer.pdfpage:CropBox missing from /Page, defaulting to MediaBox\n"
                ]
              },
              {
                "output_type": "stream",
                "name": "stderr",
                "text": [
                  "WARNING:pdfminer.pdfpage:CropBox missing from /Page, defaulting to MediaBox\n"
                ]
              },
              {
                "output_type": "stream",
                "name": "stderr",
                "text": [
                  "WARNING:pdfminer.pdfpage:CropBox missing from /Page, defaulting to MediaBox\n"
                ]
              },
              {
                "output_type": "stream",
                "name": "stderr",
                "text": [
                  "WARNING:pdfminer.pdfpage:CropBox missing from /Page, defaulting to MediaBox\n"
                ]
              },
              {
                "output_type": "stream",
                "name": "stderr",
                "text": [
                  "WARNING:pdfminer.pdfpage:CropBox missing from /Page, defaulting to MediaBox\n"
                ]
              },
              {
                "output_type": "stream",
                "name": "stdout",
                "text": [
                  "Processed Ethereum Smart Contracts Optimization.pdf: Successfully added to FAISS.\n",
                  "All cryptocurrency-related PDFs processed successfully.\n"
                ]
              }
            ]
          }
        },
        "f0f5538dde404bee9f2b631ba85abb16": {
          "model_module": "@jupyter-widgets/base",
          "model_name": "LayoutModel",
          "model_module_version": "1.2.0",
          "state": {
            "_model_module": "@jupyter-widgets/base",
            "_model_module_version": "1.2.0",
            "_model_name": "LayoutModel",
            "_view_count": null,
            "_view_module": "@jupyter-widgets/base",
            "_view_module_version": "1.2.0",
            "_view_name": "LayoutView",
            "align_content": null,
            "align_items": null,
            "align_self": null,
            "border": null,
            "bottom": null,
            "display": null,
            "flex": null,
            "flex_flow": null,
            "grid_area": null,
            "grid_auto_columns": null,
            "grid_auto_flow": null,
            "grid_auto_rows": null,
            "grid_column": null,
            "grid_gap": null,
            "grid_row": null,
            "grid_template_areas": null,
            "grid_template_columns": null,
            "grid_template_rows": null,
            "height": null,
            "justify_content": null,
            "justify_items": null,
            "left": null,
            "margin": null,
            "max_height": null,
            "max_width": null,
            "min_height": null,
            "min_width": null,
            "object_fit": null,
            "object_position": null,
            "order": null,
            "overflow": null,
            "overflow_x": null,
            "overflow_y": null,
            "padding": null,
            "right": null,
            "top": null,
            "visibility": null,
            "width": null
          }
        }
      }
    }
  },
  "nbformat": 4,
  "nbformat_minor": 0
}